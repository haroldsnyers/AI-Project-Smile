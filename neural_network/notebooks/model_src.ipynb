{
 "cells": [
  {
   "cell_type": "markdown",
   "metadata": {
    "collapsed": true,
    "pycharm": {
     "name": "#%% md\n"
    }
   },
   "source": [
    "## Importing libraries"
   ]
  },
  {
   "cell_type": "code",
   "execution_count": 1,
   "metadata": {},
   "outputs": [],
   "source": [
    "from datetime import datetime\n",
    "import os\n",
    "import sys"
   ]
  },
  {
   "cell_type": "code",
   "execution_count": 2,
   "metadata": {},
   "outputs": [
    {
     "output_type": "stream",
     "name": "stdout",
     "text": [
      "c:\\Github\\ECAM\\machine_learning\\AI-Project-Smile\n"
     ]
    }
   ],
   "source": [
    "module_path = os.path.abspath(os.path.join('../..'))\n",
    "if module_path not in sys.path:\n",
    "    sys.path.append(module_path)\n",
    "print(module_path)"
   ]
  },
  {
   "cell_type": "code",
   "execution_count": 3,
   "outputs": [],
   "source": [
    "from datetime import datetime\n",
    "from keras.optimizers import Adam\n",
    "from neural_network.src.data_preprocessing import DataPreProcessor\n",
    "from neural_network.src.cnn_model import CNNModel"
   ],
   "metadata": {
    "collapsed": false,
    "pycharm": {
     "name": "#%%\n"
    }
   }
  },
  {
   "cell_type": "markdown",
   "source": [
    "## Initialise parameters dataset"
   ],
   "metadata": {
    "collapsed": false
   }
  },
  {
   "cell_type": "code",
   "execution_count": 4,
   "outputs": [],
   "source": [
    "# train_dir = '../dataset/fer2013/train/'\n",
    "# test_dir = '../dataset/fer2013/test/'\n",
    "\n",
    "# row, col = 48, 48\n",
    "# classes = 7\n",
    "\n",
    "train_dir = 'neural_network/dataset/affectnet8/train/'\n",
    "test_dir = 'neural_network/dataset/affectnet8/val/'\n",
    "\n",
    "row, col = 224, 224\n",
    "classes = 8"
   ],
   "metadata": {
    "collapsed": false,
    "pycharm": {
     "name": "#%%\n"
    }
   }
  },
  {
   "cell_type": "markdown",
   "source": [
    "## Preprocessing the Data"
   ],
   "metadata": {
    "collapsed": false,
    "pycharm": {
     "name": "#%% md\n"
    }
   }
  },
  {
   "cell_type": "code",
   "execution_count": 5,
   "outputs": [
    {
     "output_type": "stream",
     "name": "stdout",
     "text": [
      "Found 28709 images belonging to 7 classes.\n",
      "Found 7178 images belonging to 7 classes.\n"
     ]
    }
   ],
   "source": [
    "data_processor = DataPreProcessor(images_train_dir=train_dir, images_test_dir=test_dir)"
   ],
   "metadata": {
    "collapsed": false,
    "pycharm": {
     "name": "#%%\n"
    }
   }
  },
  {
   "cell_type": "markdown",
   "source": [
    "### Get data set count training and testing"
   ],
   "metadata": {
    "collapsed": false,
    "pycharm": {
     "name": "#%% md\n"
    }
   }
  },
  {
   "cell_type": "code",
   "execution_count": 6,
   "outputs": [
    {
     "output_type": "execute_result",
     "data": {
      "text/plain": [
       "       angry  disgust  fear  happy  neutral   sad  surprise\n",
       "train   3995      436  4097   7215     4965  4830      3171"
      ],
      "text/html": "<div>\n<style scoped>\n    .dataframe tbody tr th:only-of-type {\n        vertical-align: middle;\n    }\n\n    .dataframe tbody tr th {\n        vertical-align: top;\n    }\n\n    .dataframe thead th {\n        text-align: right;\n    }\n</style>\n<table border=\"1\" class=\"dataframe\">\n  <thead>\n    <tr style=\"text-align: right;\">\n      <th></th>\n      <th>angry</th>\n      <th>disgust</th>\n      <th>fear</th>\n      <th>happy</th>\n      <th>neutral</th>\n      <th>sad</th>\n      <th>surprise</th>\n    </tr>\n  </thead>\n  <tbody>\n    <tr>\n      <th>train</th>\n      <td>3995</td>\n      <td>436</td>\n      <td>4097</td>\n      <td>7215</td>\n      <td>4965</td>\n      <td>4830</td>\n      <td>3171</td>\n    </tr>\n  </tbody>\n</table>\n</div>"
     },
     "metadata": {},
     "execution_count": 6
    }
   ],
   "source": [
    "data_processor.get_train_count"
   ],
   "metadata": {
    "collapsed": false,
    "pycharm": {
     "name": "#%%\n"
    }
   }
  },
  {
   "cell_type": "code",
   "execution_count": 7,
   "outputs": [
    {
     "output_type": "execute_result",
     "data": {
      "text/plain": [
       "      angry  disgust  fear  happy  neutral   sad  surprise\n",
       "test    958      111  1024   1774     1233  1247       831"
      ],
      "text/html": "<div>\n<style scoped>\n    .dataframe tbody tr th:only-of-type {\n        vertical-align: middle;\n    }\n\n    .dataframe tbody tr th {\n        vertical-align: top;\n    }\n\n    .dataframe thead th {\n        text-align: right;\n    }\n</style>\n<table border=\"1\" class=\"dataframe\">\n  <thead>\n    <tr style=\"text-align: right;\">\n      <th></th>\n      <th>angry</th>\n      <th>disgust</th>\n      <th>fear</th>\n      <th>happy</th>\n      <th>neutral</th>\n      <th>sad</th>\n      <th>surprise</th>\n    </tr>\n  </thead>\n  <tbody>\n    <tr>\n      <th>test</th>\n      <td>958</td>\n      <td>111</td>\n      <td>1024</td>\n      <td>1774</td>\n      <td>1233</td>\n      <td>1247</td>\n      <td>831</td>\n    </tr>\n  </tbody>\n</table>\n</div>"
     },
     "metadata": {},
     "execution_count": 7
    }
   ],
   "source": [
    "data_processor.get_test_count"
   ],
   "metadata": {
    "collapsed": false,
    "pycharm": {
     "name": "#%%\n"
    }
   }
  },
  {
   "cell_type": "markdown",
   "source": [
    "### Plot number of images in dataset"
   ],
   "metadata": {
    "collapsed": false
   }
  },
  {
   "cell_type": "code",
   "execution_count": 8,
   "outputs": [
    {
     "output_type": "display_data",
     "data": {
      "application/vnd.plotly.v1+json": {
       "config": {
        "plotlyServerURL": "https://plot.ly"
       },
       "data": [
        {
         "alignmentgroup": "True",
         "hovertemplate": "variable=train<br>index=%{x}<br>value=%{y}<extra></extra>",
         "legendgroup": "train",
         "marker": {
          "color": "#636efa"
         },
         "name": "train",
         "offsetgroup": "train",
         "orientation": "v",
         "showlegend": true,
         "textposition": "auto",
         "type": "bar",
         "x": [
          "angry",
          "disgust",
          "fear",
          "happy",
          "neutral",
          "sad",
          "surprise"
         ],
         "xaxis": "x",
         "y": [
          3995,
          436,
          4097,
          7215,
          4965,
          4830,
          3171
         ],
         "yaxis": "y"
        },
        {
         "alignmentgroup": "True",
         "hovertemplate": "variable=test<br>index=%{x}<br>value=%{y}<extra></extra>",
         "legendgroup": "test",
         "marker": {
          "color": "#EF553B"
         },
         "name": "test",
         "offsetgroup": "test",
         "orientation": "v",
         "showlegend": true,
         "textposition": "auto",
         "type": "bar",
         "x": [
          "angry",
          "disgust",
          "fear",
          "happy",
          "neutral",
          "sad",
          "surprise"
         ],
         "xaxis": "x",
         "y": [
          958,
          111,
          1024,
          1774,
          1233,
          1247,
          831
         ],
         "yaxis": "y"
        }
       ],
       "layout": {
        "barmode": "relative",
        "legend": {
         "title": {
          "text": "variable"
         },
         "tracegroupgap": 0
        },
        "template": {
         "data": {
          "bar": [
           {
            "error_x": {
             "color": "#2a3f5f"
            },
            "error_y": {
             "color": "#2a3f5f"
            },
            "marker": {
             "line": {
              "color": "#E5ECF6",
              "width": 0.5
             }
            },
            "type": "bar"
           }
          ],
          "barpolar": [
           {
            "marker": {
             "line": {
              "color": "#E5ECF6",
              "width": 0.5
             }
            },
            "type": "barpolar"
           }
          ],
          "carpet": [
           {
            "aaxis": {
             "endlinecolor": "#2a3f5f",
             "gridcolor": "white",
             "linecolor": "white",
             "minorgridcolor": "white",
             "startlinecolor": "#2a3f5f"
            },
            "baxis": {
             "endlinecolor": "#2a3f5f",
             "gridcolor": "white",
             "linecolor": "white",
             "minorgridcolor": "white",
             "startlinecolor": "#2a3f5f"
            },
            "type": "carpet"
           }
          ],
          "choropleth": [
           {
            "colorbar": {
             "outlinewidth": 0,
             "ticks": ""
            },
            "type": "choropleth"
           }
          ],
          "contour": [
           {
            "colorbar": {
             "outlinewidth": 0,
             "ticks": ""
            },
            "colorscale": [
             [
              0,
              "#0d0887"
             ],
             [
              0.1111111111111111,
              "#46039f"
             ],
             [
              0.2222222222222222,
              "#7201a8"
             ],
             [
              0.3333333333333333,
              "#9c179e"
             ],
             [
              0.4444444444444444,
              "#bd3786"
             ],
             [
              0.5555555555555556,
              "#d8576b"
             ],
             [
              0.6666666666666666,
              "#ed7953"
             ],
             [
              0.7777777777777778,
              "#fb9f3a"
             ],
             [
              0.8888888888888888,
              "#fdca26"
             ],
             [
              1,
              "#f0f921"
             ]
            ],
            "type": "contour"
           }
          ],
          "contourcarpet": [
           {
            "colorbar": {
             "outlinewidth": 0,
             "ticks": ""
            },
            "type": "contourcarpet"
           }
          ],
          "heatmap": [
           {
            "colorbar": {
             "outlinewidth": 0,
             "ticks": ""
            },
            "colorscale": [
             [
              0,
              "#0d0887"
             ],
             [
              0.1111111111111111,
              "#46039f"
             ],
             [
              0.2222222222222222,
              "#7201a8"
             ],
             [
              0.3333333333333333,
              "#9c179e"
             ],
             [
              0.4444444444444444,
              "#bd3786"
             ],
             [
              0.5555555555555556,
              "#d8576b"
             ],
             [
              0.6666666666666666,
              "#ed7953"
             ],
             [
              0.7777777777777778,
              "#fb9f3a"
             ],
             [
              0.8888888888888888,
              "#fdca26"
             ],
             [
              1,
              "#f0f921"
             ]
            ],
            "type": "heatmap"
           }
          ],
          "heatmapgl": [
           {
            "colorbar": {
             "outlinewidth": 0,
             "ticks": ""
            },
            "colorscale": [
             [
              0,
              "#0d0887"
             ],
             [
              0.1111111111111111,
              "#46039f"
             ],
             [
              0.2222222222222222,
              "#7201a8"
             ],
             [
              0.3333333333333333,
              "#9c179e"
             ],
             [
              0.4444444444444444,
              "#bd3786"
             ],
             [
              0.5555555555555556,
              "#d8576b"
             ],
             [
              0.6666666666666666,
              "#ed7953"
             ],
             [
              0.7777777777777778,
              "#fb9f3a"
             ],
             [
              0.8888888888888888,
              "#fdca26"
             ],
             [
              1,
              "#f0f921"
             ]
            ],
            "type": "heatmapgl"
           }
          ],
          "histogram": [
           {
            "marker": {
             "colorbar": {
              "outlinewidth": 0,
              "ticks": ""
             }
            },
            "type": "histogram"
           }
          ],
          "histogram2d": [
           {
            "colorbar": {
             "outlinewidth": 0,
             "ticks": ""
            },
            "colorscale": [
             [
              0,
              "#0d0887"
             ],
             [
              0.1111111111111111,
              "#46039f"
             ],
             [
              0.2222222222222222,
              "#7201a8"
             ],
             [
              0.3333333333333333,
              "#9c179e"
             ],
             [
              0.4444444444444444,
              "#bd3786"
             ],
             [
              0.5555555555555556,
              "#d8576b"
             ],
             [
              0.6666666666666666,
              "#ed7953"
             ],
             [
              0.7777777777777778,
              "#fb9f3a"
             ],
             [
              0.8888888888888888,
              "#fdca26"
             ],
             [
              1,
              "#f0f921"
             ]
            ],
            "type": "histogram2d"
           }
          ],
          "histogram2dcontour": [
           {
            "colorbar": {
             "outlinewidth": 0,
             "ticks": ""
            },
            "colorscale": [
             [
              0,
              "#0d0887"
             ],
             [
              0.1111111111111111,
              "#46039f"
             ],
             [
              0.2222222222222222,
              "#7201a8"
             ],
             [
              0.3333333333333333,
              "#9c179e"
             ],
             [
              0.4444444444444444,
              "#bd3786"
             ],
             [
              0.5555555555555556,
              "#d8576b"
             ],
             [
              0.6666666666666666,
              "#ed7953"
             ],
             [
              0.7777777777777778,
              "#fb9f3a"
             ],
             [
              0.8888888888888888,
              "#fdca26"
             ],
             [
              1,
              "#f0f921"
             ]
            ],
            "type": "histogram2dcontour"
           }
          ],
          "mesh3d": [
           {
            "colorbar": {
             "outlinewidth": 0,
             "ticks": ""
            },
            "type": "mesh3d"
           }
          ],
          "parcoords": [
           {
            "line": {
             "colorbar": {
              "outlinewidth": 0,
              "ticks": ""
             }
            },
            "type": "parcoords"
           }
          ],
          "pie": [
           {
            "automargin": true,
            "type": "pie"
           }
          ],
          "scatter": [
           {
            "marker": {
             "colorbar": {
              "outlinewidth": 0,
              "ticks": ""
             }
            },
            "type": "scatter"
           }
          ],
          "scatter3d": [
           {
            "line": {
             "colorbar": {
              "outlinewidth": 0,
              "ticks": ""
             }
            },
            "marker": {
             "colorbar": {
              "outlinewidth": 0,
              "ticks": ""
             }
            },
            "type": "scatter3d"
           }
          ],
          "scattercarpet": [
           {
            "marker": {
             "colorbar": {
              "outlinewidth": 0,
              "ticks": ""
             }
            },
            "type": "scattercarpet"
           }
          ],
          "scattergeo": [
           {
            "marker": {
             "colorbar": {
              "outlinewidth": 0,
              "ticks": ""
             }
            },
            "type": "scattergeo"
           }
          ],
          "scattergl": [
           {
            "marker": {
             "colorbar": {
              "outlinewidth": 0,
              "ticks": ""
             }
            },
            "type": "scattergl"
           }
          ],
          "scattermapbox": [
           {
            "marker": {
             "colorbar": {
              "outlinewidth": 0,
              "ticks": ""
             }
            },
            "type": "scattermapbox"
           }
          ],
          "scatterpolar": [
           {
            "marker": {
             "colorbar": {
              "outlinewidth": 0,
              "ticks": ""
             }
            },
            "type": "scatterpolar"
           }
          ],
          "scatterpolargl": [
           {
            "marker": {
             "colorbar": {
              "outlinewidth": 0,
              "ticks": ""
             }
            },
            "type": "scatterpolargl"
           }
          ],
          "scatterternary": [
           {
            "marker": {
             "colorbar": {
              "outlinewidth": 0,
              "ticks": ""
             }
            },
            "type": "scatterternary"
           }
          ],
          "surface": [
           {
            "colorbar": {
             "outlinewidth": 0,
             "ticks": ""
            },
            "colorscale": [
             [
              0,
              "#0d0887"
             ],
             [
              0.1111111111111111,
              "#46039f"
             ],
             [
              0.2222222222222222,
              "#7201a8"
             ],
             [
              0.3333333333333333,
              "#9c179e"
             ],
             [
              0.4444444444444444,
              "#bd3786"
             ],
             [
              0.5555555555555556,
              "#d8576b"
             ],
             [
              0.6666666666666666,
              "#ed7953"
             ],
             [
              0.7777777777777778,
              "#fb9f3a"
             ],
             [
              0.8888888888888888,
              "#fdca26"
             ],
             [
              1,
              "#f0f921"
             ]
            ],
            "type": "surface"
           }
          ],
          "table": [
           {
            "cells": {
             "fill": {
              "color": "#EBF0F8"
             },
             "line": {
              "color": "white"
             }
            },
            "header": {
             "fill": {
              "color": "#C8D4E3"
             },
             "line": {
              "color": "white"
             }
            },
            "type": "table"
           }
          ]
         },
         "layout": {
          "annotationdefaults": {
           "arrowcolor": "#2a3f5f",
           "arrowhead": 0,
           "arrowwidth": 1
          },
          "autotypenumbers": "strict",
          "coloraxis": {
           "colorbar": {
            "outlinewidth": 0,
            "ticks": ""
           }
          },
          "colorscale": {
           "diverging": [
            [
             0,
             "#8e0152"
            ],
            [
             0.1,
             "#c51b7d"
            ],
            [
             0.2,
             "#de77ae"
            ],
            [
             0.3,
             "#f1b6da"
            ],
            [
             0.4,
             "#fde0ef"
            ],
            [
             0.5,
             "#f7f7f7"
            ],
            [
             0.6,
             "#e6f5d0"
            ],
            [
             0.7,
             "#b8e186"
            ],
            [
             0.8,
             "#7fbc41"
            ],
            [
             0.9,
             "#4d9221"
            ],
            [
             1,
             "#276419"
            ]
           ],
           "sequential": [
            [
             0,
             "#0d0887"
            ],
            [
             0.1111111111111111,
             "#46039f"
            ],
            [
             0.2222222222222222,
             "#7201a8"
            ],
            [
             0.3333333333333333,
             "#9c179e"
            ],
            [
             0.4444444444444444,
             "#bd3786"
            ],
            [
             0.5555555555555556,
             "#d8576b"
            ],
            [
             0.6666666666666666,
             "#ed7953"
            ],
            [
             0.7777777777777778,
             "#fb9f3a"
            ],
            [
             0.8888888888888888,
             "#fdca26"
            ],
            [
             1,
             "#f0f921"
            ]
           ],
           "sequentialminus": [
            [
             0,
             "#0d0887"
            ],
            [
             0.1111111111111111,
             "#46039f"
            ],
            [
             0.2222222222222222,
             "#7201a8"
            ],
            [
             0.3333333333333333,
             "#9c179e"
            ],
            [
             0.4444444444444444,
             "#bd3786"
            ],
            [
             0.5555555555555556,
             "#d8576b"
            ],
            [
             0.6666666666666666,
             "#ed7953"
            ],
            [
             0.7777777777777778,
             "#fb9f3a"
            ],
            [
             0.8888888888888888,
             "#fdca26"
            ],
            [
             1,
             "#f0f921"
            ]
           ]
          },
          "colorway": [
           "#636efa",
           "#EF553B",
           "#00cc96",
           "#ab63fa",
           "#FFA15A",
           "#19d3f3",
           "#FF6692",
           "#B6E880",
           "#FF97FF",
           "#FECB52"
          ],
          "font": {
           "color": "#2a3f5f"
          },
          "geo": {
           "bgcolor": "white",
           "lakecolor": "white",
           "landcolor": "#E5ECF6",
           "showlakes": true,
           "showland": true,
           "subunitcolor": "white"
          },
          "hoverlabel": {
           "align": "left"
          },
          "hovermode": "closest",
          "mapbox": {
           "style": "light"
          },
          "paper_bgcolor": "white",
          "plot_bgcolor": "#E5ECF6",
          "polar": {
           "angularaxis": {
            "gridcolor": "white",
            "linecolor": "white",
            "ticks": ""
           },
           "bgcolor": "#E5ECF6",
           "radialaxis": {
            "gridcolor": "white",
            "linecolor": "white",
            "ticks": ""
           }
          },
          "scene": {
           "xaxis": {
            "backgroundcolor": "#E5ECF6",
            "gridcolor": "white",
            "gridwidth": 2,
            "linecolor": "white",
            "showbackground": true,
            "ticks": "",
            "zerolinecolor": "white"
           },
           "yaxis": {
            "backgroundcolor": "#E5ECF6",
            "gridcolor": "white",
            "gridwidth": 2,
            "linecolor": "white",
            "showbackground": true,
            "ticks": "",
            "zerolinecolor": "white"
           },
           "zaxis": {
            "backgroundcolor": "#E5ECF6",
            "gridcolor": "white",
            "gridwidth": 2,
            "linecolor": "white",
            "showbackground": true,
            "ticks": "",
            "zerolinecolor": "white"
           }
          },
          "shapedefaults": {
           "line": {
            "color": "#2a3f5f"
           }
          },
          "ternary": {
           "aaxis": {
            "gridcolor": "white",
            "linecolor": "white",
            "ticks": ""
           },
           "baxis": {
            "gridcolor": "white",
            "linecolor": "white",
            "ticks": ""
           },
           "bgcolor": "#E5ECF6",
           "caxis": {
            "gridcolor": "white",
            "linecolor": "white",
            "ticks": ""
           }
          },
          "title": {
           "x": 0.05
          },
          "xaxis": {
           "automargin": true,
           "gridcolor": "white",
           "linecolor": "white",
           "ticks": "",
           "title": {
            "standoff": 15
           },
           "zerolinecolor": "white",
           "zerolinewidth": 2
          },
          "yaxis": {
           "automargin": true,
           "gridcolor": "white",
           "linecolor": "white",
           "ticks": "",
           "title": {
            "standoff": 15
           },
           "zerolinecolor": "white",
           "zerolinewidth": 2
          }
         }
        },
        "title": {
         "text": "Training (28709) and Test (7178) count"
        },
        "xaxis": {
         "anchor": "y",
         "domain": [
          0,
          1
         ],
         "title": {
          "text": "index"
         }
        },
        "yaxis": {
         "anchor": "x",
         "domain": [
          0,
          1
         ],
         "title": {
          "text": "value"
         }
        }
       }
      }
     },
     "metadata": {}
    }
   ],
   "source": [
    "data_processor.plot_image_count()"
   ],
   "metadata": {
    "collapsed": false,
    "pycharm": {
     "name": "#%%\n"
    }
   }
  },
  {
   "cell_type": "markdown",
   "source": [
    "## Sample images"
   ],
   "metadata": {
    "collapsed": false,
    "pycharm": {
     "name": "#%% md\n"
    }
   }
  },
  {
   "cell_type": "code",
   "execution_count": 9,
   "outputs": [
    {
     "output_type": "display_data",
     "data": {
      "text/plain": "<Figure size 1008x1584 with 7 Axes>",
      "image/svg+xml": "<?xml version=\"1.0\" encoding=\"utf-8\" standalone=\"no\"?>\r\n<!DOCTYPE svg PUBLIC \"-//W3C//DTD SVG 1.1//EN\"\r\n  \"http://www.w3.org/Graphics/SVG/1.1/DTD/svg11.dtd\">\r\n<!-- Created with matplotlib (https://matplotlib.org/) -->\r\n<svg height=\"124.786418pt\" version=\"1.1\" viewBox=\"0 0 795.6 124.786418\" width=\"795.6pt\" xmlns=\"http://www.w3.org/2000/svg\" xmlns:xlink=\"http://www.w3.org/1999/xlink\">\r\n <metadata>\r\n  <rdf:RDF xmlns:cc=\"http://creativecommons.org/ns#\" xmlns:dc=\"http://purl.org/dc/elements/1.1/\" xmlns:rdf=\"http://www.w3.org/1999/02/22-rdf-syntax-ns#\">\r\n   <cc:Work>\r\n    <dc:type rdf:resource=\"http://purl.org/dc/dcmitype/StillImage\"/>\r\n    <dc:date>2021-04-08T02:53:13.598880</dc:date>\r\n    <dc:format>image/svg+xml</dc:format>\r\n    <dc:creator>\r\n     <cc:Agent>\r\n      <dc:title>Matplotlib v3.3.3, https://matplotlib.org/</dc:title>\r\n     </cc:Agent>\r\n    </dc:creator>\r\n   </cc:Work>\r\n  </rdf:RDF>\r\n </metadata>\r\n <defs>\r\n  <style type=\"text/css\">*{stroke-linecap:butt;stroke-linejoin:round;}</style>\r\n </defs>\r\n <g id=\"figure_1\">\r\n  <g id=\"patch_1\">\r\n   <path d=\"M 0 124.786418 \r\nL 795.6 124.786418 \r\nL 795.6 0 \r\nL 0 0 \r\nz\r\n\" style=\"fill:none;\"/>\r\n  </g>\r\n  <g id=\"axes_1\">\r\n   <g clip-path=\"url(#p3908b3e34a)\">\r\n    <image height=\"96\" id=\"imagee2498b448f\" transform=\"scale(1 -1)translate(0 -96)\" width=\"96\" x=\"7.2\" xlink:href=\"data:image/png;base64,\r\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\" y=\"-21.586418\"/>\r\n   </g>\r\n   <g id=\"text_1\">\r\n    <!-- angry -->\r\n    <g transform=\"translate(37.527896 16.318125)scale(0.12 -0.12)\">\r\n     <defs>\r\n      <path d=\"M 34.28125 27.484375 \r\nQ 23.390625 27.484375 19.1875 25 \r\nQ 14.984375 22.515625 14.984375 16.5 \r\nQ 14.984375 11.71875 18.140625 8.90625 \r\nQ 21.296875 6.109375 26.703125 6.109375 \r\nQ 34.1875 6.109375 38.703125 11.40625 \r\nQ 43.21875 16.703125 43.21875 25.484375 \r\nL 43.21875 27.484375 \r\nz\r\nM 52.203125 31.203125 \r\nL 52.203125 0 \r\nL 43.21875 0 \r\nL 43.21875 8.296875 \r\nQ 40.140625 3.328125 35.546875 0.953125 \r\nQ 30.953125 -1.421875 24.3125 -1.421875 \r\nQ 15.921875 -1.421875 10.953125 3.296875 \r\nQ 6 8.015625 6 15.921875 \r\nQ 6 25.140625 12.171875 29.828125 \r\nQ 18.359375 34.515625 30.609375 34.515625 \r\nL 43.21875 34.515625 \r\nL 43.21875 35.40625 \r\nQ 43.21875 41.609375 39.140625 45 \r\nQ 35.0625 48.390625 27.6875 48.390625 \r\nQ 23 48.390625 18.546875 47.265625 \r\nQ 14.109375 46.140625 10.015625 43.890625 \r\nL 10.015625 52.203125 \r\nQ 14.9375 54.109375 19.578125 55.046875 \r\nQ 24.21875 56 28.609375 56 \r\nQ 40.484375 56 46.34375 49.84375 \r\nQ 52.203125 43.703125 52.203125 31.203125 \r\nz\r\n\" id=\"DejaVuSans-97\"/>\r\n      <path d=\"M 54.890625 33.015625 \r\nL 54.890625 0 \r\nL 45.90625 0 \r\nL 45.90625 32.71875 \r\nQ 45.90625 40.484375 42.875 44.328125 \r\nQ 39.84375 48.1875 33.796875 48.1875 \r\nQ 26.515625 48.1875 22.3125 43.546875 \r\nQ 18.109375 38.921875 18.109375 30.90625 \r\nL 18.109375 0 \r\nL 9.078125 0 \r\nL 9.078125 54.6875 \r\nL 18.109375 54.6875 \r\nL 18.109375 46.1875 \r\nQ 21.34375 51.125 25.703125 53.5625 \r\nQ 30.078125 56 35.796875 56 \r\nQ 45.21875 56 50.046875 50.171875 \r\nQ 54.890625 44.34375 54.890625 33.015625 \r\nz\r\n\" id=\"DejaVuSans-110\"/>\r\n      <path d=\"M 45.40625 27.984375 \r\nQ 45.40625 37.75 41.375 43.109375 \r\nQ 37.359375 48.484375 30.078125 48.484375 \r\nQ 22.859375 48.484375 18.828125 43.109375 \r\nQ 14.796875 37.75 14.796875 27.984375 \r\nQ 14.796875 18.265625 18.828125 12.890625 \r\nQ 22.859375 7.515625 30.078125 7.515625 \r\nQ 37.359375 7.515625 41.375 12.890625 \r\nQ 45.40625 18.265625 45.40625 27.984375 \r\nz\r\nM 54.390625 6.78125 \r\nQ 54.390625 -7.171875 48.1875 -13.984375 \r\nQ 42 -20.796875 29.203125 -20.796875 \r\nQ 24.46875 -20.796875 20.265625 -20.09375 \r\nQ 16.0625 -19.390625 12.109375 -17.921875 \r\nL 12.109375 -9.1875 \r\nQ 16.0625 -11.328125 19.921875 -12.34375 \r\nQ 23.78125 -13.375 27.78125 -13.375 \r\nQ 36.625 -13.375 41.015625 -8.765625 \r\nQ 45.40625 -4.15625 45.40625 5.171875 \r\nL 45.40625 9.625 \r\nQ 42.625 4.78125 38.28125 2.390625 \r\nQ 33.9375 0 27.875 0 \r\nQ 17.828125 0 11.671875 7.65625 \r\nQ 5.515625 15.328125 5.515625 27.984375 \r\nQ 5.515625 40.671875 11.671875 48.328125 \r\nQ 17.828125 56 27.875 56 \r\nQ 33.9375 56 38.28125 53.609375 \r\nQ 42.625 51.21875 45.40625 46.390625 \r\nL 45.40625 54.6875 \r\nL 54.390625 54.6875 \r\nz\r\n\" id=\"DejaVuSans-103\"/>\r\n      <path d=\"M 41.109375 46.296875 \r\nQ 39.59375 47.171875 37.8125 47.578125 \r\nQ 36.03125 48 33.890625 48 \r\nQ 26.265625 48 22.1875 43.046875 \r\nQ 18.109375 38.09375 18.109375 28.8125 \r\nL 18.109375 0 \r\nL 9.078125 0 \r\nL 9.078125 54.6875 \r\nL 18.109375 54.6875 \r\nL 18.109375 46.1875 \r\nQ 20.953125 51.171875 25.484375 53.578125 \r\nQ 30.03125 56 36.53125 56 \r\nQ 37.453125 56 38.578125 55.875 \r\nQ 39.703125 55.765625 41.0625 55.515625 \r\nz\r\n\" id=\"DejaVuSans-114\"/>\r\n      <path d=\"M 32.171875 -5.078125 \r\nQ 28.375 -14.84375 24.75 -17.8125 \r\nQ 21.140625 -20.796875 15.09375 -20.796875 \r\nL 7.90625 -20.796875 \r\nL 7.90625 -13.28125 \r\nL 13.1875 -13.28125 \r\nQ 16.890625 -13.28125 18.9375 -11.515625 \r\nQ 21 -9.765625 23.484375 -3.21875 \r\nL 25.09375 0.875 \r\nL 2.984375 54.6875 \r\nL 12.5 54.6875 \r\nL 29.59375 11.921875 \r\nL 46.6875 54.6875 \r\nL 56.203125 54.6875 \r\nz\r\n\" id=\"DejaVuSans-121\"/>\r\n     </defs>\r\n     <use xlink:href=\"#DejaVuSans-97\"/>\r\n     <use x=\"61.279297\" xlink:href=\"#DejaVuSans-110\"/>\r\n     <use x=\"124.658203\" xlink:href=\"#DejaVuSans-103\"/>\r\n     <use x=\"188.134766\" xlink:href=\"#DejaVuSans-114\"/>\r\n     <use x=\"229.248047\" xlink:href=\"#DejaVuSans-121\"/>\r\n    </g>\r\n   </g>\r\n  </g>\r\n  <g id=\"axes_2\">\r\n   <g clip-path=\"url(#p3b7cf22429)\">\r\n    <image height=\"96\" id=\"image860f49fb58\" transform=\"scale(1 -1)translate(0 -96)\" width=\"96\" x=\"121.521951\" xlink:href=\"data:image/png;base64,\r\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\" y=\"-21.586418\"/>\r\n   </g>\r\n   <g id=\"text_2\">\r\n    <!-- disgust -->\r\n    <g transform=\"translate(147.46516 16.318125)scale(0.12 -0.12)\">\r\n     <defs>\r\n      <path d=\"M 45.40625 46.390625 \r\nL 45.40625 75.984375 \r\nL 54.390625 75.984375 \r\nL 54.390625 0 \r\nL 45.40625 0 \r\nL 45.40625 8.203125 \r\nQ 42.578125 3.328125 38.25 0.953125 \r\nQ 33.9375 -1.421875 27.875 -1.421875 \r\nQ 17.96875 -1.421875 11.734375 6.484375 \r\nQ 5.515625 14.40625 5.515625 27.296875 \r\nQ 5.515625 40.1875 11.734375 48.09375 \r\nQ 17.96875 56 27.875 56 \r\nQ 33.9375 56 38.25 53.625 \r\nQ 42.578125 51.265625 45.40625 46.390625 \r\nz\r\nM 14.796875 27.296875 \r\nQ 14.796875 17.390625 18.875 11.75 \r\nQ 22.953125 6.109375 30.078125 6.109375 \r\nQ 37.203125 6.109375 41.296875 11.75 \r\nQ 45.40625 17.390625 45.40625 27.296875 \r\nQ 45.40625 37.203125 41.296875 42.84375 \r\nQ 37.203125 48.484375 30.078125 48.484375 \r\nQ 22.953125 48.484375 18.875 42.84375 \r\nQ 14.796875 37.203125 14.796875 27.296875 \r\nz\r\n\" id=\"DejaVuSans-100\"/>\r\n      <path d=\"M 9.421875 54.6875 \r\nL 18.40625 54.6875 \r\nL 18.40625 0 \r\nL 9.421875 0 \r\nz\r\nM 9.421875 75.984375 \r\nL 18.40625 75.984375 \r\nL 18.40625 64.59375 \r\nL 9.421875 64.59375 \r\nz\r\n\" id=\"DejaVuSans-105\"/>\r\n      <path d=\"M 44.28125 53.078125 \r\nL 44.28125 44.578125 \r\nQ 40.484375 46.53125 36.375 47.5 \r\nQ 32.28125 48.484375 27.875 48.484375 \r\nQ 21.1875 48.484375 17.84375 46.4375 \r\nQ 14.5 44.390625 14.5 40.28125 \r\nQ 14.5 37.15625 16.890625 35.375 \r\nQ 19.28125 33.59375 26.515625 31.984375 \r\nL 29.59375 31.296875 \r\nQ 39.15625 29.25 43.1875 25.515625 \r\nQ 47.21875 21.78125 47.21875 15.09375 \r\nQ 47.21875 7.46875 41.1875 3.015625 \r\nQ 35.15625 -1.421875 24.609375 -1.421875 \r\nQ 20.21875 -1.421875 15.453125 -0.5625 \r\nQ 10.6875 0.296875 5.421875 2 \r\nL 5.421875 11.28125 \r\nQ 10.40625 8.6875 15.234375 7.390625 \r\nQ 20.0625 6.109375 24.8125 6.109375 \r\nQ 31.15625 6.109375 34.5625 8.28125 \r\nQ 37.984375 10.453125 37.984375 14.40625 \r\nQ 37.984375 18.0625 35.515625 20.015625 \r\nQ 33.0625 21.96875 24.703125 23.78125 \r\nL 21.578125 24.515625 \r\nQ 13.234375 26.265625 9.515625 29.90625 \r\nQ 5.8125 33.546875 5.8125 39.890625 \r\nQ 5.8125 47.609375 11.28125 51.796875 \r\nQ 16.75 56 26.8125 56 \r\nQ 31.78125 56 36.171875 55.265625 \r\nQ 40.578125 54.546875 44.28125 53.078125 \r\nz\r\n\" id=\"DejaVuSans-115\"/>\r\n      <path d=\"M 8.5 21.578125 \r\nL 8.5 54.6875 \r\nL 17.484375 54.6875 \r\nL 17.484375 21.921875 \r\nQ 17.484375 14.15625 20.5 10.265625 \r\nQ 23.53125 6.390625 29.59375 6.390625 \r\nQ 36.859375 6.390625 41.078125 11.03125 \r\nQ 45.3125 15.671875 45.3125 23.6875 \r\nL 45.3125 54.6875 \r\nL 54.296875 54.6875 \r\nL 54.296875 0 \r\nL 45.3125 0 \r\nL 45.3125 8.40625 \r\nQ 42.046875 3.421875 37.71875 1 \r\nQ 33.40625 -1.421875 27.6875 -1.421875 \r\nQ 18.265625 -1.421875 13.375 4.4375 \r\nQ 8.5 10.296875 8.5 21.578125 \r\nz\r\nM 31.109375 56 \r\nz\r\n\" id=\"DejaVuSans-117\"/>\r\n      <path d=\"M 18.3125 70.21875 \r\nL 18.3125 54.6875 \r\nL 36.8125 54.6875 \r\nL 36.8125 47.703125 \r\nL 18.3125 47.703125 \r\nL 18.3125 18.015625 \r\nQ 18.3125 11.328125 20.140625 9.421875 \r\nQ 21.96875 7.515625 27.59375 7.515625 \r\nL 36.8125 7.515625 \r\nL 36.8125 0 \r\nL 27.59375 0 \r\nQ 17.1875 0 13.234375 3.875 \r\nQ 9.28125 7.765625 9.28125 18.015625 \r\nL 9.28125 47.703125 \r\nL 2.6875 47.703125 \r\nL 2.6875 54.6875 \r\nL 9.28125 54.6875 \r\nL 9.28125 70.21875 \r\nz\r\n\" id=\"DejaVuSans-116\"/>\r\n     </defs>\r\n     <use xlink:href=\"#DejaVuSans-100\"/>\r\n     <use x=\"63.476562\" xlink:href=\"#DejaVuSans-105\"/>\r\n     <use x=\"91.259766\" xlink:href=\"#DejaVuSans-115\"/>\r\n     <use x=\"143.359375\" xlink:href=\"#DejaVuSans-103\"/>\r\n     <use x=\"206.835938\" xlink:href=\"#DejaVuSans-117\"/>\r\n     <use x=\"270.214844\" xlink:href=\"#DejaVuSans-115\"/>\r\n     <use x=\"322.314453\" xlink:href=\"#DejaVuSans-116\"/>\r\n    </g>\r\n   </g>\r\n  </g>\r\n  <g id=\"axes_3\">\r\n   <g clip-path=\"url(#pb6d4a823ef)\">\r\n    <image height=\"96\" id=\"image9490048ed4\" transform=\"scale(1 -1)translate(0 -96)\" width=\"96\" x=\"235.843902\" xlink:href=\"data:image/png;base64,\r\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\" y=\"-21.586418\"/>\r\n   </g>\r\n   <g id=\"text_3\">\r\n    <!-- fear -->\r\n    <g transform=\"translate(271.530549 16.318125)scale(0.12 -0.12)\">\r\n     <defs>\r\n      <path d=\"M 37.109375 75.984375 \r\nL 37.109375 68.5 \r\nL 28.515625 68.5 \r\nQ 23.6875 68.5 21.796875 66.546875 \r\nQ 19.921875 64.59375 19.921875 59.515625 \r\nL 19.921875 54.6875 \r\nL 34.71875 54.6875 \r\nL 34.71875 47.703125 \r\nL 19.921875 47.703125 \r\nL 19.921875 0 \r\nL 10.890625 0 \r\nL 10.890625 47.703125 \r\nL 2.296875 47.703125 \r\nL 2.296875 54.6875 \r\nL 10.890625 54.6875 \r\nL 10.890625 58.5 \r\nQ 10.890625 67.625 15.140625 71.796875 \r\nQ 19.390625 75.984375 28.609375 75.984375 \r\nz\r\n\" id=\"DejaVuSans-102\"/>\r\n      <path d=\"M 56.203125 29.59375 \r\nL 56.203125 25.203125 \r\nL 14.890625 25.203125 \r\nQ 15.484375 15.921875 20.484375 11.0625 \r\nQ 25.484375 6.203125 34.421875 6.203125 \r\nQ 39.59375 6.203125 44.453125 7.46875 \r\nQ 49.3125 8.734375 54.109375 11.28125 \r\nL 54.109375 2.78125 \r\nQ 49.265625 0.734375 44.1875 -0.34375 \r\nQ 39.109375 -1.421875 33.890625 -1.421875 \r\nQ 20.796875 -1.421875 13.15625 6.1875 \r\nQ 5.515625 13.8125 5.515625 26.8125 \r\nQ 5.515625 40.234375 12.765625 48.109375 \r\nQ 20.015625 56 32.328125 56 \r\nQ 43.359375 56 49.78125 48.890625 \r\nQ 56.203125 41.796875 56.203125 29.59375 \r\nz\r\nM 47.21875 32.234375 \r\nQ 47.125 39.59375 43.09375 43.984375 \r\nQ 39.0625 48.390625 32.421875 48.390625 \r\nQ 24.90625 48.390625 20.390625 44.140625 \r\nQ 15.875 39.890625 15.1875 32.171875 \r\nz\r\n\" id=\"DejaVuSans-101\"/>\r\n     </defs>\r\n     <use xlink:href=\"#DejaVuSans-102\"/>\r\n     <use x=\"35.205078\" xlink:href=\"#DejaVuSans-101\"/>\r\n     <use x=\"96.728516\" xlink:href=\"#DejaVuSans-97\"/>\r\n     <use x=\"158.007812\" xlink:href=\"#DejaVuSans-114\"/>\r\n    </g>\r\n   </g>\r\n  </g>\r\n  <g id=\"axes_4\">\r\n   <g clip-path=\"url(#p4deb304fa9)\">\r\n    <image height=\"96\" id=\"imageae073f10c7\" transform=\"scale(1 -1)translate(0 -96)\" width=\"96\" x=\"350.165854\" xlink:href=\"data:image/png;base64,\r\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\" y=\"-21.586418\"/>\r\n   </g>\r\n   <g id=\"text_4\">\r\n    <!-- happy -->\r\n    <g transform=\"translate(379.15125 16.318125)scale(0.12 -0.12)\">\r\n     <defs>\r\n      <path d=\"M 54.890625 33.015625 \r\nL 54.890625 0 \r\nL 45.90625 0 \r\nL 45.90625 32.71875 \r\nQ 45.90625 40.484375 42.875 44.328125 \r\nQ 39.84375 48.1875 33.796875 48.1875 \r\nQ 26.515625 48.1875 22.3125 43.546875 \r\nQ 18.109375 38.921875 18.109375 30.90625 \r\nL 18.109375 0 \r\nL 9.078125 0 \r\nL 9.078125 75.984375 \r\nL 18.109375 75.984375 \r\nL 18.109375 46.1875 \r\nQ 21.34375 51.125 25.703125 53.5625 \r\nQ 30.078125 56 35.796875 56 \r\nQ 45.21875 56 50.046875 50.171875 \r\nQ 54.890625 44.34375 54.890625 33.015625 \r\nz\r\n\" id=\"DejaVuSans-104\"/>\r\n      <path d=\"M 18.109375 8.203125 \r\nL 18.109375 -20.796875 \r\nL 9.078125 -20.796875 \r\nL 9.078125 54.6875 \r\nL 18.109375 54.6875 \r\nL 18.109375 46.390625 \r\nQ 20.953125 51.265625 25.265625 53.625 \r\nQ 29.59375 56 35.59375 56 \r\nQ 45.5625 56 51.78125 48.09375 \r\nQ 58.015625 40.1875 58.015625 27.296875 \r\nQ 58.015625 14.40625 51.78125 6.484375 \r\nQ 45.5625 -1.421875 35.59375 -1.421875 \r\nQ 29.59375 -1.421875 25.265625 0.953125 \r\nQ 20.953125 3.328125 18.109375 8.203125 \r\nz\r\nM 48.6875 27.296875 \r\nQ 48.6875 37.203125 44.609375 42.84375 \r\nQ 40.53125 48.484375 33.40625 48.484375 \r\nQ 26.265625 48.484375 22.1875 42.84375 \r\nQ 18.109375 37.203125 18.109375 27.296875 \r\nQ 18.109375 17.390625 22.1875 11.75 \r\nQ 26.265625 6.109375 33.40625 6.109375 \r\nQ 40.53125 6.109375 44.609375 11.75 \r\nQ 48.6875 17.390625 48.6875 27.296875 \r\nz\r\n\" id=\"DejaVuSans-112\"/>\r\n     </defs>\r\n     <use xlink:href=\"#DejaVuSans-104\"/>\r\n     <use x=\"63.378906\" xlink:href=\"#DejaVuSans-97\"/>\r\n     <use x=\"124.658203\" xlink:href=\"#DejaVuSans-112\"/>\r\n     <use x=\"188.134766\" xlink:href=\"#DejaVuSans-112\"/>\r\n     <use x=\"251.611328\" xlink:href=\"#DejaVuSans-121\"/>\r\n    </g>\r\n   </g>\r\n  </g>\r\n  <g id=\"axes_5\">\r\n   <g clip-path=\"url(#pf7a71e7754)\">\r\n    <image height=\"96\" id=\"imagea6fda0602b\" transform=\"scale(1 -1)translate(0 -96)\" width=\"96\" x=\"464.487805\" xlink:href=\"data:image/png;base64,\r\niVBORw0KGgoAAAANSUhEUgAAAGAAAABgCAYAAADimHc4AAAeqklEQVR4nJ2d2Y4cx9GFo5auXqanh0NqGwqGIV0I8IUBXejCj+DX9lvYsGEaEilxEcme6a2qa/sv+v+yT8VkNWkX0OitlsxYTpyIzMpK/vrXv/az2cz+9Kc/WVEUttvtrG1ba5rGzMzyPLc0TW0ymViapjadTi3LMptMJpZlmc1ms8H3+XxuSZJYXdfWdZ0dDgczM5tMJta2rb1798622629ePHC9vu93d/fW9d14fjJZGJJkoRXmqaWJEn4PU1Ti21N01jf9+G97/vwX9/3djgcrG1bq+vakiSx5XJp0+nUnj17ZtPp1G5ubizPc8uyzNI0taIoLE1Ty/Pc+r634/EYztn3vXVdZ03T2P39vdV1bbvdzo7Ho71//96qqrKPHz+G97Ztw3knk0lor5lZro3sui689HcurILRF/+ZWThWj+u6zqqqsqZp7HA4WFVV1rat9X0fBIyiaSi/xxSQJMmgTX3fP3rn/OyXZZklSWJd1w32OR6PliSJHY9H67rOiqIIsjAza9s29Ef75WWiMmzb1tq2HchR5an753wpyzIIqOu60NGu6yzLMptOp0GDWZYFQSE4LHO73YYOc5Hj8Wi//PKL7XY7e/PmjR2PR6uqyszMFovFwJP0OqoQvtMu2q3XwCrbtrX9fm9t24b+TKfTIFD+r+vaDoeDpWlqV1dXVhSFffHFF1YUhc1ms3A9PAJ5cJ2u64KH8N9+v7f9fm/b7TbsY2YDGakCc35o29aSJAma85Yd8wBOiEV5ywOCyrK0h4cH2+/3djgcgvsBaXmeD94VilCweohvV9/3lmXZQAF931td19H+JEkSzoOQyrIMiqF9WZYNrouQPcRpW1AwL+8lfsvBRGCBBuEFWKi6rZkFi+WiVVUN3HO73drhcLB//vOftt/vbbfbheOwrjzP7fb21iaTSRC8/qdKpg0xD1AjIPbQn+12a3Vd28PDQ+hblmV2e3sbPAdPqevaNpuN5XluX3zxhU2nU1utVpZlmZVlOYgNHnZ4r+vajsdjUL6HUrY0TU8QhLDVA1S7qmFv+XpxjsMKt9ttcEWsS48visImk4nNZrOBAoAgBB7zOt8GvisUJEkSvCHLskAGaK9CZJqmVte1NU1jVVUFz23b1oqiGARnXlmWPYoHnI93L0fdAgRpwFBLLorCzE4uqp2fz+ehwXqBLMusbVv7+PGj7XY7+89//mNVVQVhX11dBQGkaWpPnz4dsA9iC1gbYzsxBahy+r63PM8DqwKjm6axLMusaRrb7XZW17Xt93vrus5ms1nwTPWYd+/eWZIktt/vbTqd2tOnTweegBwwPNqkilL5KAyqweaK3ewY27z7Y0l6QlxYsZ6GAikIaTqd2mw2s6IoAubrfipU3bBcbYt2TF0dBZhZgA4gtyzLR4okJunxGGRVVeFcSgousaJLG8fk4H5ZliGQqTb5jBvSAQ0wTdPY69evbbfb2c8//2xt29pyuQzCV9j58ssvbTqd2tXVVYAcDXYe+9UA6Lx/h/+bWeDZCBCPw9O1D03TBE+mv7e3t9a2rU0mEzsej7ZerwORmEwm9uTJk3ANzRO4lodH9Q7dQJ1HLMhjmLcyBM8+TdPY8XgMmE8QhKpy7GQysaIobLFY2HQ6DZbv+b/Hfq+AWP6hMcBvYDWe4z1COT/7p2k6IAMoCo9AqT4Ya3tURt6Q1GtCIkYGiYAPh4MVRWHX19cDilfXdThRXdf28uVL2+/3tl6vre/7gJWaRxRFYd98840tFgt79uxZEILCmqebY4me7xhGApZjWeoRKJUYhycAm03ThJiAMlarVWh7VVX27t07q6rK3r59a3me29OnT60oiiAvGFZRFNY0TYhFnooqtA5YEO6jmaJ6gLoZiqqqyna7XWA5CBABY1Gwnel0GgSi7sq7vmK5hgpf22dmA7f3nsH/QA3t0mObpgkv7wlJkgRScjweg9drzNGES7045gXah3y329lkMrHlchl4NPx/MpkE7EfwULVXr14FBcBq1PI59urqKmC+pvkowEMQMYBOaByi4WpZ6toIQI0EaNX9uK6ZhTbBgqiFHY9HMztl6vP5PHjC77//Hmo+SZLYkydPAovr+94mk4k1TfNIMRqLBpk0lqseoA3VrBYMLMvSDodDaKS3fFXAdDoNWe6YlV560REwXDukgo9Z2Vgc8QrjXWtDQDJBlphASYPEkhKID7KfyhHYcqwJNgB+0XEETTD69ddfraqqUEN5+vSp5Xkegppavr5j4TRWa0g+u/UK0BIE/3sPUMX4omIsSCs5UGqN8BXDCeJ4C3GkqirbbDYDA9aEjgIkhqwkJ3ii5/MxreE2dV1bWZZ2PB6DEBWmVAFkkGB+TMh6jbFgq+3SLcbYNDP3r09tGhvMTmxJ61qcAyXgCbAiBM31MRotbydJEmJHyIThxEBIWZbBkjhR13WBBWy3W0uSxL766qtQTiAzzPPcFotFsHy1dM9u2Gi4JmoIVf8nOHoFaXVSheWx1kOrsjmlkzAbcFzrPJqAff3116GCfDweQ6mDmHVzc2NJktizZ88CvFVVZb/99luoE7Vtazlpus8D2NixLMtQQsYdtTSN5fOuEKOdVMzmWppR4soag2KWqoJRduZjll4nVqfxHqKwF/NMPAQP4L0sy8G5dIBKyyE+ScsZyfnw4YMVRTFIkMzM7u/vraoqe//+vZmZffXVVzadTm0+nw8ED9bze4zPe1agbASL09qTV5YKhI76gRf1ABWqsqexoKnC1gROB5mAW/p+d3dnZVnaq1evgldBX4FiWODhcAgxNCiAhlH9QyAIqKqqAduB1WhwjL1iyZQXpn95oakHaELjFaBC5nfl5Z8TA/S6HHfJE1AgMUEHbDQ/UK+m9IL8uq6zfLFYWNd19uuvv1qe5/bdd98Nyrfr9drMLNTHqV7SOOCGoKtjqSootUAVCBapVqbK8uVuFYB3eVWEDiWiTA8BqmiFHjb6AD2NQRr7fPPNNwFJKFt0XWfb7dayLLOqqixJEvv222/t9vY2FCzz1WoVaJM2jqCH9nwm663E47yHnBgHjgVdDyVeARyn9Ru+a9bs44e3XB+UtQ9m52AKOdBqsbYDFKCKCn3V0k7f94HKA9U3Nzen/Ogvf/mL1XVtb968CZpLknO5lmC7Wq1CEU0FrRQ0lkiRyNAgNnVRFVIsSKsSFfMxDIUfzaRVYOxTFMWg3OJZGsezH+MImpyhkL7vB7Um2KCyJzy1LEubzWb2/PlzK4rCvv322xMErVarMEBxPB5tv98/ol0owQ/AaxwYU4DHTm+JKvhYDuChIcaWfDKnCvHjG7F26TmUkipJQKE6Jq2JJXLAA8gjuD5Bm9IMxpGvVis7Ho+22WwGY7xUDG9vb206nYaxYRWEj/bQUK8kNh0V8rUe3UffEcBsNht4ALRZB3C4Hkmj1nTUSsfwHwGqEuHwek19J7Gi38iz7/tQRc2yzL7//nt78uSJPX/+3MzM3r59e4oB1PAZnFbt+qjtLUcbrfRsDItjlhfDa4UYFRACRjAqWL8R8GN0lGvE2qbX0+vEPEETVfYHcknoMCSSOx2bNjPL//a3v4Ufsiyzm5ubQfn4+vo6MAwEo5ZPoY2EAzoGXvqimYcSflcrU4hhxIzz+uCswjWzQU2LV9/3g8wXz1G4iQVWvqNMncpC3kIxk5wB4VN+eP36tZVlaX//+98tyzL717/+ZYvFwr777ju7vb21fL1ehwZRUuW7WrUvbOl//qV8eIwFeWz2ClDr081z+hhtvZQVq7JiNSqvUF8j8vkBHsCm+UHTNGFoc7fbBUO4vr62P/7xjyc5b7dbS9NT/Z+gO51ObblchkEItKusR2cxaAlCj1Hez2dqM2SDXsieDtI5yiC+tgM0qOWjSL3mdrsNkJSm55lwOo4RUzjt8UOaVFGBGvrjk9Fnz57ZZDKxDx8+WFmWtl6vbbPZ2Pfffz+sBanraYlB8Vy1r+zHsxD2j7ESBEJio5ZGR1UQuDrWq0mOKojAx3+qAD7H8N5n7hiPxiA++/7zUlqr/QGGFMKJt/v9/oQkx+MxDJYvl8swmwGM93MysXySMjDaY6kGL01iCPr39/eD7DY2GK68nA76+Uh+LJv9/NgwRIJaFe1ndobP3LV8oO9YPu86cBNLwObzuTVNY4vFInjo8Xi0f//73yf0oHOTyWRQ27/E7dX6vfXo5o/xL08raSDn0yQK4WgypApRK/VBGkvMsvMkYL7HrF/bH/NmL5dYDsJxGLFHFKZC5kwTWS6XARe1zByjnSr8sQKcCiXLMqPmBGYul8tgDToWy/gEghub968KBIuJYQpNtJMalh9z9hm5QqHGIr6HGW0ySYvvOgbNdefzufV9b6vVytI0DaNph8MBBeWmr7HRK4/zMe/wVqPWxHk9PEDloHZAiReMWiLQ5qEOyNIN44As+CDvGVDM4/V3ZT8+BsSYFPCGYbNPKMcvFosQAxj91x097aQjYzUgtjFXpnxLR3gxD4eyuBbhvGViWWqRPuHyNSvfJ29IXgFKNLi+QiKcH4+KwSUGUBSFrVYrMzN78+bNQEn52ChWTHhj1u43zx60YXwnaCleau6g0PP/DQ2YqtVHXy3lWiRul9oeM5xLHjAWE2Pn1PMRgyACqqB8tVpZURQ2n88HjEbx1gfRMXfDYnww8udCSJoPIGCqm3gI/B+B++DNObVs7BWpwsETPFvTd2VfeAD90FKEp9FqKDrnNM9P90FQOdB4lmul0wdd76ox4Y9ZhGKlQs0lTFUrw8UJpmrR/nyqAH7T+xHG2nqpnzFo0utpW2OZsUcBP4MkeDYzu+DFXEyDF4FEEy9lSdoIP7sBgfmxWxrPnE72w3LohN6qZHbm/T5D5Zo+U1YLVmH6dl5iRz6B02APq/PC97dHTafTwP7MzB4eHk7laD+vJ2ah3vo/9xXzgFh9nk3/8/A3ZrnaZoUEfw0PhyrgWD81DsY8QA3Rewb/+xpRmp7G1JlX1fe95YzgqALQcKzMzHd9jyVkirlgp/cE5fccg8WqYCiN8H/XdaHOT6au1soQK4LWzQtFc5qYR2khT5XAfrRLMb/vz+MDeqdknp9nVTPBLY+xnv/mFYsN/rO3PvUGxXXvEeoNMSvz7fWwp9/9vmrBHnpix2DRPn+IxQQ+a5s5RtlQmqbDG7XVVWKK8ZmwvvQ37YgKWC3ej5mqpSivZzxWLZbPCF0rrn76OMLVRI3YlqbD+4+90lVw3jjwaH5XmqzGQHtR3nK5HCh8mDZGLGUsJlyyrNjxir0+GOMJipt+H/Uc/7/CBb/5ainn8KUUb2zei2LCj3mfsiAMR9lRyHwdrOdqtWpZGpjDzpHqKC+PpdowFZgGYs8utJRMuZqRKL2XjPk2qjidFkJfqDElSRJuCFwul2GigW+vKkyV4A3F95vP6rV+zJrvxDPG2HO9+JgHXMK6zznO7xNTiiZnvoaP0nQSFzRPjYaOaqAHwrTIN9ZWtW4fP8Y2+gLEKEowzKuehNJJOHOtkagbX8J8XN7TMn3XTvKZjFeFTgOZS39/fx8sKE3PI3Ws/bBerwd3vag36fW5Dmxov98HD9C79WMxKwZzsYlcZufxDn+/AtiP58KSkPfd3d3pPgRO6FnImIV4dhGzcr/F8FMFptBT1/XAWjEIbnxgRMwP1OjsA72e9yCFhzEP9m2O9edTcU9jDrFBCctsNjv1w8MBOO/r/GxoWm+80AZ4RXKsBlLNVLmn6nA42OFwsN1uZ03ThHu2fv/991AzSpLErq+vLc/zwTwlVdDDw4O17WnRDTN7NIbNxLMvv/wy5BTazhh91d99sNWRMoxJM2POjSdQgri5uTm1z2OeYlgMSnTfmKWMwU/Ms3Sj4f6cGg8QJMvJqHHQOW6aUIPSa3r25Ps/Nt3Fb5fio1eUeoD3mlyFHqv5jF1EY4FuPhZ4jKWzai06EHN1dTWgkAzncYf6arWyyWQyuH9ZFXV1dTVY94j/ttttwGAdjqQPsC6qr4w3kMlzHiAwFgPN7BHr4VhiEgoJI2uf0qi33DGeP4af3to9NGk27BVFME2SJBQLuYmEIKrjAeopOitC2xEbatWgG7PyWD+0L2MG6hWkqBI81CcIOm6qB2su4ONDLIv0ioopWo9lNjIN03vPwNA8z+36+jqMMGnJmkFuHcAhaKOELMtsuVwO4ofeo+YhTTN3jIZ2K5vT/CBkuK48zv5ay+q67nSHzJhlx4Tl6eiYoMc2bZRaPYpX60CRsdKHx3W1SN2UIqqgtR0KDVq+9ufW/ces38tsTHZsAYJ8DLhU/dT/L9VSvOD971iMmQVsZ5VB7tinduKpKnfoIxCCry5ZBvZz3y8Z9XQ6fYTh3lL1/5iR0hcPUxoLtN7FWIuutPIoBoxZdUyrY3Hgf9kUAjm/Ftj0RXDTm/kQtu6nmXDbtoMSBcJTS/bt8YPs3uJV+DFP1MQu5gX8nmPNYxOzFO99APuczXuCZpReAczOMDstBaCjYnRov98HykmnNYOnqgr+g7WMvFEp1aQIgavgND9AWCSAlEI01mnVVo/TMWRiG/Q4TdNzHjBm0WOvmCWNWdRYYhMLziiZjZKEWje/qwJ8xqs1Ib2G95AYA9LMWsvOsc17w9jvMU8IEKR/fCrosj8NxfVxcd3P7Ewzx2IC/wEVzDdl9gDCxuK0IqpujuCrqrK6rsPab75vxBY8wg+D0h5v4WMxTI3HG6bu50sRGFkeO9gL6hLGX7Luz7Ec9lfMxRO8d+n+vjTAprFCYUWh5VMeoOUE76mxNvw3svEeMVDAJQ/wjfAX1FSeIKoX9Z91fy8wHbFSD1JrjWG0KpNr6X3LOt6sAoaXq0A1d1BSEIMZL2w1KM+2HkHQJYz/X4KtdkK3GHzF9vceMKZof97Y/7FOs79nTQRvb0hsvk71v8goJufcsx7FqbH02QuQBpvZoBCmAvR5Ag3SuUjKl2ez2UAosfn+xAOz840bulgrFsp+7Nt1XbhliEU2vPHRL08n/f9KGHSLFfVisXbUAz7XE7wCELyHIF+n953SDqsRcE6Fos/FXm2/Jm2aY+j9BpcU4GFY26/7fQ7uDzzAR2ZtqE9ENOB5rFRFKItQpcQsQme+KfxoEIY/q4BjCtXr+9iGgFgPSQ0EFqbY7QWo3kO71VhitSEUE5PjIA+4ZP2Xthgc0QEfhPS7KkBZjiqffVQIXpkxhjLmIRqYNVCzL3DnDYpj/NAngqS45q/j2+z7w5b7LFezXe/yyr21Zq8n95bkYwKY6/OKsVVWvMK9gmmPjiv4MjSYD/9XFqKrJCok6fKV2k4/v4iRNvILX87xwVz70bZtfF6Q31k174XjFRCr3agCEJAGZbUoruM9yL+Uz9Om2Ge1XJ/V6oAQyvO3u/p2MqtNYVC92GxIOMagly0sXewTlDEleBdVwaor++cJcH59FovZkGerBek+xBSwt+/PI1jMEfVBnHbEltZM0zQsLs5MOsYSNpvNIEjTDwyEsQQdn9CBd+4A8nSX9uHhYbFyc5vHdf+7Cl331SIYxSpVqNJJj98kXLHrKWbHWNnY7+rmeh42LF/zAFaF9HOL9HgWOe/78yrwSuXV42if9wDekyQZzg31wlcI8cLx5WLGYNE4HfG3kUItsSjOFyspICi1bs0XPHPS+MBIGJ6jy9ebWXhUCYrYbDZ2OBzs9evXYXHaoijshx9+sKIogqd8+PDBuq4LuQX3WeuaGppEesMD7mhfHgt2fovhq1oYHdV3rwCErs8JUM/QwKXX8cUyNs/LffDzTEmhUg2A/3n4DosYlmU5CPSLxSLcUgus5fl5mU8U64t4HjnUSLquOz/A4ZLw1SL1HYxtmiYs+LRer8P6QwoP2hHWaOj70/O9aEOWZeHOdbV6LAcLxuK9B1BJRcBm5xEoHRtmnj6CX6/X9uLFC1uv14M5p3Vd28ePHy1JEvvzn/9sdV3bzz//HBQFBOm9Cgz+ECvIc5Sd6ThzrpYS2zzz8biuHsDjqWL4TyO7rhss5q2lBFWwXlutR//ztC824uQ9iJVu9Zi+74MH0E8Etd/vbTabDW45gsUpRdVYYnam4zrgoxCNbPKYMDUxArM5AXd6cyKeGLRer8PKumma2t3dnSVJYvf393Y4HOzVq1cBlrhD5Pb21n788UebTqd2f38fHgTR9/0g0wQ6vJCz7Hy/MFBAMISNMEPu+vra+r639+/fW5ZlYYXf3W5nu93OHh4erCxLe/78uSVJYm/evLGyLO3Fixf222+/hX5tt1vL89z+8Ic/DFYS0/lAKFrjHUaJDCAAAwjyjCXGmbEEpXms/gFGJsn5dtMPHz4ETGUCbtu2ttlsBktdMsmV82uQ5vpjGfvY4JFiv7Kztj0tFZDnefBY4hJ3YwInKP9wOARIAWJ0EUNfC1JkUQPXHKnvZV4QFqajUOpKZVmGVU40ivN8lZcvX1rbtmH+PYsB/vLLL2GNnL4/L3oN5v7000+BwdR1bW/fvrWmaQK/9vwby4f60UFdxcR7C6tC0vEkSezFixchs62qyu7u7gKjMTP7+uuvzczCY7aYmacrBsPGYkEfI0COXvhhJDFWZdSGqiI0YVFP0DFY9mPFXRTkrRqqRzDTh59poCLAjtWpLsUGlKWd5xgdmE+SJKxmCGzokzPyPA+KwBC4llZsedd26u8+LnZdZzmuiGUqjdLaij5/SyuJ0MnlchmgaL/f22azCR5D4NP6PUr4xz/+ERYzNbPg1jR2Pp8PllLQmhPXp91ABjUfZk/oHYuMAzA/lFkYvJMp6ziA2Znm6v0UqnTe1QNoF8FZDTXMjNMbo/0rSZJBhqsDJFwUGNC5mnpBrApYYOGiuq6tKAqr6/pRug/ma9HLT4lRXq80T71AFc60kclkEoxBIY5bnPyN4Xo9tXj1QBSk3zWD92UelU++Xq/DylFYAJ3nJCRW/p5XrV76dT15Yf0ICoXxqJDlcvkoqWI/8gLap/cuKOXzxyLAJElsPp+HETIYmCaItENXV0F5YLwGdYUTDEWTOgTtg74qgPsY6ro+QRANopHwVtWiahaNKxfWgKiWwIJFno/D+2NLG2CJ/mbxWJUx1i74t54fD1QjUcsc25RpeUWr5dMHHVfQ82tJAgiq69ryly9f2nw+t+vr62BtdMALGEvnwpqFAkFqKT6AInjyCa01qStjeTo7Qj3SQ40vK9D2rjsvIQz06IObYXEanP19ycQU2qMeYXYeE4aOr9frR+UXRQLIx8PDw+lOeR5gxpQ/3FU76QXEhXF1oMhzcIUCDVBqFb48zfF6Pn/OWBbsFY/ggFNPA/FwHbxXz1XY4LzqRZ6RaXIay600F4AlVlVl+evXr202m9l8PrcnT56ElZ3olFYlgQat2SBgpWYqeM2k+/68UJMPTnqsF7A/r/Jx/U87jBEhfNqAUmBIwILel6ye6p816TNf9RzYlT6ggXvWlJzwnIHD4XB+iA8PdKuqKrirWmssW/Z1GLVGnarIpsU5/+49a2yajF8khM0rQD1BWZLmAygHy0ZAPj5o/PI5R4w86ObjAR7A3aC52Ymi8TTUu7s7q+s6BEE6o+zF7DS7IM/zMK+fVQn1DnQ62fd9WAvO10JQUmztBhW8X3YS2uiDsC8B0G6ly1i9F5Q/T9ueH3E+tpadPoAaWSrL4Them80mlLzruj4/Q4ZKJhmsWsqYxmkIloSw1WpotKdjKAeL1wWv1aOwdB209/CkW4yJqUJoI/Q5xt/5jpfr6o4KTWbDxC2G97H8Sn8PEGRmg+cI6Fir8vLr6+sguL4/35kCjdWlWLquC2s2wy7805Z0FXZYj8YChaSYy3sa6I1G6Whs8/FDPaPv+7DeKSyGgqNmuPxO+ZpyzVjgV+jM1UrQrFqrNkatFnji3ecMindaItBFvlURKIBMVGmeb7RvjwozJmCfY/j/9Zz68mwOhmj2GLK0DuY9XeXrkSX3O/EcYX1cIcEYtoAAsyx7lMlqBpgkp6eNpmkaajpUOcF2XSvas6kxAakCtDyh+3hBxzBeDYaX4rX+rvcReyjSWKH/wxyRH7UoHfgZ+CV0SrXoNagDNghAi1d01v+PArB0jgFD1dJjnN4bypglq+Xqpvzdb97yvSd7xSiJ0CKbzrLwls53EIa25Mr30VCWZWH6BWOqek8WXBy4UEHCYq6vrwcC5Xe/om1MkB5yoJF+H8XsmMB102xXjcTTTgxPR/z0HcsnFuiTVVXgPgaAHowQBgVow1VDit3q1nrCJEkCQ0AgGixjyVTMmtVyL333HN9bvbfq2HdVgOf6Ho7G2IxmvR6uxuiwjxHBcGkgJ2E9nv1+H4Kk0k08gucJE5iwbB4Ix3flybq/3vmojY5ZbCwwekWoEajQPZQopOh5ldXwv0KMvqtH+CmMUFdYIga92+3C3fxd1wU55t7KVLsxi/AC0oxZBdY0zaCmpOVa9QQvsE9ZvrfsWGbt94kp0se3sX7Grh8L4NoGbZsP7nxHYf8HfhT0UsZJPDwAAAAASUVORK5CYII=\" y=\"-21.586418\"/>\r\n   </g>\r\n   <g id=\"text_5\">\r\n    <!-- neutral -->\r\n    <g transform=\"translate(490.662576 16.318125)scale(0.12 -0.12)\">\r\n     <defs>\r\n      <path d=\"M 9.421875 75.984375 \r\nL 18.40625 75.984375 \r\nL 18.40625 0 \r\nL 9.421875 0 \r\nz\r\n\" id=\"DejaVuSans-108\"/>\r\n     </defs>\r\n     <use xlink:href=\"#DejaVuSans-110\"/>\r\n     <use x=\"63.378906\" xlink:href=\"#DejaVuSans-101\"/>\r\n     <use x=\"124.902344\" xlink:href=\"#DejaVuSans-117\"/>\r\n     <use x=\"188.28125\" xlink:href=\"#DejaVuSans-116\"/>\r\n     <use x=\"227.490234\" xlink:href=\"#DejaVuSans-114\"/>\r\n     <use x=\"268.603516\" xlink:href=\"#DejaVuSans-97\"/>\r\n     <use x=\"329.882812\" xlink:href=\"#DejaVuSans-108\"/>\r\n    </g>\r\n   </g>\r\n  </g>\r\n  <g id=\"axes_6\">\r\n   <g clip-path=\"url(#pa0f56d4997)\">\r\n    <image height=\"96\" id=\"imageb76e5c0997\" transform=\"scale(1 -1)translate(0 -96)\" width=\"96\" x=\"578.809756\" xlink:href=\"data:image/png;base64,\r\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\" y=\"-21.586418\"/>\r\n   </g>\r\n   <g id=\"text_6\">\r\n    <!-- sad -->\r\n    <g transform=\"translate(615.83234 16.318125)scale(0.12 -0.12)\">\r\n     <use xlink:href=\"#DejaVuSans-115\"/>\r\n     <use x=\"52.099609\" xlink:href=\"#DejaVuSans-97\"/>\r\n     <use x=\"113.378906\" xlink:href=\"#DejaVuSans-100\"/>\r\n    </g>\r\n   </g>\r\n  </g>\r\n  <g id=\"axes_7\">\r\n   <g clip-path=\"url(#pbfa02be059)\">\r\n    <image height=\"96\" id=\"image95897adcfe\" transform=\"scale(1 -1)translate(0 -96)\" width=\"96\" x=\"693.131707\" xlink:href=\"data:image/png;base64,\r\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\" y=\"-21.586418\"/>\r\n   </g>\r\n   <g id=\"text_7\">\r\n    <!-- surprise -->\r\n    <g transform=\"translate(716.611166 16.318125)scale(0.12 -0.12)\">\r\n     <use xlink:href=\"#DejaVuSans-115\"/>\r\n     <use x=\"52.099609\" xlink:href=\"#DejaVuSans-117\"/>\r\n     <use x=\"115.478516\" xlink:href=\"#DejaVuSans-114\"/>\r\n     <use x=\"156.591797\" xlink:href=\"#DejaVuSans-112\"/>\r\n     <use x=\"220.068359\" xlink:href=\"#DejaVuSans-114\"/>\r\n     <use x=\"261.181641\" xlink:href=\"#DejaVuSans-105\"/>\r\n     <use x=\"288.964844\" xlink:href=\"#DejaVuSans-115\"/>\r\n     <use x=\"341.064453\" xlink:href=\"#DejaVuSans-101\"/>\r\n    </g>\r\n   </g>\r\n  </g>\r\n </g>\r\n <defs>\r\n  <clipPath id=\"p3908b3e34a\">\r\n   <rect height=\"95.268293\" width=\"95.268293\" x=\"7.2\" y=\"22.318125\"/>\r\n  </clipPath>\r\n  <clipPath id=\"p3b7cf22429\">\r\n   <rect height=\"95.268293\" width=\"95.268293\" x=\"121.521951\" y=\"22.318125\"/>\r\n  </clipPath>\r\n  <clipPath id=\"pb6d4a823ef\">\r\n   <rect height=\"95.268293\" width=\"95.268293\" x=\"235.843902\" y=\"22.318125\"/>\r\n  </clipPath>\r\n  <clipPath id=\"p4deb304fa9\">\r\n   <rect height=\"95.268293\" width=\"95.268293\" x=\"350.165854\" y=\"22.318125\"/>\r\n  </clipPath>\r\n  <clipPath id=\"pf7a71e7754\">\r\n   <rect height=\"95.268293\" width=\"95.268293\" x=\"464.487805\" y=\"22.318125\"/>\r\n  </clipPath>\r\n  <clipPath id=\"pa0f56d4997\">\r\n   <rect height=\"95.268293\" width=\"95.268293\" x=\"578.809756\" y=\"22.318125\"/>\r\n  </clipPath>\r\n  <clipPath id=\"pbfa02be059\">\r\n   <rect height=\"95.268293\" width=\"95.268293\" x=\"693.131707\" y=\"22.318125\"/>\r\n  </clipPath>\r\n </defs>\r\n</svg>\r\n",
      "image/png": "[encoded data removed]"
     },
     "metadata": {
      "needs_background": "light"
     }
    }
   ],
   "source": [
    "data_processor.plot_sample_images()"
   ],
   "metadata": {
    "collapsed": false,
    "pycharm": {
     "name": "#%%\n"
    }
   }
  },
  {
   "cell_type": "markdown",
   "source": [
    "### Training Data post Process"
   ],
   "metadata": {
    "collapsed": false,
    "pycharm": {
     "name": "#%% md\n"
    }
   }
  },
  {
   "cell_type": "code",
   "execution_count": 10,
   "outputs": [
    {
     "output_type": "execute_result",
     "data": {
      "text/plain": [
       "<keras_preprocessing.image.directory_iterator.DirectoryIterator at 0x1c4ab5d8310>"
      ]
     },
     "metadata": {},
     "execution_count": 10
    }
   ],
   "source": [
    "training_set = data_processor.get_train_set\n",
    "training_set"
   ],
   "metadata": {
    "collapsed": false,
    "pycharm": {
     "name": "#%%\n"
    }
   }
  },
  {
   "cell_type": "markdown",
   "source": [
    "### Test Set post Process\n",
    "\n",
    "We don't want to modify our images. We simply want to rescale them."
   ],
   "metadata": {
    "collapsed": false,
    "pycharm": {
     "name": "#%% md\n"
    }
   }
  },
  {
   "cell_type": "code",
   "execution_count": 11,
   "outputs": [
    {
     "output_type": "execute_result",
     "data": {
      "text/plain": [
       "<keras_preprocessing.image.directory_iterator.DirectoryIterator at 0x1c4e527aca0>"
      ]
     },
     "metadata": {},
     "execution_count": 11
    }
   ],
   "source": [
    "test_set = data_processor.get_test_set\n",
    "test_set"
   ],
   "metadata": {
    "collapsed": false,
    "pycharm": {
     "name": "#%%\n"
    }
   }
  },
  {
   "cell_type": "code",
   "execution_count": 12,
   "outputs": [
    {
     "output_type": "execute_result",
     "data": {
      "text/plain": [
       "{'angry': 0,\n",
       " 'disgust': 1,\n",
       " 'fear': 2,\n",
       " 'happy': 3,\n",
       " 'neutral': 4,\n",
       " 'sad': 5,\n",
       " 'surprise': 6}"
      ]
     },
     "metadata": {},
     "execution_count": 12
    }
   ],
   "source": [
    "data_processor.get_emotions_dataset"
   ],
   "metadata": {
    "collapsed": false,
    "pycharm": {
     "name": "#%%\n"
    }
   }
  },
  {
   "cell_type": "markdown",
   "source": [
    "## Build Model"
   ],
   "metadata": {
    "collapsed": false
   }
  },
  {
   "cell_type": "markdown",
   "source": [
    "### Get and Compile Model"
   ],
   "metadata": {
    "collapsed": false,
    "pycharm": {
     "name": "#%% md\n"
    }
   }
  },
  {
   "cell_type": "code",
   "execution_count": 13,
   "outputs": [],
   "source": [
    "opt = Adam(lr=0.0001, decay=10e-6)\n",
    "cnn_model = CNNModel(optimiser=opt)\n",
    "cnn_model.compute_model(model_choice=\"vgg_net\")\n"
   ],
   "metadata": {
    "collapsed": false,
    "pycharm": {
     "name": "#%%\n"
    }
   }
  },
  {
   "cell_type": "markdown",
   "source": [
    "### Model Summary"
   ],
   "metadata": {
    "collapsed": false,
    "pycharm": {
     "name": "#%% md\n"
    }
   }
  },
  {
   "cell_type": "markdown",
   "source": [
    "#### Model Summary"
   ],
   "metadata": {
    "collapsed": false,
    "pycharm": {
     "name": "#%% md\n"
    }
   }
  },
  {
   "cell_type": "code",
   "execution_count": 14,
   "outputs": [
    {
     "output_type": "stream",
     "name": "stdout",
     "text": [
      "Model: \"sequential\"\n_________________________________________________________________\nLayer (type)                 Output Shape              Param #   \n=================================================================\nconv2d (Conv2D)              (None, 48, 48, 64)        640       \n_________________________________________________________________\nconv2d_1 (Conv2D)            (None, 46, 46, 64)        36928     \n_________________________________________________________________\nbatch_normalization (BatchNo (None, 46, 46, 64)        256       \n_________________________________________________________________\nmax_pooling2d (MaxPooling2D) (None, 23, 23, 64)        0         \n_________________________________________________________________\ndropout (Dropout)            (None, 23, 23, 64)        0         \n_________________________________________________________________\nconv2d_2 (Conv2D)            (None, 23, 23, 128)       73856     \n_________________________________________________________________\nbatch_normalization_1 (Batch (None, 23, 23, 128)       512       \n_________________________________________________________________\nconv2d_3 (Conv2D)            (None, 23, 23, 128)       147584    \n_________________________________________________________________\nbatch_normalization_2 (Batch (None, 23, 23, 128)       512       \n_________________________________________________________________\nmax_pooling2d_1 (MaxPooling2 (None, 11, 11, 128)       0         \n_________________________________________________________________\ndropout_1 (Dropout)          (None, 11, 11, 128)       0         \n_________________________________________________________________\nconv2d_4 (Conv2D)            (None, 11, 11, 256)       295168    \n_________________________________________________________________\nbatch_normalization_3 (Batch (None, 11, 11, 256)       1024      \n_________________________________________________________________\nconv2d_5 (Conv2D)            (None, 11, 11, 256)       590080    \n_________________________________________________________________\nbatch_normalization_4 (Batch (None, 11, 11, 256)       1024      \n_________________________________________________________________\nconv2d_6 (Conv2D)            (None, 11, 11, 256)       590080    \n_________________________________________________________________\nbatch_normalization_5 (Batch (None, 11, 11, 256)       1024      \n_________________________________________________________________\nmax_pooling2d_2 (MaxPooling2 (None, 5, 5, 256)         0         \n_________________________________________________________________\ndropout_2 (Dropout)          (None, 5, 5, 256)         0         \n_________________________________________________________________\nconv2d_7 (Conv2D)            (None, 5, 5, 512)         1180160   \n_________________________________________________________________\nbatch_normalization_6 (Batch (None, 5, 5, 512)         2048      \n_________________________________________________________________\nconv2d_8 (Conv2D)            (None, 5, 5, 512)         2359808   \n_________________________________________________________________\nbatch_normalization_7 (Batch (None, 5, 5, 512)         2048      \n_________________________________________________________________\nconv2d_9 (Conv2D)            (None, 5, 5, 512)         2359808   \n_________________________________________________________________\nbatch_normalization_8 (Batch (None, 5, 5, 512)         2048      \n_________________________________________________________________\nmax_pooling2d_3 (MaxPooling2 (None, 2, 2, 512)         0         \n_________________________________________________________________\ndropout_3 (Dropout)          (None, 2, 2, 512)         0         \n_________________________________________________________________\nconv2d_10 (Conv2D)           (None, 2, 2, 512)         2359808   \n_________________________________________________________________\nbatch_normalization_9 (Batch (None, 2, 2, 512)         2048      \n_________________________________________________________________\nconv2d_11 (Conv2D)           (None, 2, 2, 512)         2359808   \n_________________________________________________________________\nbatch_normalization_10 (Batc (None, 2, 2, 512)         2048      \n_________________________________________________________________\nconv2d_12 (Conv2D)           (None, 2, 2, 512)         2359808   \n_________________________________________________________________\nbatch_normalization_11 (Batc (None, 2, 2, 512)         2048      \n_________________________________________________________________\nmax_pooling2d_4 (MaxPooling2 (None, 1, 1, 512)         0         \n_________________________________________________________________\ndropout_4 (Dropout)          (None, 1, 1, 512)         0         \n_________________________________________________________________\nflatten (Flatten)            (None, 512)               0         \n_________________________________________________________________\ndense (Dense)                (None, 4096)              2101248   \n_________________________________________________________________\nbatch_normalization_12 (Batc (None, 4096)              16384     \n_________________________________________________________________\ndropout_5 (Dropout)          (None, 4096)              0         \n_________________________________________________________________\ndense_1 (Dense)              (None, 4096)              16781312  \n_________________________________________________________________\nbatch_normalization_13 (Batc (None, 4096)              16384     \n_________________________________________________________________\ndropout_6 (Dropout)          (None, 4096)              0         \n_________________________________________________________________\ndense_2 (Dense)              (None, 1000)              4097000   \n_________________________________________________________________\nbatch_normalization_14 (Batc (None, 1000)              4000      \n_________________________________________________________________\ndropout_7 (Dropout)          (None, 1000)              0         \n_________________________________________________________________\ndense_3 (Dense)              (None, 7)                 7007      \n=================================================================\nTotal params: 37,753,511\nTrainable params: 37,726,807\nNon-trainable params: 26,704\n_________________________________________________________________\n"
     ]
    }
   ],
   "source": [
    "cnn_model.get_model_summary"
   ],
   "metadata": {
    "collapsed": false,
    "pycharm": {
     "name": "#%%\n"
    }
   }
  },
  {
   "cell_type": "markdown",
   "source": [
    "#### Model Diagram"
   ],
   "metadata": {
    "collapsed": false,
    "pycharm": {
     "name": "#%% md\n"
    }
   }
  },
  {
   "cell_type": "code",
   "execution_count": 15,
   "outputs": [
    {
     "output_type": "error",
     "ename": "FileNotFoundError",
     "evalue": "[Errno 2] No such file or directory: 'neural_network/models/08-04-21T02h53m17d.png'",
     "traceback": [
      "\u001b[1;31m---------------------------------------------------------------------------\u001b[0m",
      "\u001b[1;31mFileNotFoundError\u001b[0m                         Traceback (most recent call last)",
      "\u001b[1;32m<ipython-input-15-a478a35b3189>\u001b[0m in \u001b[0;36m<module>\u001b[1;34m\u001b[0m\n\u001b[0;32m      1\u001b[0m \u001b[0mdate\u001b[0m \u001b[1;33m=\u001b[0m \u001b[0mdatetime\u001b[0m\u001b[1;33m.\u001b[0m\u001b[0mnow\u001b[0m\u001b[1;33m(\u001b[0m\u001b[1;33m)\u001b[0m\u001b[1;33m\u001b[0m\u001b[1;33m\u001b[0m\u001b[0m\n\u001b[1;32m----> 2\u001b[1;33m \u001b[0mcnn_model\u001b[0m\u001b[1;33m.\u001b[0m\u001b[0mgenerate_model_plot\u001b[0m\u001b[1;33m(\u001b[0m\u001b[0mfilename\u001b[0m\u001b[1;33m=\u001b[0m\u001b[1;34m'neural_network/models/'\u001b[0m \u001b[1;33m+\u001b[0m \u001b[0mdate\u001b[0m\u001b[1;33m.\u001b[0m\u001b[0mstrftime\u001b[0m\u001b[1;33m(\u001b[0m\u001b[1;34m'%d-%m-%yT%Hh%Mm%Sd'\u001b[0m\u001b[1;33m)\u001b[0m\u001b[1;33m)\u001b[0m\u001b[1;33m\u001b[0m\u001b[1;33m\u001b[0m\u001b[0m\n\u001b[0m",
      "\u001b[1;32mc:\\Github\\ECAM\\machine_learning\\AI-Project-Smile\\neural_network\\src\\cnn_model.py\u001b[0m in \u001b[0;36mgenerate_model_plot\u001b[1;34m(self, filename)\u001b[0m\n\u001b[0;32m    109\u001b[0m \u001b[1;33m\u001b[0m\u001b[0m\n\u001b[0;32m    110\u001b[0m     \u001b[1;32mdef\u001b[0m \u001b[0mgenerate_model_plot\u001b[0m\u001b[1;33m(\u001b[0m\u001b[0mself\u001b[0m\u001b[1;33m,\u001b[0m \u001b[0mfilename\u001b[0m\u001b[1;33m)\u001b[0m\u001b[1;33m:\u001b[0m\u001b[1;33m\u001b[0m\u001b[1;33m\u001b[0m\u001b[0m\n\u001b[1;32m--> 111\u001b[1;33m         \u001b[0mplot_model\u001b[0m\u001b[1;33m(\u001b[0m\u001b[0mself\u001b[0m\u001b[1;33m.\u001b[0m\u001b[0m_model\u001b[0m\u001b[1;33m,\u001b[0m \u001b[0mto_file\u001b[0m\u001b[1;33m=\u001b[0m\u001b[0mfilename\u001b[0m \u001b[1;33m+\u001b[0m \u001b[1;34m'.png'\u001b[0m\u001b[1;33m,\u001b[0m \u001b[0mshow_shapes\u001b[0m\u001b[1;33m=\u001b[0m\u001b[1;32mTrue\u001b[0m\u001b[1;33m,\u001b[0m \u001b[0mshow_layer_names\u001b[0m\u001b[1;33m=\u001b[0m\u001b[1;32mTrue\u001b[0m\u001b[1;33m)\u001b[0m\u001b[1;33m\u001b[0m\u001b[1;33m\u001b[0m\u001b[0m\n\u001b[0m\u001b[0;32m    112\u001b[0m \u001b[1;33m\u001b[0m\u001b[0m\n\u001b[0;32m    113\u001b[0m     \u001b[1;32mdef\u001b[0m \u001b[0mpredict\u001b[0m\u001b[1;33m(\u001b[0m\u001b[0mself\u001b[0m\u001b[1;33m,\u001b[0m \u001b[0mimage\u001b[0m\u001b[1;33m,\u001b[0m \u001b[0memotions\u001b[0m\u001b[1;33m,\u001b[0m \u001b[0memotion_indices\u001b[0m\u001b[1;33m)\u001b[0m\u001b[1;33m:\u001b[0m\u001b[1;33m\u001b[0m\u001b[1;33m\u001b[0m\u001b[0m\n",
      "\u001b[1;32mc:\\Github\\ECAM\\machine_learning\\AI-Project-Smile\\venv\\lib\\site-packages\\tensorflow\\python\\keras\\utils\\vis_utils.py\u001b[0m in \u001b[0;36mplot_model\u001b[1;34m(model, to_file, show_shapes, show_dtype, show_layer_names, rankdir, expand_nested, dpi)\u001b[0m\n\u001b[0;32m    339\u001b[0m     \u001b[0mextension\u001b[0m \u001b[1;33m=\u001b[0m \u001b[0mextension\u001b[0m\u001b[1;33m[\u001b[0m\u001b[1;36m1\u001b[0m\u001b[1;33m:\u001b[0m\u001b[1;33m]\u001b[0m\u001b[1;33m\u001b[0m\u001b[1;33m\u001b[0m\u001b[0m\n\u001b[0;32m    340\u001b[0m   \u001b[1;31m# Save image to disk.\u001b[0m\u001b[1;33m\u001b[0m\u001b[1;33m\u001b[0m\u001b[1;33m\u001b[0m\u001b[0m\n\u001b[1;32m--> 341\u001b[1;33m   \u001b[0mdot\u001b[0m\u001b[1;33m.\u001b[0m\u001b[0mwrite\u001b[0m\u001b[1;33m(\u001b[0m\u001b[0mto_file\u001b[0m\u001b[1;33m,\u001b[0m \u001b[0mformat\u001b[0m\u001b[1;33m=\u001b[0m\u001b[0mextension\u001b[0m\u001b[1;33m)\u001b[0m\u001b[1;33m\u001b[0m\u001b[1;33m\u001b[0m\u001b[0m\n\u001b[0m\u001b[0;32m    342\u001b[0m   \u001b[1;31m# Return the image as a Jupyter Image object, to be displayed in-line.\u001b[0m\u001b[1;33m\u001b[0m\u001b[1;33m\u001b[0m\u001b[1;33m\u001b[0m\u001b[0m\n\u001b[0;32m    343\u001b[0m   \u001b[1;31m# Note that we cannot easily detect whether the code is running in a\u001b[0m\u001b[1;33m\u001b[0m\u001b[1;33m\u001b[0m\u001b[1;33m\u001b[0m\u001b[0m\n",
      "\u001b[1;32mc:\\Github\\ECAM\\machine_learning\\AI-Project-Smile\\venv\\lib\\site-packages\\pydot.py\u001b[0m in \u001b[0;36mwrite\u001b[1;34m(self, path, prog, format, encoding)\u001b[0m\n\u001b[0;32m   1827\u001b[0m         \u001b[1;32melse\u001b[0m\u001b[1;33m:\u001b[0m\u001b[1;33m\u001b[0m\u001b[1;33m\u001b[0m\u001b[0m\n\u001b[0;32m   1828\u001b[0m             \u001b[0ms\u001b[0m \u001b[1;33m=\u001b[0m \u001b[0mself\u001b[0m\u001b[1;33m.\u001b[0m\u001b[0mcreate\u001b[0m\u001b[1;33m(\u001b[0m\u001b[0mprog\u001b[0m\u001b[1;33m,\u001b[0m \u001b[0mformat\u001b[0m\u001b[1;33m,\u001b[0m \u001b[0mencoding\u001b[0m\u001b[1;33m=\u001b[0m\u001b[0mencoding\u001b[0m\u001b[1;33m)\u001b[0m\u001b[1;33m\u001b[0m\u001b[1;33m\u001b[0m\u001b[0m\n\u001b[1;32m-> 1829\u001b[1;33m             \u001b[1;32mwith\u001b[0m \u001b[0mio\u001b[0m\u001b[1;33m.\u001b[0m\u001b[0mopen\u001b[0m\u001b[1;33m(\u001b[0m\u001b[0mpath\u001b[0m\u001b[1;33m,\u001b[0m \u001b[0mmode\u001b[0m\u001b[1;33m=\u001b[0m\u001b[1;34m'wb'\u001b[0m\u001b[1;33m)\u001b[0m \u001b[1;32mas\u001b[0m \u001b[0mf\u001b[0m\u001b[1;33m:\u001b[0m\u001b[1;33m\u001b[0m\u001b[1;33m\u001b[0m\u001b[0m\n\u001b[0m\u001b[0;32m   1830\u001b[0m                 \u001b[0mf\u001b[0m\u001b[1;33m.\u001b[0m\u001b[0mwrite\u001b[0m\u001b[1;33m(\u001b[0m\u001b[0ms\u001b[0m\u001b[1;33m)\u001b[0m\u001b[1;33m\u001b[0m\u001b[1;33m\u001b[0m\u001b[0m\n\u001b[0;32m   1831\u001b[0m         \u001b[1;32mreturn\u001b[0m \u001b[1;32mTrue\u001b[0m\u001b[1;33m\u001b[0m\u001b[1;33m\u001b[0m\u001b[0m\n",
      "\u001b[1;31mFileNotFoundError\u001b[0m: [Errno 2] No such file or directory: 'neural_network/models/08-04-21T02h53m17d.png'"
     ]
    }
   ],
   "source": [
    "date = datetime.now()\n",
    "cnn_model.generate_model_plot(filename='neural_network/models/' + date.strftime('%d-%m-%yT%Hh%Mm%Sd'))"
   ],
   "metadata": {
    "collapsed": false,
    "pycharm": {
     "name": "#%%\n"
    }
   }
  },
  {
   "cell_type": "markdown",
   "source": [
    "### Train model"
   ],
   "metadata": {
    "collapsed": false,
    "pycharm": {
     "name": "#%% md\n"
    }
   }
  },
  {
   "cell_type": "code",
   "execution_count": 33,
   "outputs": [
    {
     "output_type": "stream",
     "name": "stdout",
     "text": [
      "Epoch 1/60\n"
     ]
    },
    {
     "output_type": "error",
     "ename": "UnknownError",
     "evalue": " Failed to get convolution algorithm. This is probably because cuDNN failed to initialize, so try looking to see if a warning log message was printed above.\n\t [[node sequential/conv2d/Conv2D (defined at c:\\Github\\ECAM\\machine_learning\\AI-Project-Smile\\neural_network\\src\\cnn_model.py:91) ]] [Op:__inference_train_function_4392]\n\nFunction call stack:\ntrain_function\n",
     "traceback": [
      "\u001b[1;31m---------------------------------------------------------------------------\u001b[0m",
      "\u001b[1;31mUnknownError\u001b[0m                              Traceback (most recent call last)",
      "\u001b[1;32m<ipython-input-33-0d9f3ccfc9ae>\u001b[0m in \u001b[0;36m<module>\u001b[1;34m\u001b[0m\n\u001b[0;32m      1\u001b[0m \u001b[1;31m# possible to modify steps per epoch and validation steps\u001b[0m\u001b[1;33m\u001b[0m\u001b[1;33m\u001b[0m\u001b[1;33m\u001b[0m\u001b[0m\n\u001b[1;32m----> 2\u001b[1;33m \u001b[0mcnn_model\u001b[0m\u001b[1;33m.\u001b[0m\u001b[0mtrain_model\u001b[0m\u001b[1;33m(\u001b[0m\u001b[0mtraining_set\u001b[0m\u001b[1;33m=\u001b[0m\u001b[0mtraining_set\u001b[0m\u001b[1;33m,\u001b[0m \u001b[0mtest_set\u001b[0m\u001b[1;33m=\u001b[0m\u001b[0mtest_set\u001b[0m\u001b[1;33m)\u001b[0m\u001b[1;33m\u001b[0m\u001b[1;33m\u001b[0m\u001b[0m\n\u001b[0m",
      "\u001b[1;32mc:\\Github\\ECAM\\machine_learning\\AI-Project-Smile\\neural_network\\src\\cnn_model.py\u001b[0m in \u001b[0;36mtrain_model\u001b[1;34m(self, training_set, test_set, steps_per_epoch, validation_steps)\u001b[0m\n\u001b[0;32m     89\u001b[0m         \u001b[0mtensorboard_callback\u001b[0m \u001b[1;33m=\u001b[0m \u001b[0mTensorBoard\u001b[0m\u001b[1;33m(\u001b[0m\u001b[0mlog_dir\u001b[0m\u001b[1;33m=\u001b[0m\u001b[0mlog_dir\u001b[0m\u001b[1;33m,\u001b[0m \u001b[0mhistogram_freq\u001b[0m\u001b[1;33m=\u001b[0m\u001b[1;36m1\u001b[0m\u001b[1;33m)\u001b[0m\u001b[1;33m\u001b[0m\u001b[1;33m\u001b[0m\u001b[0m\n\u001b[0;32m     90\u001b[0m \u001b[1;33m\u001b[0m\u001b[0m\n\u001b[1;32m---> 91\u001b[1;33m         self.hist = self._model.fit(x=training_set,\n\u001b[0m\u001b[0;32m     92\u001b[0m                                     \u001b[0mvalidation_data\u001b[0m\u001b[1;33m=\u001b[0m\u001b[0mtest_set\u001b[0m\u001b[1;33m,\u001b[0m\u001b[1;33m\u001b[0m\u001b[1;33m\u001b[0m\u001b[0m\n\u001b[0;32m     93\u001b[0m                                     \u001b[0mepochs\u001b[0m\u001b[1;33m=\u001b[0m\u001b[0mself\u001b[0m\u001b[1;33m.\u001b[0m\u001b[0mepochs\u001b[0m\u001b[1;33m,\u001b[0m\u001b[1;33m\u001b[0m\u001b[1;33m\u001b[0m\u001b[0m\n",
      "\u001b[1;32mc:\\Github\\ECAM\\machine_learning\\AI-Project-Smile\\venv\\lib\\site-packages\\tensorflow\\python\\keras\\engine\\training.py\u001b[0m in \u001b[0;36mfit\u001b[1;34m(self, x, y, batch_size, epochs, verbose, callbacks, validation_split, validation_data, shuffle, class_weight, sample_weight, initial_epoch, steps_per_epoch, validation_steps, validation_batch_size, validation_freq, max_queue_size, workers, use_multiprocessing)\u001b[0m\n\u001b[0;32m   1098\u001b[0m                 _r=1):\n\u001b[0;32m   1099\u001b[0m               \u001b[0mcallbacks\u001b[0m\u001b[1;33m.\u001b[0m\u001b[0mon_train_batch_begin\u001b[0m\u001b[1;33m(\u001b[0m\u001b[0mstep\u001b[0m\u001b[1;33m)\u001b[0m\u001b[1;33m\u001b[0m\u001b[1;33m\u001b[0m\u001b[0m\n\u001b[1;32m-> 1100\u001b[1;33m               \u001b[0mtmp_logs\u001b[0m \u001b[1;33m=\u001b[0m \u001b[0mself\u001b[0m\u001b[1;33m.\u001b[0m\u001b[0mtrain_function\u001b[0m\u001b[1;33m(\u001b[0m\u001b[0miterator\u001b[0m\u001b[1;33m)\u001b[0m\u001b[1;33m\u001b[0m\u001b[1;33m\u001b[0m\u001b[0m\n\u001b[0m\u001b[0;32m   1101\u001b[0m               \u001b[1;32mif\u001b[0m \u001b[0mdata_handler\u001b[0m\u001b[1;33m.\u001b[0m\u001b[0mshould_sync\u001b[0m\u001b[1;33m:\u001b[0m\u001b[1;33m\u001b[0m\u001b[1;33m\u001b[0m\u001b[0m\n\u001b[0;32m   1102\u001b[0m                 \u001b[0mcontext\u001b[0m\u001b[1;33m.\u001b[0m\u001b[0masync_wait\u001b[0m\u001b[1;33m(\u001b[0m\u001b[1;33m)\u001b[0m\u001b[1;33m\u001b[0m\u001b[1;33m\u001b[0m\u001b[0m\n",
      "\u001b[1;32mc:\\Github\\ECAM\\machine_learning\\AI-Project-Smile\\venv\\lib\\site-packages\\tensorflow\\python\\eager\\def_function.py\u001b[0m in \u001b[0;36m__call__\u001b[1;34m(self, *args, **kwds)\u001b[0m\n\u001b[0;32m    826\u001b[0m     \u001b[0mtracing_count\u001b[0m \u001b[1;33m=\u001b[0m \u001b[0mself\u001b[0m\u001b[1;33m.\u001b[0m\u001b[0mexperimental_get_tracing_count\u001b[0m\u001b[1;33m(\u001b[0m\u001b[1;33m)\u001b[0m\u001b[1;33m\u001b[0m\u001b[1;33m\u001b[0m\u001b[0m\n\u001b[0;32m    827\u001b[0m     \u001b[1;32mwith\u001b[0m \u001b[0mtrace\u001b[0m\u001b[1;33m.\u001b[0m\u001b[0mTrace\u001b[0m\u001b[1;33m(\u001b[0m\u001b[0mself\u001b[0m\u001b[1;33m.\u001b[0m\u001b[0m_name\u001b[0m\u001b[1;33m)\u001b[0m \u001b[1;32mas\u001b[0m \u001b[0mtm\u001b[0m\u001b[1;33m:\u001b[0m\u001b[1;33m\u001b[0m\u001b[1;33m\u001b[0m\u001b[0m\n\u001b[1;32m--> 828\u001b[1;33m       \u001b[0mresult\u001b[0m \u001b[1;33m=\u001b[0m \u001b[0mself\u001b[0m\u001b[1;33m.\u001b[0m\u001b[0m_call\u001b[0m\u001b[1;33m(\u001b[0m\u001b[1;33m*\u001b[0m\u001b[0margs\u001b[0m\u001b[1;33m,\u001b[0m \u001b[1;33m**\u001b[0m\u001b[0mkwds\u001b[0m\u001b[1;33m)\u001b[0m\u001b[1;33m\u001b[0m\u001b[1;33m\u001b[0m\u001b[0m\n\u001b[0m\u001b[0;32m    829\u001b[0m       \u001b[0mcompiler\u001b[0m \u001b[1;33m=\u001b[0m \u001b[1;34m\"xla\"\u001b[0m \u001b[1;32mif\u001b[0m \u001b[0mself\u001b[0m\u001b[1;33m.\u001b[0m\u001b[0m_experimental_compile\u001b[0m \u001b[1;32melse\u001b[0m \u001b[1;34m\"nonXla\"\u001b[0m\u001b[1;33m\u001b[0m\u001b[1;33m\u001b[0m\u001b[0m\n\u001b[0;32m    830\u001b[0m       \u001b[0mnew_tracing_count\u001b[0m \u001b[1;33m=\u001b[0m \u001b[0mself\u001b[0m\u001b[1;33m.\u001b[0m\u001b[0mexperimental_get_tracing_count\u001b[0m\u001b[1;33m(\u001b[0m\u001b[1;33m)\u001b[0m\u001b[1;33m\u001b[0m\u001b[1;33m\u001b[0m\u001b[0m\n",
      "\u001b[1;32mc:\\Github\\ECAM\\machine_learning\\AI-Project-Smile\\venv\\lib\\site-packages\\tensorflow\\python\\eager\\def_function.py\u001b[0m in \u001b[0;36m_call\u001b[1;34m(self, *args, **kwds)\u001b[0m\n\u001b[0;32m    853\u001b[0m       \u001b[1;31m# In this case we have created variables on the first call, so we run the\u001b[0m\u001b[1;33m\u001b[0m\u001b[1;33m\u001b[0m\u001b[1;33m\u001b[0m\u001b[0m\n\u001b[0;32m    854\u001b[0m       \u001b[1;31m# defunned version which is guaranteed to never create variables.\u001b[0m\u001b[1;33m\u001b[0m\u001b[1;33m\u001b[0m\u001b[1;33m\u001b[0m\u001b[0m\n\u001b[1;32m--> 855\u001b[1;33m       \u001b[1;32mreturn\u001b[0m \u001b[0mself\u001b[0m\u001b[1;33m.\u001b[0m\u001b[0m_stateless_fn\u001b[0m\u001b[1;33m(\u001b[0m\u001b[1;33m*\u001b[0m\u001b[0margs\u001b[0m\u001b[1;33m,\u001b[0m \u001b[1;33m**\u001b[0m\u001b[0mkwds\u001b[0m\u001b[1;33m)\u001b[0m  \u001b[1;31m# pylint: disable=not-callable\u001b[0m\u001b[1;33m\u001b[0m\u001b[1;33m\u001b[0m\u001b[0m\n\u001b[0m\u001b[0;32m    856\u001b[0m     \u001b[1;32melif\u001b[0m \u001b[0mself\u001b[0m\u001b[1;33m.\u001b[0m\u001b[0m_stateful_fn\u001b[0m \u001b[1;32mis\u001b[0m \u001b[1;32mnot\u001b[0m \u001b[1;32mNone\u001b[0m\u001b[1;33m:\u001b[0m\u001b[1;33m\u001b[0m\u001b[1;33m\u001b[0m\u001b[0m\n\u001b[0;32m    857\u001b[0m       \u001b[1;31m# Release the lock early so that multiple threads can perform the call\u001b[0m\u001b[1;33m\u001b[0m\u001b[1;33m\u001b[0m\u001b[1;33m\u001b[0m\u001b[0m\n",
      "\u001b[1;32mc:\\Github\\ECAM\\machine_learning\\AI-Project-Smile\\venv\\lib\\site-packages\\tensorflow\\python\\eager\\function.py\u001b[0m in \u001b[0;36m__call__\u001b[1;34m(self, *args, **kwargs)\u001b[0m\n\u001b[0;32m   2940\u001b[0m       (graph_function,\n\u001b[0;32m   2941\u001b[0m        filtered_flat_args) = self._maybe_define_function(args, kwargs)\n\u001b[1;32m-> 2942\u001b[1;33m     return graph_function._call_flat(\n\u001b[0m\u001b[0;32m   2943\u001b[0m         filtered_flat_args, captured_inputs=graph_function.captured_inputs)  # pylint: disable=protected-access\n\u001b[0;32m   2944\u001b[0m \u001b[1;33m\u001b[0m\u001b[0m\n",
      "\u001b[1;32mc:\\Github\\ECAM\\machine_learning\\AI-Project-Smile\\venv\\lib\\site-packages\\tensorflow\\python\\eager\\function.py\u001b[0m in \u001b[0;36m_call_flat\u001b[1;34m(self, args, captured_inputs, cancellation_manager)\u001b[0m\n\u001b[0;32m   1916\u001b[0m         and executing_eagerly):\n\u001b[0;32m   1917\u001b[0m       \u001b[1;31m# No tape is watching; skip to running the function.\u001b[0m\u001b[1;33m\u001b[0m\u001b[1;33m\u001b[0m\u001b[1;33m\u001b[0m\u001b[0m\n\u001b[1;32m-> 1918\u001b[1;33m       return self._build_call_outputs(self._inference_function.call(\n\u001b[0m\u001b[0;32m   1919\u001b[0m           ctx, args, cancellation_manager=cancellation_manager))\n\u001b[0;32m   1920\u001b[0m     forward_backward = self._select_forward_and_backward_functions(\n",
      "\u001b[1;32mc:\\Github\\ECAM\\machine_learning\\AI-Project-Smile\\venv\\lib\\site-packages\\tensorflow\\python\\eager\\function.py\u001b[0m in \u001b[0;36mcall\u001b[1;34m(self, ctx, args, cancellation_manager)\u001b[0m\n\u001b[0;32m    553\u001b[0m       \u001b[1;32mwith\u001b[0m \u001b[0m_InterpolateFunctionError\u001b[0m\u001b[1;33m(\u001b[0m\u001b[0mself\u001b[0m\u001b[1;33m)\u001b[0m\u001b[1;33m:\u001b[0m\u001b[1;33m\u001b[0m\u001b[1;33m\u001b[0m\u001b[0m\n\u001b[0;32m    554\u001b[0m         \u001b[1;32mif\u001b[0m \u001b[0mcancellation_manager\u001b[0m \u001b[1;32mis\u001b[0m \u001b[1;32mNone\u001b[0m\u001b[1;33m:\u001b[0m\u001b[1;33m\u001b[0m\u001b[1;33m\u001b[0m\u001b[0m\n\u001b[1;32m--> 555\u001b[1;33m           outputs = execute.execute(\n\u001b[0m\u001b[0;32m    556\u001b[0m               \u001b[0mstr\u001b[0m\u001b[1;33m(\u001b[0m\u001b[0mself\u001b[0m\u001b[1;33m.\u001b[0m\u001b[0msignature\u001b[0m\u001b[1;33m.\u001b[0m\u001b[0mname\u001b[0m\u001b[1;33m)\u001b[0m\u001b[1;33m,\u001b[0m\u001b[1;33m\u001b[0m\u001b[1;33m\u001b[0m\u001b[0m\n\u001b[0;32m    557\u001b[0m               \u001b[0mnum_outputs\u001b[0m\u001b[1;33m=\u001b[0m\u001b[0mself\u001b[0m\u001b[1;33m.\u001b[0m\u001b[0m_num_outputs\u001b[0m\u001b[1;33m,\u001b[0m\u001b[1;33m\u001b[0m\u001b[1;33m\u001b[0m\u001b[0m\n",
      "\u001b[1;32mc:\\Github\\ECAM\\machine_learning\\AI-Project-Smile\\venv\\lib\\site-packages\\tensorflow\\python\\eager\\execute.py\u001b[0m in \u001b[0;36mquick_execute\u001b[1;34m(op_name, num_outputs, inputs, attrs, ctx, name)\u001b[0m\n\u001b[0;32m     57\u001b[0m   \u001b[1;32mtry\u001b[0m\u001b[1;33m:\u001b[0m\u001b[1;33m\u001b[0m\u001b[1;33m\u001b[0m\u001b[0m\n\u001b[0;32m     58\u001b[0m     \u001b[0mctx\u001b[0m\u001b[1;33m.\u001b[0m\u001b[0mensure_initialized\u001b[0m\u001b[1;33m(\u001b[0m\u001b[1;33m)\u001b[0m\u001b[1;33m\u001b[0m\u001b[1;33m\u001b[0m\u001b[0m\n\u001b[1;32m---> 59\u001b[1;33m     tensors = pywrap_tfe.TFE_Py_Execute(ctx._handle, device_name, op_name,\n\u001b[0m\u001b[0;32m     60\u001b[0m                                         inputs, attrs, num_outputs)\n\u001b[0;32m     61\u001b[0m   \u001b[1;32mexcept\u001b[0m \u001b[0mcore\u001b[0m\u001b[1;33m.\u001b[0m\u001b[0m_NotOkStatusException\u001b[0m \u001b[1;32mas\u001b[0m \u001b[0me\u001b[0m\u001b[1;33m:\u001b[0m\u001b[1;33m\u001b[0m\u001b[1;33m\u001b[0m\u001b[0m\n",
      "\u001b[1;31mUnknownError\u001b[0m:  Failed to get convolution algorithm. This is probably because cuDNN failed to initialize, so try looking to see if a warning log message was printed above.\n\t [[node sequential/conv2d/Conv2D (defined at c:\\Github\\ECAM\\machine_learning\\AI-Project-Smile\\neural_network\\src\\cnn_model.py:91) ]] [Op:__inference_train_function_4392]\n\nFunction call stack:\ntrain_function\n"
     ]
    }
   ],
   "source": [
    "# possible to modify steps per epoch and validation steps\n",
    "cnn_model.train_model(training_set=training_set, test_set=test_set)"
   ],
   "metadata": {
    "collapsed": false,
    "pycharm": {
     "name": "#%%\n"
    }
   }
  },
  {
   "cell_type": "markdown",
   "source": [
    "## Results"
   ],
   "metadata": {
    "collapsed": false,
    "pycharm": {
     "name": "#%% md\n"
    }
   }
  },
  {
   "cell_type": "markdown",
   "source": [
    "### Loss and Accuracy plots"
   ],
   "metadata": {
    "collapsed": false,
    "pycharm": {
     "name": "#%% md\n"
    }
   }
  },
  {
   "cell_type": "code",
   "execution_count": 63,
   "outputs": [
    {
     "data": {
      "text/plain": "<Figure size 1008x360 with 2 Axes>",
      "image/png": "[encoded data removed]"
     },
     "metadata": {
      "needs_background": "light"
     },
     "output_type": "display_data"
    }
   ],
   "source": [
    "# cnn_model.plot_accuracy_and_loss_plotly()\n",
    "\n",
    "cnn_model.plot_accuracy_and_loss_plt()"
   ],
   "metadata": {
    "collapsed": false,
    "pycharm": {
     "name": "#%%\n"
    }
   }
  },
  {
   "cell_type": "markdown",
   "source": [
    "### Loss and Accuracy final values\n",
    "\n",
    "cnn_model.evaluate_model(training_set=training_set, test_set=test_set)"
   ],
   "metadata": {
    "collapsed": false,
    "pycharm": {
     "name": "#%% md\n"
    }
   }
  },
  {
   "cell_type": "code",
   "execution_count": 64,
   "outputs": [
    {
     "name": "stdout",
     "output_type": "stream",
     "text": [
      "449/449 [==============================] - 10s 22ms/step - loss: 0.8879 - accuracy: 0.6680\b\b\b\b\b\b\b\b\b\b\b\b\b\b\b\b\b\b\b\b\b\b\b\b\b\b\b\b\b\b\b\b\b\b\b\b\b\b\b\b\b\b\b\b\b\b\b\b\b\b\b\b\b\b\b\b\b\b\b\b\b\b\b\b\b\b\b\b\b\b\b\b\b\b\b\b\b\b\b\b\b\b\b\b\b\b\b\b\b\b\b\b\b\b\b\b\b\b\b\b\b\b\b\b\b\b\b\b\b\b\b\b\b\b\b\b\b\b\b\b\b\b\b\b\b\b\b\b\b\b\b\b\b\b\b\b\b\b\b\b\b\b\b\b\b\b\b\b\b\b\b\b\b\b\b\b\b\b\b\b\b\b\b\b\b\b\b\b\b\b\b\b\b\b\b\b\b\b\b\b\b\b\b\b\b\b\b\b\b\b\b\b\b\b\b\b\b\b\b\b\b\b\b\b\b\b\b\b\b\b\b\b\b\b\b\b\b\b\b\b\b\b\b\b\b\b\b\b\b\b\b\b\b\b\b\b\b\b\b\b\b\b\b\b\b\b\b\b\b\b\b\b\b\b\b\b\b\b\b\b\b\b\b\b\b\b\b\b\b\b\b\b\b\b\b\b\b\b\b\b\b\b\b\b\b\b\b\b\b\b\b\b\b\b\b\b\b\b\b\b\b\b\b\b\b\b\b\b\b\b\b\b\b\b\b\b\b\b\b\b\b\b\b\b\b\b\b\b\b\b\b\b\b\b\b\b\b\b\b\b\b\b\b\b\b\b\b\b\b\b\b\b\b\b\b\b\b\b\b\b\b\b\b\b\b\b\b\b\b\b\b\b\b\b\b\b\b\b\b\b\b\b\b\b\b\b\b\b\b\b\b\b\b\b\b\b\b\b\b\b\b\b\b\b\b\b\b\b\b\b\b\b\b\b\b\b\b\b\b\b\b\b\b\b\b\b\b\b\b\b\b\b\b\b\b\b\b\b\b\b\b\b\b\b\b\b\b\b\b\b\b\b\b\b\b\b\b\b\b\b\b\b\b\b\b\b\b\b\b\b\b\b\b\b\b\b\b\b\b\b\b\b\b\b\b\b\b\b\b\b\b\b\b\b\b\b\b\b\b\b\b\b\b\b\b\b\b\b\b\b\b\b\b\b\b\b\b\b\b\b\b\b\b\b\b\b\b\b\b\b\b\b\b\b\b\b\b\b\b\b\b\b\b\b\b\b\b\b\b\b\b\b\b\b\b\b\b\b\b\b\b\b\b\b\b\b\b\b\b\b\b\b\b\b\b\b\b\b\b\b\b\b\b\b\b\b\b\b\b\b\b\b\b\b\b\b\b\b\b\b\b\b\b\b\b\b\b\b\b\b\b\b\b\b\b\b\b\b\b\b\b\b\b\b\b\b\b\b\b\b\b\b\b\b\b\b\b\b\b\b\b\b\b\b\b\b\b\b\b\b\b\b\b\b\b\b\b\b\b\b\b\b\b\b\b\b\b\b\b\b\b\b\b\b\b\b\b\b\b\b\b\b\b\b\b\b\b\b\b\b\b\b\b\b\b\b\b\b\b\b\b\b\b\b\b\b\b\b\b\b\b\b\b\b\b\b\b\b\b\b\b\b\b\b\b\b\b\b\b\b\b\b\b\b\b\b\b\b\b\b\b\b\b\b\b\b\b\b\b\b\b\b\b\b\b\b\b\b\b\b\b\b\b\b\b\b\b\b\b\b\b\b\b\b\b\b\b\b\b\b\b\b\b\b\b\b\b\b\b\b\b\b\b\b\b\b\b\b\b\b\b\b\b\b\b\b\b\b\b\b\b\b\b\b\b\b\b\b\b\b\b\b\b\b\b\b\b\b\b\b\b\b\b\b\b\b\b\b\b\b\b\b\b\b\b\b\b\b\b\b\b\b\b\b\b\b\b\b\b\b\b\b\b\b\b\b\b\b\b\b\b\b\b\b\b\b\b\b\b\b\b\b\b\b\b\b\b\b\b\b\b\b\b\b\b\b\b\b\b\b\b\b\b\b\b\b\b\b\b\b\b\b\b\b\b\b\b\b\b\b\b\b\b\b\b\b\b\b\b\b\b\b\b\b\b\b\b\b\b\b\b\b\b\b\b\b\b\b\b\b\b\b\b\b\b\b\b\b\b\b\b\b\b\b\b\b\b\b\b\b\b\b\b\b\b\b\b\b\b\b\b\b\b\b\b\b\b\b\b\b\b\b\b\b\b\b\b\b\b\b\b\b\b\b\b\b\b\b\b\b\b\b\b\b\b\b\b\b\b\b\b\b\b\b\b\b\b\b\b\b\b\b\b\b\b\b\b\b\b\b\b\b\b\b\b\b\b\b\b\b\b\b\b\b\b\b\b\b\b\b\b\b\b\b\b\b\b\b\b\b\b\b\b\b\b\b\b\b\b\b\b\b\b\b\b\b\b\b\b\b\b\b\b\b\b\b\b\b\b\b\b\b\b\b\b\b\b\b\b\b\b\b\b\b\b\b\b\b\b\b\b\b\b\b\b\b\b\b\b\b\b\b\b\b\b\b\b\b\b\b\b\b\b\b\b\b\b\b\b\b\b\b\b\b\b\b\b\b\b\b\b\b\b\b\b\b\b\b\b\b\b\b\b\b\b\b\b\b\b\b\b\b\b\b\b\b\b\b\b\b\b\b\b\b\b\b\b\b\b\b\b\b\b\b\b\b\b\b\b\b\b\b\b\b\b\b\b\b\b\b\b\b\b\b\b\b\b\b\b\b\b\b\b\b\b\b\b\b\b\b\b\b\b\b\b\b\b\b\b\b\b\b\b\b\b\b\b\b\b\b\b\b\b\b\b\b\b\b\b\b\b\b\b\b\b\b\b\b\b\b\b\b\b\b\b\b\b\b\b\b\b\b\b\b\b\b\b\b\b\b\b\b\b\b\b\b\b\b\b\b\b\b\b\b\b\b\b\b\b\b\b\b\b\b\b\b\b\b\b\b\b\b\b\b\b\b\b\b\b\b\b\b\b\b\b\b\b\b\b\b\b\b\b\b\b\b\b\b\b\b\b\b\b\b\b\b\b\b\b\b\b\b\b\b\b\b\b\b\b\b\b\b\b\b\b\b\b\b\b\b\b\b\b\b\b\b\b\b\b\b\b\b\b\b\b\b\b\b\b\b\b\b\b\b\b\b\b\b\b\b\b\b\b\b\b\b\b\b\b\b\b\b\b\b\b\b\b\b\b\b\b\b\b\b\b\b\b\b\b\b\b\b\b\b\b\b\b\b\b\b\b\b\b\b\b\b\b\b\b\b\b\b\b\b\b\b\b\b\b\b\b\b\b\b\b\b\b\b\b\b\b\b\b\b\b\b\b\b\b\b\b\b\b\b\b\b\b\b\b\b\b\b\b\b\b\b\b\b\b\b\b\b\b\b\b\b\b\b\b\b\b\b\b\b\b\b\b\b\b\b\b\b\b\b\b\b\b\b\b\b\b\b\b\b\b\b\b\b\b\b\b\b\b\b\b\b\b\b\b\b\b\b\b\b\b\b\b\b\b\b\b\b\b\b\b\b\b\b\b\b\b\b\b\b\b\b\b\b\b\b\b\b\b\b\b\b\b\b\b\b\b\b\b\b\b\b\b\b\b\b\b\b\b\b\b\b\b\b\b\b\b\b\b\b\b\b\b\b\b\b\b\b\b\b\b\b\b\b\b\b\b\b\b\b\b\b\b\b\b\b\b\b\b\b\b\b\b\b\b\b\b\b\b\b\b\b\b\b\b\b\b\b\b\b\b\b\b\b\b\b\b\b\b\b\b\b\b\b\b\b\b\b\b\b\b\b\b\b\b\b\b\b\b\b\b\b\b\b\b\b\b\b\b\b\b\b\b\b\b\b\b\b\b\b\b\b\b\b\b\b\b\b\b\b\b\b\b\b\b\b\b\b\b\b\b\b\b\b\b\b\b\b\b\b\b\b\b\b\b\b\b\b\b\b\b\b\b\b\b\b\b\b\b\b\b\b\b\b\b\b\b\b\b\b\b\b\b\b\b\b\b\b\b\b\b\b\b\b\b\b\b\b\b\b\b\b\b\b\b\b\b\b\b\b\b\b\b\b\b\b\b\b\b\b\b\b\b\b\b\b\b\b\b\b\b\b\b\b\b\b\b\b\b\b\b\b\b\b\b\b\b\b\b\b\b\b\b\b\b\b\b\b\b\b\b\b\b\b\b\b\b\b\b\b\b\b\b\b\b\b\b\b\b\b\b\b\b\b\b\b\b\b\b\b\b\b\b\b\b\b\b\b\b\b\b\b\b\b\b\b\b\b\b\b\b\b\b\b\b\b\b\b\b\b\b\b\b\b\b\b\b\b\b\b\b\b\b\b\b\b\b\b\b\b\b\b\b\b\b\b\b\b\b\b\b\b\b\b\b\b\b\b\b\b\b\b\b\b\b\b\b\b\b\b\b\b\b\b\b\b\b\b\b\b\b\b\b\b\b\b\b\b\b\b\b\b\b\b\b\b\b\b\b\b\b\b\b\b\b\b\b\b\b\b\b\b\b\b\b\b\b\b\b\b\b\b\b\b\b\b\b\b\b\b\b\b\b\b\b\b\b\b\b\b\b\b\b\b\b\b\b\b\b\b\b\b\b\b\b\b\b\b\b\b\b\b\b\b\b\b\b\b\b\b\b\b\b\b\b\b\b\b\b\b\b\b\b\b\b\b\b\b\b\b\b\b\b\b\b\b\b\b\b\b\b\b\b\b\b\b\b\b\b\b\b\b\b\b\b\b\b\b\b\b\b\b\b\b\b\b\b\b\b\b\b\b\b\b\b\b\b\b\b\b\b\b\b\b\b\b\b\b\b\b\b\b\b\b\b\b\b\b\b\b\b\b\b\b\b\b\b\b\b\b\b\b\b\b\b\b\b\b\b\b\b\b\b\b\b\b\b\b\b\b\b\b\b\b\b\b\b\b\b\b\b\b\b\b\b\b\b\b\b\b\b\b\b\b\b\b\b\b\b\b\b\b\b\b\b\b\b\b\b\b\b\b\b\b\b\b\b\b\b\b\b\b\b\b\b\b\b\b\b\b\b\b\b\b\b\b\b\b\b\b\b\b\b\b\b\b\b\b\b\b\b\b\b\b\b\b\b\b\b\b\b\b\b\b\b\b\b\b\b\b\b\b\b\b\b\b\b\b\b\b\b\b\b\b\b\b\b\b\b\b\b\b\b\b\b\b\b\b\b\b\b\b\b\b\b\b\b\b\b\b\b\b\b\b\b\b\b\b\b\b\b\b\b\b\b\b\b\b\b\b\b\b\b\b\b\b\b\b\b\b\b\b\b\b\b\b\b\b\b\b\b\b\b\b\b\b\b\b\b\b\b\b\b\b\b\b\b\b\b\b\b\b\b\b\b\b\b\b\b\b\b\b\b\b\b\b\b\b\b\b\b\b\b\b\b\b\b\b\b\b\b\b\b\b\b\b\b\b\b\b\b\b\b\b\b\b\b\b\b\b\b\b\b\b\b\b\b\b\b\b\b\b\b\b\b\b\b\b\b\b\b\b\b\b\b\b\b\b\b\b\b\b\b\b\b\b\b\b\b\b\b\b\b\b\b\b\b\b\b\b\b\b\b\b\b\b\b\b\b\b\b\b\b\b\b\b\b\b\b\b\b\b\b\b\b\b\b\b\b\b\b\b\b\b\b\b\b\b\b\b\b\b\b\b\b\b\b\b\b\b\b\b\b\b\b\b\b\b\b\b\b\b\b\b\b\b\b\b\b\b\b\b\b\b\b\b\b\b\b\b\b\b\b\b\b\b\b\b\b\b\b\b\b\b\b\b\b\b\b\b\b\b\b\b\b\b\b\b\b\b\b\b\b\b\b\b\b\b\b\b\b\b\b\b\b\b\b\b\b\b\b\b\b\b\b\b\b\b\b\b\b\b\b\b\b\b\b\b\b\b\b\b\b\b\b\b\b\b\b\b\b\b\b\b\b\b\b\b\b\b\b\b\b\b\b\b\b\b\b\b\b\b\b\b\b\b\b\b\b\b\b\b\b\b\b\b\b\b\b\b\b\b\b\b\b\b\b\b\b\b\b\b\b\b\b\b\b\b\b\b\b\b\b\b\b\b\b\b\b\b\b\b\b\b\b\b\b\b\b\b\b\b\b\b\b\b\b\b\b\b\b\b\b\b\b\b\b\b\b\b\b\b\b\b\b\b\b\b\b\b\b\b\b\b\b\b\b\b\b\b\b\b\b\b\b\b\b\b\b\b\b\b\b\b\b\b\b\b\b\b\b\b\b\b\b\b\b\b\b\b\b\b\b\b\b\b\b\b\b\b\b\b\b\b\b\b\b\b\b\b\b\b\b\b\b\b\b\b\b\b\b\b\b\b\b\b\b\b\b\b\b\b\b\b\b\b\b\b\b\b\b\b\b\b\b\b\b\b\b\b\b\b\b\b\b\b\b\b\b\b\b\b\b\b\b\b\b\b\b\b\b\b\b\b\b\b\b\b\b\b\b\b\b\b\b\b\b\b\b\b\b\b\b\b\b\b\b\b\b\b\b\b\b\b\b\b\b\b\b\b\b\b\b\b\b\b\b\b\b\b\b\b\b\b\b\b\b\b\b\b\b\b\b\b\b\b\b\b\b\b\b\b\b\b\b\b\b\b\b\b\b\b\b\b\b\b\b\b\b\b\b\b\b\b\b\b\b\b\b\b\b\b\b\b\b\b\b\b\b\b\b\b\b\b\b\b\b\b\b\b\b\b\b\b\b\b\b\b\b\b\b\b\b\b\b\b\b\b\b\b\b\b\b\b\b\b\b\b\b\b\b\b\b\b\b\b\b\b\b\b\b\b\b\b\b\b\b\b\b\b\b\b\b\b\b\b\b\b\b\b\b\b\b\b\b\b\b\b\b\b\b\b\b\b\b\b\b\b\b\b\b\b\b\b\b\b\b\b\b\b\b\b\b\b\b\b\b\b\b\b\b\b\b\b\b\b\b\b\b\b\b\b\b\b\b\b\b\b\b\b\b\b\b\b\b\b\b\b\b\b\b\b\b\b\b\b\b\b\b\b\b\b\b\b\b\b\b\b\b\b\b\b\b\b\b\b\b\b\b\b\b\b\b\b\b\b\b\b\b\b\b\b\b\b\b\b\b\b\b\b\b\b\b\b\b\b\b\b\b\b\b\b\b\b\b\b\b\b\b\b\b\b\b\b\b\b\b\b\b\b\b\b\b\b\b\b\b\b\b\b\b\b\b\b\b\b\b\b\b\b\b\b\b\b\b\b\b\b\b\b\b\b\b\b\b\b\b\b\b\b\b\b\b\b\b\b\b\b\b\b\b\b\b\b\b\b\b\b\b\b\b\b\b\b\b\b\b\b\b\b\b\b\b\b\b\b\b\b\b\b\b\b\b\b\b\b\b\b\b\b\b\b\b\b\b\b\b\b\b\b\b\b\b\b\b\b\b\b\b\b\b\b\b\b\b\b\b\b\b\b\b\b\b\b\b\b\b\b\b\b\b\b\b\b\b\b\b\b\b\b\b\b\b\b\b\b\b\b\b\b\b\b\b\b\b\b\b\b\b\b\b\b\b\b\b\b\b\b\b\b\b\b\b\b\b\b\b\b\b\b\b\b\b\b\b\b\b\b\b\b\b\b\b\b\b\b\b\b\b\b\b\b\b\b\b\b\b\b\b\b\b\b\b\b\b\b\b\b\b\b\b\b\b\b\b\b\b\b\b\b\b\b\b\b\b\b\b\b\b\b\b\b\b\b\b\b\b\b\b\b\b\b\b\b\b\b\b\b\b\b\b\b\b\b\b\b\b\b\b\b\b\b\b\b\b\b\b\b\b\b\b\b\b\b\b\b\b\b\b\b\b\b\b\b\b\b\b\b\b\b\b\b\b\b\b\b\b\b\b\b\b\b\b\b\b\b\b\b\b\b\b\b\b\b\b\b\b\b\b\b\b\b\b\b\b\b\b\b\b\b\b\b\b\b\b\b\b\b\b\b\b\b\b\b\b\b\b\b\b\b\b\b\b\b\b\b\b\b\b\b\b\b\b\b\b\b\b\b\b\b\b\b\b\b\b\b\b\b\b\b\b\b\b\b\b\b\b\b\b\b\b\b\b\b\b\b\b\b\b\b\b\b\b\b\b\b\b\b\b\b\b\b\b\b\b\b\b\b\b\b\b\b\b\b\b\b\b\b\b\b\b\b\b\b\b\b\b\b\b\b\b\b\b\b\b\b\b\b\b\b\b\b\b\b\b\b\b\b\b\b\b\b\b\b\b\b\b\b\b\b\b\b\b\b\b\b\b\b\b\b\b\b\b\b\b\b\b\b\b\b\b\b\b\b\b\b\b\b\b\b\b\b\b\b\b\b\b\b\b\b\b\b\b\b\b\b\b\b\b\b\b\b\b\b\b\b\b\b\b\b\b\b\b\b\b\b\b\b\b\b\b\b\b\b\b\b\b\b\b\b\b\b\b\b\b\b\b\b\b\b\b\b\b\b\b\b\b\b\b\b\b\b\b\b\b\b\b\b\b\b\b\b\b\b\b\b\b\b\b\b\b\b\b\b\b\b\b\b\b\b\b\b\b\b\b\b\b\b\b\b\b\b\b\b\b\b\b\b\b\b\b\b\b\b\b\b - ETA: 6s - loss: 0.8720 - accuracy: 0.6748\b\b\b\b\b\b\b\b\b\b\b\b\b\b\b\b\b\b\b\b\b\b\b\b\b\b\b\b\b\b\b\b\b\b\b\b\b\b\b\b\b\b\b\b\b\b\b\b\b\b\b\b\b\b\b\b\b\b\b\b\b\b\b\b\b\b\b\b\b\b\b\b\b\b\b\b\b\b\b\b\b\b\b\b\b\b\b\b\b\b\b\b\b\b\b\b\b\b\b\b\b\b\b\b\b\b\b\b\b\b\b\b\b\b\b\b\b\b\b\b\b\b\b\b\b\b\b\b\b\b\b\b\b\b\b\b\b\b\b\b\b\b\b\b\b\b\b\b\b\b\b\b\b\b\b\b\b\b\b\b\b\b\b\b\b\b\b\b\b\b\b\b\b\b\b\b\b\b\b\b\b\b\b\b\b\b\b\b\b\b\b\b\b\b\b\b\b\b\b\b\b\b\b\b\b\b\b\b\b\b\b\b\b\b\b\b\b\b\b\b\b\b\b\b\b\b\b\b\b\b\b\b\b\b\b\b\b\b\b\b\b\b\b\b\b\b\b\b\b\b\b\b\b\b\b\b\b\b\b\b\b\b\b\b\b\b\b\b\b\b\b\b\b\b\b\b\b\b\b\b\b\b\b\b\b\b\b\b\b\b\b\b\b\b\b\b\b\b\b\b\b\b\b\b\b\b\b\b\b\b\b\b\b\b\b\b\b\b\b\b\b\b\b\b\b\b\b\b\b\b\b\b\b\b\b\b\b\b\b\b\b\b\b\b\b\b\b\b\b\b\b\b\b\b\b\b\b\b\b\b\b\b\b\b\b\b\b\b\b\b\b\b\b\b\b\b\b\b\b\b\b\b\b\b\b\b\b\b\b\b\b\b\b\b\b\b\b\b\b\b\b\b\b\b\b\b\b\b\b\b\b\b\b\b\b\b\b\b\b\b - ETA: 6s - loss: 0.8707 - accuracy: 0.6746\b\b\b\b\b\b\b\b\b\b\b\b\b\b\b\b\b\b\b\b\b\b\b\b\b\b\b\b\b\b\b\b\b\b\b\b\b\b\b\b\b\b\b\b\b\b\b\b\b\b\b\b\b\b\b\b\b\b\b\b\b\b\b\b\b\b\b\b\b\b\b\b\b\b\b\b\b\b\b\b\b\b\b\b\b\b\b\b\b\b\b\b\b\b\b\b\b\b\b\b\b\b\b\b\b\b\b\b\b\b\b\b\b\b\b\b\b\b\b\b\b\b\b\b\b\b\b\b\b\b\b\b\b\b\b\b\b\b\b\b\b\b\b\b\b\b\b\b\b\b\b\b\b\b\b\b\b\b\b\b\b\b\b\b\b\b\b\b\b\b\b\b\b\b\b\b\b\b\b\b\b\b\b\b\b\b\b\b\b\b\b\b\b\b\b\b\b\b\b\b\b\b\b\b\b\b\b\b\b\b\b\b\b\b\b\b\b\b\b\b\b\b\b\b\b\b\b\b\b\b\b\b\b\b\b\b\b\b\b\b\b\b\b\b\b\b\b\b\b\b\b\b\b\b\b\b\b\b\b\b\b\b\b\b\b\b\b\b\b\b\b\b\b\b\b\b\b\b\b\b\b\b\b\b\b\b\b\b\b\b\b\b\b\b\b\b\b\b\b\b\b\b\b\b\b\b\b\b\b\b\b\b\b\b\b\b\b\b\b\b\b\b\b\b\b\b\b\b\b\b\b\b\b\b\b\b\b\b\b\b\b\b\b\b\b\b\b\b\b\b\b\b\b\b\b\b\b\b\b\b\b\b\b\b\b\b\b\b\b\b\b\b\b\b\b\b\b\b\b\b\b\b\b\b\b\b\b\b\b\b\b\b\b\b\b\b\b\b\b\b\b\b\b\b\b\b\b\b\b\b\b\b\b\b\b\b\b\b\b\b\b\b\b\b\b\b\b\b\b\b\b\b\b\b\b\b\b\b\b\b\b\b\b\b\b\b\b\b\b\b\b\b\b\b\b\b\b\b\b\b\b\b\b\b\b\b\b\b\b\b\b\b\b\b\b\b\b\b\b\b\b\b\b\b\b\b\b\b\b\b\b\b\b\b\b\b\b\b\b\b\b\b\b\b\b\b\b\b\b\b\b\b\b\b\b\b\b\b\b\b\b\b\b\b\b\b\b\b\b\b\b\b\b\b\b\b\b\b\b\b\b\b\b\b\b\b\b\b\b\b\b\b\b\b\b\b\b\b\b\b\b\b\b\b\b\b\b\b\b\b\b\b\b\b\b\b\b\b\b\b\b\b\b\b\b\b\b\b\b\b\b\b\b\b\b\b\b\b\b\b\b\b\b\b\b\b\b\b\b\b\b\b\b\b\b\b\b\b\b\b\b\b\b\b\b\b\b\b\b\b\b\b\b\b\b\b\b\b\b\b\b\b\b\b\b\b\b\b\b\b\b\b\b\b\b\b\b\b\b\b\b\b\b\b\b\b\b\b\b\b\b\b\b\b\b\b\b\b\b\b\b\b\b\b\b\b\b\b\b\b\b\b\b\b\b\b\b\b\b\b\b\b\b\b\b\b\b\b\b\b\b\b\b\b\b\b\b\b\b\b\b\b\b\b\b\b\b\b\b\b\b\b\b\b\b\b\b\b\b\b\b\b\b\b\b\b\b\b\b\b\b\b\b\b\b\b\b\b\b\b\b\b\b\b\b\b\b\b\b\b\b\b\b\b\b\b\b\b\b\b\b\b\b\b\b\b\b\b\b\b\b\b\b\b\b\b\b\b\b\b\b\b\b\b\b\b\b\b\b\b\b\b\b\b\b\b\b\b\b\b\b\b\b\b\b\b\b\b\b\b\b\b\b\b\b\b\b\b\b\b\b\b\b\b\b\b\b\b\b\b\b\b\b\b\b\b\b\b\b\b\b\b\b\b\b\b\b\b\b\b\b\b\b\b\b\b\b\b\b\b\b\b\b\b\b\b\b\b\b\b\b\b\b\b\b\b\b\b\b\b\b\b\b\b\b\b\b\b\b\b\b\b\b\b\b\b\b\b\b\b\b\b\b\b\b\b\b\b\b\b\b\b\b\b\b\b\b\b\b\b\b\b\b\b\b\b\b\b\b\b\b\b\b\b\b\b\b\b\b\b\b\b\b\b\b\b\b\b\b\b\b\b\b\b\b\b\b\b\b\b\b\b\b\b\b\b\b\b\b\b\b\b\b\b\b\b\b\b\b\b\b\b\b\b\b\b\b\b\b\b\b\b\b\b\b\b\b\b\b\b\b\b\b\b\b\b\b\b\b\b\b\b\b\b\b\b\b\b\b\b\b\b\b\b\b\b\b\b\b\b\b\b\b\b\b\b\b\b\b\b\b\b\b\b\b\b\b\b\b\b\b\b\b\b\b\b\b\b\b\b\b\b\b\b\b\b\b\b\b\b\b\b\b\b\b\b\b\b\b\b\b\b\b\b\b\b\b\b\b\b\b\b\b\b\b\b\b\b\b\b\b\b\b\b\b\b\b\b\b\b\b\b\b\b\b\b\b\b\b\b\b\b\b\b\b\b\b\b\b\b\b\b\b\b\b\b\b\b\b\b\b\b\b\b\b\b\b\b\b\b\b\b\b\b\b\b\b\b\b\b\b\b\b\b\b\b\b\b\b\b\b\b\b\b\b\b\b\b\b\b\b\b\b\b\b\b\b\b\b\b\b\b\b\b\b\b\b\b\b\b\b\b\b\b\b\b\b\b\b\b\b\b\b\b\b\b\b\b\b\b\b\b\b\b\b\b\b\b\b\b\b\b\b\b\b\b\b\b\b\b\b\b\b\b\b\b\b\b\b\b\b\b\b\b\b\b\b\b\b\b\b\b\b\b\b\b\b\b\b\b\b\b\b\b\b\b\b\b\b\b\b\b\b\b\b\b\b\b\b\b\b\b\b\b\b\b\b\b\b\b\b\b\b\b\b\b\b\b\b\b\b\b\b\b\b\b\b\b\b\b\b\b\b\b\b\b\b\b\b\b\b\b\b\b\b\b\b\b\b\b\b\b\b\b\b\b\b\b\b\b\b\b\b\b\b\b\b\b\b\b\b\b\b\b\b\b\b\b\b\b\b\b\b\b\b\b\b\b\b\b\b\b\b\b\b\b\b\b\b\b\b\b\b\b\b\b\b\b\b\b\b\b\b\b\b\b\b\b\b\b\b\b\b\b\b\b\b\b\b\b\b\b\b\b\b\b\b\b\b\b\b\b\b\b\b\b\b\b\b\b\b\b\b\b\b\b\b\b\b\b\b\b\b\b\b\b\b\b\b\b\b\b\b\b\b\b\b\b\b\b\b\b\b\b\b\b\b\b\b\b\b\b\b\b\b\b\b\b\b\b\b\b\b\b\b\b\b\b\b\b\b\b\b\b\b\b\b\b\b\b\b\b\b\b\b\b\b\b\b\b\b\b\b\b\b\b\b\b\b\b\b\b\b\b\b\b\b\b\b\b\b\b\b\b\b\b\b\b\b\b\b\b\b\b\b\b\b\b\b\b\b\b\b\b\b\b\b\b\b\b\b\b\b\b\b\b\b\b\b\b\b\b\b\b\b\b\b\b\b\b\b\b\b\b\b\b\b\b\b\b\b\b\b\b\b\b\b\b\b\b\b\b\b\b\b\b\b\b\b\b\b\b\b\b\b\b\b\b\b\b\b\b\b\b\b\b\b\b\b\b\b\b\b\b\b\b\b\b\b\b\b\b\b\b\b\b\b\b\b\b\b\b\b\b\b\b\b\b\b\b\b\b\b\b\b\b\b\b\b\b\b\b\b\b\b\b\b\b\b\b\b\b\b\b\b\b\b\b\b\b\b\b\b\b\b\b\b\b\b\b\b\b\b\b\b\b\b\b\b\b\b\b\b\b\b\b\b\b\b\b\b\b\b\b\b\b\b\b\b\b\b\b\b\b\b\b\b\b\b\b\b\b\b\b\b\b\b\b\b\b\b\b\b\b\b\b\b\b\b\b\b\b\b\b\b\b\b\b\b\b\b\b\b\b\b\b\b\b\b\b\b\b\b\b\b\b\b\b\b\b\b\b\b\b\b\b\b\b\b\b\b\b\b\b\b\b\b\b\b\b\b\b\b\b\b\b\b\b\b\b\b\b\b\b\b\b\b\b\b\b\b\b\b\b\b\b\b\b\b\b\b\b\b\b\b\b\b\b\b\b\b\b\b\b\b\b\b\b\b\b\b\b\b\b\b\b\b\b\b\b\b\b\b\b\b\b\b\b\b\b\b\b\b\b\b\b\b\b\b\b\b\b\b\b\b\b\b\b\b\b\b\b\b\b\b\b\b\b\b\b\b\b\b\b\b\b\b\b\b\b\b\b\b\b\b\b\b\b\b\b\b\b\b\b\b\b\b\b\b\b\b\b\b\b\b\b\b\b\b\b\b\b\b\b\b\b\b\b\b\b\b\b\b\b\b\b\b\b\b\b\b\b\b\b\b\b\b\b\b\b\b\b\b\b\b\b\b\b\b\b\b\b\b\b\b\b\b\b\b\b\b\b\b\b\b\b\b\b\b\b\b\b\b\b\b\b\b\b\b\b\b\b\b\b\b\b\b\b\b\b\b\b\b\b\b\b\b\b\b\b\b\b\b\b\b\b\b\b\b\b\b\b\b\b\b\b\b\b\b\b\b\b\b\b\b\b\b\b\b\b\b\b\b\b\b\b\b\b\b\b\b\b\b\b\b\b\b\b\b\b\b\b\b\b\b\b\b\b\b\b\b\b\b\b\b\b\b\b\b\b\b\b\b\b\b\b\b\b\b\b\b\b\b\b\b\b\b\b\b\b\b\b\b\b\b\b\b\b\b\b\b\b\b\b\b\b\b\b\b\b\b\b\b\b\b\b\b\b\b\b\b\b\b\b\b\b\b\b\b\b\b\b\b\b\b\b\b\b\b\b\b\b\b\b\b\b\b\b\b\b\b\b\b\b\b\b\b\b\b\b\b\b\b\b\b\b\b\b\b\b\b\b\b\b\b\b\b\b\b\b\b\b\b\b\b\b\b\b\b\b\b\b\b\b\b\b\b\b\b\b\b\b\b\b\b\b\b\b\b\b\b\b\b\b\b\b\b\b\b\b\b\b\b\b\b\b\b\b\b\b\b\b\b\b\b\b\b\b\b\b\b\b\b\b\b\b\b\b\b\b\b\b\b\b\b\b\b\b\b\b\b\b\b\b\b\b\b\b\b\b\b\b\b\b\b\b\b\b\b\b\b\b\b\b\b\b\b\b\b\b\b\b\b\b\b\b\b\b\b\b\b\b\b\b\b\b\b\b\b\b\b\b\b\b\b\b\b\b\b\b\b\b\b\b\b\b\b\b\b\b\b\b\b\b\b\b\b\b\b\b\b\b\b\b\b\b\b\b\b\b\b\b\b\b\b\b\b\b\b\b\b\b\b\b\b\b\b\b\b\b\b\b\b\b\b\b\b\b\b\b\b\b\b\b\b\b\b\b\b\b\b\b\b\b\b\b\b\b\b\b\b\b\b\b\b\b\b\b\b\b\b\b\b\b\b\b\b\b\b\b\b\b\b\b\b\b\b\b\b\b\b\b\b\b\b\b\b\b\b\b\b\b\b\b\b\b\b\b\b\b\b\b\b\b\b\b\b\b\b\b\b\b\b\b\b\b\b\b\b\b\b\b\b\b\b\b\b\b\b\b\b\b\b\b\b\b\b\b\b\b\b\b\b\b\b\b\b\b\b\b\b\b\b\b\b\b\b\b\b\b\b\b\b\b\b\b\b\b\b\b\b\b\b\b\b\b\b\b\b\b\b\b\b\b\b\b\b\b\b\b\b\b\b\b\b\b\b\b\b\b\b\b\b\b\b\b\b\b\b\b\b\b\b\b\b\b\b\b\b\b\b\b\b\b\b\b\b\b\b\b\b\b\b\b\b\b\b\b\b\b\b\b\b\b\b\b\b\b\b\b\b\b\b\b\b\b\b\b\b\b\b\b\b\b\b\b\b\b\b\b\b\b\b\b\b\b\b\b\b\b\b\b\b\b\b\b\b\b\b\b\b\b\b\b\b\b\b\b\b\b\b\b\b\b\b\b\b\b\b\b\b\b\b\b\b\b\b\b\b\b\b\b\b\b\b\b\b\b\b\b\b\b\b\b\b\b\b\b\b\b\b\b\b\b\b\b\b\b\b\b\b\b\b\b\b\b\b\b\b\b\b\b\b\b\b\b\b\b\b\b\b\b\b\b\b\b\b\b\b\b\b\b\b\b\b\b\b\b\b\b\b\b\b\b\b\b\b\b\b\b\b\b\b\b\b\b\b\b\b\b\b\b\b\b\b\b\b\b\b\b\b\b\b\b\b\b\b\b\b\b\b\b\b\b\b\b\b\b\b\b\b\b\b\b\b\b\b\b\b\b\b\b\b\b\b\b\b\b\b\b\b\b\b\b\b\b\b\b\b\b\b\b\b\b\b\b\b\b\b\b\b\b\b\b\b\b\b\b\b\b\b\b\b\b\b\b\b\b\b\b\b\b\b\b\b\b\b\b\b\b\b\b\b\b\b\b\b\b\b\b\b\b\b\b\b\b\b\b\b\b\b\b\b\b\b\b\b\b\b\b\b\b\b\b\b\b\b\b\b\b\b\b\b\b\b\b\b\b\b\b\b\b\b\b\b\b\b\b\b\b\b\b\b\b\b\b\b\b\b\b\b\b\b\b\b\b\b\b\b\b\b\b\b\b\b\b\b\b\b\b\b\b\b\b\b\b\b\b\b\b\b\b\b\b\b\b\b\b\b\b\b\b\b\b\b\b\b\b\b\b\b\b\b\b\b\b\b\b\b\b\b\b\b\b\b\b\b\b\b\b\b\b\b\b\b\b\b\b\b\b\b\b\b\b\b\b\b\b\b\b\b\b\b\b\b\b\b\b\b\b\b\b\b\b\b\b\b\b\b\b\b\b\b\b\b\b\b\b\b\b\b\b\b\b\b\b\b\b\b\b\b\b\b\b\b\b\b\b\b\b\b\b\b\b\b\b\b\b\b\b\b\b\b\b\b\b\b\b\b\b\b\b\b\b\b\b\b\b\b\b\b\b\b\b\b\b\b\b\b\b\b\b\b\b\b\b\b\b\b\b\b\b\b\b\b\b\b\b\b\b\b\b\b\b\b\b\b\b\b\b\b\b\b\b\b\b\b\b\b\b\b\b\b\b\b\b\b\b\b\b\b\b\b\b\b\b\b\b\b\b\b\b\b\b\b\b\b\b\b\b\b\b\b\b\b\b\b\b\b\b\b\b\b\b\b\b\b\b\b\b\b\b\b\b\b\b\b\b\b\b\b\b\b\b\b\b\b\b\b\b\b\b\b\b\b\b\b\b\b\b\b\b\b\b\b\b\b\b\b\b\b\b\b\b\b\b\b\b\b\b\b\b\b\b\b\b\b\b\b\b\b\b\b\b\b\b\b\b\b\b\b\b\b\b\b\b\b\b\b\b\b\b\b\b\b\b\b\b\b\b\b\b\b\b\b\b\b\b\b\b\b\b\b\b\b\b\b\b\b\b\b\b\b\b\b\b\b\b\b\b\b\b\b\b\b\b\b\b\b\b\b\b\b\b\b\b\b\b\b\b\b\b\b\b\b\b\b\b\b\b\b\b\b\b\b\b\b\b\b\b\b\b\b\b\b\b\b\b\b\b\b\b\b\b\b\b\b\b\b\b\b\b\b\b\b\b\b\b\b\b\b\b\b\b\b\b\b\b\b\b\b\b\b\b\b\b\b\b\b\b\b\b\b\b\b\b\b\b\b\b\b\b\b\b\b\b\b\b\b\b\b\b\b\b\b\b\b\b\b\b\b\b\b\b\b\b\b\b\b\b\b\b\b\b\b\b\b\b\b\b\b\b\b\b\b\b\b\b\b\b\b\b\b\b\b\b\b\b\b\b\b\b\b\b\b\b\b\b\b\b\b\b\b\b\b\b\b\b\b\b\b\b\b\b\b\b\b\b\b\b\b\b\b\b\b\b\b\b\b\b\b\b\b\b\b\b\b\b\b\b\b\b\b\b\b\b\b\b\b\b\b\b\b\b\b\b\b\b\b\b\b\b\b\b\b\b\b\b\b\b\b\b\b\b\b\b\b\b\b\b\b\b\b\b\b\b\b\b\b\b\b\b\b\b\b\b\b\b\b\b\b\b\b\b\b\b\b\b\b\b\b\b\b\b\b\b\b\b\b\b\b\b\b\b\b\b\b\b\b\b\b\b\b\b\b\b\b\b\b\b\b\b\b\b\b\b\b\b\b\b\b\b\b\b\b\b\b\b\b\b\b\b\b\b\b\b\b\b\b\b\b\b\b\b\b\b\b\b\b\b\b\b\b\b\b\b\b\b\b\b\b\b\b\b\b\b\b\b\b\b\b\b\b\b\b\b\b\b\b\b\b\b\b\b\b\b\b\b\b\b\b\b\b\b\b\b\b\b\b\b\b\b\b\b\b\b\b\b\b\b\b\b\b\b\b\b\b\b\b\b\b\b\b\b\b\b\b\b\b\b\b\b\b\b\b\b\b\b\b\b\b\b\b\b\b\b\b\b\b\b\b\b\b\b\b\b\b\b\b\b\b\b\b\b\b\b\b\b\b\b\b\b\b\b\b\b\b\b\b\b\b\b\b\b\b\b\b\b\b\b\b\b\b\b\b\b\b\b\b\b\b\b\b\b\b\b\b\b\b\b\b\b\b\b\b\b\b\b\b\b\b\b\b\b\b\b\b\b\b\b\b\b\b\b\b\b\b\b\b\b\b\b\b\b\b\b\b\b\b\b\b\b\b\b\b\b\b\b\b\b\b\b\b\b\b\b\b\b\b\b\b\b\b\b\b\b\b\b\b\b\b\b\b\b\b\b\b\b\b\b\b\b\b\b\b\b\b\b\b\b\b\b\b\b\b\b\b\b\b\b\b\b\b\b\b\b\b\b\b\b\b\b\b\b\b\b\b\b\b\b\b\b\b\b\b\b\b\b\b\b\b\b\b\b\b\b\b\b\b\b\b\b\b\b\b\b\b\b\b\b\b\b\b\b\b\b\b\b\b\b\b\b\b\b\b\b\b\b\b\b\b\b\b\b\b\b\b\b\b\b\b\b\b\b\b\b\b\b\b\b\b\b\b\b\b\b\b\b\b\b\b\b\b\b\b\b\b\b\b\b\b\b\b\b\b\b\b\b\b\b\b\b\b\b\b\b\b\b\b\b\b\b\b\b\b\b\b\b\b\b\b\b\b\b\b\b\b\b\b\b\b\b\b\b\b\b\b\b\b\b\b\b\b\b\b\b\b\b\b\b\b\b\b\b\b\b\b\b\b\b\b\b\b\b\b\b\b\b\b\b\b\b\b\b\b\b\b\b\b\b\b\b\b\b\b\b\b\b\b\b\b\b\b\b\b\b\b\b\b\b\b\b\b\b\b\b\b\b\b\b\b\b\b\b\b\b\b\b\b\b\b\b\b\b\b\b\b\b\b\b\b\b\b\b\b\b\b\b\b\b\b\b\b\b\b\b\b\b\b\b\b\b\b\b\b\b\b\b\b\b\b\b\b\b\b\b\b\b\b\b\b\b\b\b\b\b\b\b\b\b\b\b\b\b\b\b\b\b\b\b\b\b\b\b\b\b\b\b\b\b\b\b\b\b\b\b\b\b\b\b\b\b\b\b\b\b\b\b\b\b\b\b\b\b\b\b\b\b\b\b\b\b\b\b\b\b\b\b\b\b\b\b\b\b\b\b\b\b\b\b\b\b\b\b\b\b\b\b\b\b\b\b\b\b\b\b\b\b\b\b\b\b\b\b\b\b\b\b\b\b\b\b\b\b\b\b\b\b\b\b\b\b\b\b\b\b\b\b\b\b\b\b\b\b\b\b\b\b\b\b\b\b\b\b\b\b\b\b\b\b\b\b\b\b\b\b\b\b\b\b\b\b\b\b\b\b\b\b\b\b\b\b\b\b\b\b\b\b\b\b\b\b\b\b\b\b\b\b\b\b\b\b\b\b\b\b\b\b\b\b\b\b\b\b\b\b\b\b\b\b\b\b\b\b\b\b\b\b\b\b\b\b\b\b\b\b\b\b\b\b\b\b\b\b\b\b\b\b\b\b\b\b\b\b\b\b\b\b\b\b\b\b\b\b\b\b\b\b\b\b\b\b\b\b\b\b\b\b\b\b\b\b\b\b\b\b\b\b\b\b\b\b\b\b\b\b\b\b\b\b\b\b\b\b\b\b\b\b\b\b\b\b\b\b\b\b\b\b\b\b\b\b\b\b\b\b\b\b\b\b\b\b\b\b\b\b\b\b\b\b\b\b\b\b\b\b\b\b\b\b\b\b\b\b\b\b\b\b\b\b\b\b\b\b\b\b\b\b\b\b\b\b\b\b\b\b\b\b\b\b\b\b\b\b\b\b\b\b\b\b\b\b\b\b\b\b\b\b\b\b\b\b\b\b\b\b\b\b\b\b\b\b\b\b\b\b\b\b\b\b\b\b\b\b\b\b\b\b\b\b\b\b\b\b\b\b\b\b\b\b\b\b\b\b\b\b\b\b\b\b\b\b\b\b\b\b\b\b\b\b\b\b\b\b\b\b\b\b\b\b\b\b\b\b\b\b\b\b\b\b\b\b\b\b\b\b\b\b\b\b\b\b\b\b\b\b\b\b\b\b\b\b\b\b\b\b\b\b\b\b\b\b\b\b\b\b\b\b\b\b\b\b\b\b\b\b\b\b\b\b\b\b\b\b\b\b\b\b\b\b\b\b\b\b\b\b\b\b\b\b\b\b\b\b\b\b\b\b\b\b\b\b\b\b\b\b\b\b\b\b\b\b\b\b\b\b\b\b\b\b\b\b\b\b\b\b\b\b\b\b\b\b\b\b\b\b\b\b\b\b\b\b\b\b\b\b\b\b\b\b\b\b\b\b\b\b\b\b\b\b\b\b\b\b\b\b\b\b\b\b\b\b\b\b\b\b\b\b\b\b\b\b\b\b\b\b\b\b\b\b\b\b\b\b\b\b\b\b\b\b\b\b\b\b\b\b\b\b\b\b\b\b\b\b\b\b\b\b\b\b\b\b\b\b\b\b\b\b\b\b\b\b\b\b\b\b\b\b\b\b\b\b\b\b\b\b\b\b\b\b\b\b\b\b\b\b\b\b\b\b\b\b\b\b\b\b\b\b\b\b\b\b\b\b\b\b\b\b\b\b\b\b\b\b\b\b\b\b\b\b\b\b\b\b\b\b\b\b\b\b\b\b\b\b\b\b\b\b\b\b\b\b\b\b\b\b\b\b\b\b\b\b\b\b\b\b\b\b\b\b\b\b\b\b\b\b\b\b\b\b\b\b\b\b\b\b\b\b\b\b\b\b\b\b\b\b\b\b\b\b\b\b\b\b\b\b\b\b\b\b\b\b\b\b\b\b\b\b\b\b\b\b\b\b\b\b\b\b\b\b\b\b\b\b\b\b\b\b\b\b\b\b\b\b\b\b\b\b\b\b\b\b\b\b\b\b\b\b\b\b\b\b\b\b\b\b\b\b\b\b\b\b\b\b\b\b\b\b\b\b\b\b\b\b\b\b\b\b\b\b\b\b\b\b\b\b\b\b\b\b\b\b\b\b\b\b\b\b\b\b\b\b\b\b\b\b\b\b\b\b\b\b\b\b\b\b\b\b\b\b\b\b\b\b\b\b\b\b\b\b\b\b\b\b\b\b\b\b\b\b\b\b\b\b\b\b\b\b\b\b\b\b\b\b\b\b\b\b\b\b\b\b\b\b\b\b\b\b\b\b\b\b\b\b\b\b\b\b\b\b\b\b\b\b\b\b\b\b\b\b\b\b\b\b\b\b\b\b\b\b\b\b\b\b\b\b\b\b\b\b\b\b\b\b\b\b\b\b\b\b\b\b\b\b\b\b\b\b\b\b\b\b\b\b\b\b\b\b\b\b\b\b\b\b\b\b\b\b\b\b\b\b\b\b\b\b\b\b\b\b\b\b\b\b\b\b\b\b\b\b\b\b\b\b\b\b\b\b\b\b\b\b\b\b\b\b\b\b\b\b\b\b\b\b\b\b\b\b\b\b\b\b\b\b\b\b\b\b\b\b\b\b\b\b\b\b\b\b\b\b\b\b\b\b\b\b\b\b\b\b\b\b\b\b\b\b\b\b\b\b\b\b\b\b\b\b\b\b\b\b\b\b\b\b\b\b\b\b\b\b\b\b\b\b\b\b\b\b\b\b\b\b\b\b\b\b\b\b\b\b\b\b\b\b\b\b\b\b\b\b\b\b\b\b\b\b\b\b\b\b\b\b\b\b\b\b\b\b\b\b\b\b\b\b\b\b\b\b\b\b\b\b\b\b\b\b\b\b\b\b\b\b\b\b\b\b\b\b\b\b\b\b\b\b\b\b\b\b\b\b\b\b\b\b\b\b\b\b\b\b\b\b\b\b\b\b\b\b\b\b\b\b\b\b\b\b\b\b\b\b\b\b\b\b\b\b\b\b\b\b\b\b\b\b\b\b\b\b\b\b\b\b\b\b\b\b\b\b\b\b\b\b\b\b\b\b\b\b\b\b\b\b\b\b\b\b\b\b\b\b\b\b\b\b\b\b\b\b\b\b\b\b\b\b\b\b\b\b\b\b\b\b\b\b\b\b\b\b\b\b\b\b\b\b\b\b\b\b\b\b\b\b\b\b\b\b\b\b\b\b\b\b\b\b\b\b\b\b\b\b\b\b\b\b\b\b\b\b\b\b\b\b\b\b\b\b\b\b\b\b\b\b\b\b\b\b\b\b\b\b\b\b\b\b\b\b\b\b\b\b\b\b\b\b\b\b\b\b\b\b\b\b\b\b\b\b\b\b\b\b\b\b\b\b\b\b\b\b\b\b\b\b\b\b\b\b\b\b\b\b\b\b\b\b\b\b\b\b\b\b\b\b\b\b\b\b\b\b\b\b\b\b\b\b\b\b\b\b\b\b\b\b\b\b\b\b\b\b\b\b\b\b\b\b\b\b\b\b\b\b\b\b\b\b\b\b\b\b\b\b\b\b\b\b\b\b\b\b\b\b\b\b\b\b\b\b\b\b\b\b\b\b\b\b\b\b\b\b\b\b\b\b\b\b\b\b\b\b\b\b\b\b\b\b\b\b\b\b\b\b\b\b\b\b\b\b\b\b\b\b\b\b\b\b\b\b\b\b\b\b\b\b\b\b\b\b\b\b\b\b\b\b\b\b\b\b\b\b\b\b\b\b\b\b\b\b\b\b\b\b\b\b\b\b\b\b\b\b\b\b\b\b\b\b\b\b\b\b\b\b\b\b\b\b\b\b\b\b\b\b\b\b\b\b\b\b\b\b\b\b\b\b\b\b\b\b\b\b\b\b\b\b\b\b\b\b\b\b\b\b\b\b\b\b\b\b\b\b\b\b\b\b\b\b\b\b\b\b\b\b\b\b\b\b\b\b\b\b\b\b\b\b\b\b\b\b\b\b\b\b\b\b\b\b\b\b\b\b\b\b\b\b\b\b\b\b\b\b\b\b\b\b\b\b\b\b\b\b\b\b\b\b\b\b\b\b\b\b\b\b\b\b\b\b\b\b\b\b\b\b\b\b\b\b\b\b\b\b\b\b\b\b\b\b\b\b\b\b\b\b\b\b\b\b\b\b\b\b\b\b\b\b\b\b\b\b\b\b\b\b\b\b\b\b\b\b\b\b\b\b\b\b\b\b\b\b\b\b\b\b\b\b\b\b\b\b\b\b\b\b\b\b\b\b\b\b\b\b\b\b\b\b\b\b\b\b\b\b\b\b\b\b\b\b\b\b\b\b\b\b\b\b\b\b\b\b\b\b\b\b\b\b\b\b\b\b\b\b\b\b\b\b\b\b\b\b\b\b\b\b\b\b\b\b\b\b\b\b\b\b\b\b\b\b\b\b\b\b\b\b\b\b\b\b\b\b\b\b\b\b\b\b\b\b\b\b\b\b\b\b\b\b\b\b\b\b\b\b\b\b\b\b\b\b\b\b\b\b\b\b\b\b\b\b\b\b\b\b\b\b\b\b\b\b\b\b\b\b\b\b\b\b\b\b\b\b\b\b\b\b\b\b\b\b\b\b\b\b\b\b\b\b\b\b\b\b\b\b\b\b\b\b\b\b\b\b\b\b\b\b\b\b\b\b\b\b\b\b\b\b\b\b\b\b\b\b\b\b\b\b\b\b\b\b\b\b\b\b\b\b\b\b\b\b\b\b\b\b\b\b\b\b\b\b\b\b\b\b\b\b\b\b\b\b\b\b\b\b\b\b\b\b\b\b\b\b\b\b\b\b\b\b\b\b\b\b\b\b\b\b\b\b\b\b\b\b\b\b\b\b\b\b\b\b\b\b\b\b\b\b\b\b\b\b\b\b\b\b\b\b\b\b\b\b\b\b\b\b\b\b\b\b\b\b\b\b\b\b\b\b\b\b\b\b\b\b\b\b\b\b\b\b\b\b\b\b\b\b\b\b\b\b\b\b\b\b\b\b\b\b\b\b\b\b\b\b\b\b\b\b\b\b\b\b\b\b\b\b\b\b\b\b\b\b\b\b\b\b\b\b\b\b\b\b\b\b\b\b\b\b\b\b\b\b\b\b\b\b\b\b\b\b\b\b\b\b\b\b\b\b\b\b\b\b\b\b\b\b\b\b\b\b\b\b\b\b\b\b\b\b\b\b\b\b\b\b\b\b\b\b\b\b\b\b\b\b\b\b\b\b\b\b\b\b\b\b\b\b\b\b\b\b\b\b\b\b\b\b\b\b\b\b\b\b\b\b\b\b\b\b\b\b\b\b\b\b\b\b\b\b\b\b\b\b\b\b\b\b\b\b\b\b\b\b\b\b\b\b\b\b\b\b\b\b\b\b\b\b\b\b\b\b\b\b\b\b\b\b\b\b\b\b\b\b\b\b\b\b\b\b\b\b\b\b\b\b\b\b\b\b\b\b\b\b\b\b\b\b\b\b\b\b\b\b\b\b\b\b\b\b\b\b\b\b\b\b\b\b\b\b\b\b\b\b\b\b\b\b\b\b\b\b\b\b\b\b\b\b\b\b\b\b\b\b\b\b\b\b\b\b\b\b\b\b\b\b\b\b\b\b\b\b\b\b\b\b\b\b\b\b\b\b\b\b\b\b\b\b\b\b\b\b\b\b\b\b\b\b\b\b\b\b\b\b\b\b\b\b\b\b\b\b\b\b\b\b\b\b\b\b\b\b\b\b\b\b\b\b\b\b\b\b\b\b\b\b\b\b\b\b\b\b\b\b\b\b\b\b\b\b\b\b\b\b\b\b\b\b\b\b\b\b\b\b\b\b\b\b\b\b\b\b\b\b\b\b\b\b\b\b\b\b\b\b\b\b\b\b\b\b\b\b\b\b\b\b\b\b\b\b\b\b\b\b\b\b\b\b\b\b\b\b\b\b\b\b\b\b\b\b\b\b\b\b\b\b\b\b\b\b\b\b\b\b\b\b\b\b\b\b\b\b\b\b\b\b\b\b\b\b\b\b\b\b\b\b\b\b\b\b\b\b\b\b\b\b\b\b\b\b\b\b\b\b\b\b\b\b\b\b\b\b\b\b\b\b\b\b\b\b\b\b\b\b\b\b\b\b\b\b\b\b\b\b\b\b\b\b\b\b\b\b\b\b\b\b\b\b\b\b\b\b\b\b\b\b\b\b\b\b\b\b\b\b\b\b\b\b\b\b\b\b\b\b\b\b\b\b\b\b\b\b\b\b\b\b\b\b\b\b\b\b\b\b\b\b\b\b\b\b\b\b\b\b\b\b\b\b\b\b\b\b\b\b\b\b\b\b\b\b\b\b\b\b\b\b\b\b\b\b\b\b\b\b\b\b\b\b\b\b\b\b\b\b\b\b\b\b\b\b\b\b\b\b\b\b\b\b\b\b\b\b\b\b\b\b\b\b\b\b\b\b\b\b\b\b\b\b\b\b\b\b\b\b\b\b\b\b\b\b\b\b\b\b\b\b\b\b\b\b\b\b\b\b\b\b\b\b\b\b\b\b\b\b\b\b\b\b\b\b\b\b\b\b\b\b\b\b\b\b\b\b\b\b\b\b\b\b\b\b\b\b\b\b\b\b\b\b\b\b\b\b\b\b\b\b\b\b\b\b\b\b\b\b\b\b\b\b\b\b\b\b\b\b\b\b\b\b\b\b\b\b\b\b\b\b\b\b\b\b\b\b\b\b\b\b\b\b\b\b\b\b\b\b\b\b\b\b\b\b\b\b\b\b\b\b\b\b\b\b\b\b\b\b\b\b\b\b\b\b\b\b\b\b\b\b\b\b\b\b\b\b\b\b\b\b\b\b\b\b\b\b\b\b\b\b\b\b\b\b\b\b\b\b\b\b\b\b\b\b\b\b\b\b\b\b\b\b\b\b\b\b\b\b\b\b\b\b\b\b\b\b\b\b\b\b\b\b\b\b\b\b\b\b\b\b\b\b\b\b\b\b\b\b\b\b\b\b\b\b\b\b\b\b\b\b\b\b\b\b\b\b\b\b\b\b\b\b\b\b\b\b\b\b\b\b\b\b\b\b\b\b\b\b\b\b\b\b\b\b\b\b\b\b\b\b\b\b\b\b\b\b\b\b\b\b\b\b\b\b\b\b\b\b\b\b\b\b\b\b\b\b\b\b\b\b\b\b\b\b\b\b\b\b\b\b\b\b\b\b\b\b\b\b\b\b\b\b\b\b\b\b\b\b\b\b\b\b\b\b\b\b\b\b\b\b\b\b\b\b\b\b\b\b\b\b\b\b\b\b\b\b\b\b\b\b\b\b\b\b\b\b\b\b\b\b\b\b\b\b\b\b\b\b\b\b\b\b\b\b\b\b\b\b\b\b\b\b\b\b\b\b\b\b\b\b\b\b\b\b\b\b\b\b\b\b\b\b\b\b\b\b\b\b\b\b\b\b\b\b\b\b\b\b\b\b\b\b\b\b\b\b\b\b\b\b\b\b\b\b\b\b\b\b\b\b\b\b\b\b\b\b\b\b\b\b\b\b\b\b\b\b\b\b\b\b\b\b\b\b\b\b\b\b\b\b\b\b\b\b\b\b\b\b\b\b\b\b\b\b\b\b\b\b\b\b\b\b\b\b\b\b\b\b\b\b\b\b\b\b\b\b\b\b\b\b\b\b\b\b\b\b\b\b\b\b\b\b\b\b\b\b\b\b\b\b\b\b\b\b\b\b\b\b\b\b\b\b\b\b\b\b\b\b\b\b\b\b\b\b\b\b\b\b\b\b\b\b\b\b\b\b\b\b\b\b\b\b\b\b\b\b\b\b\b\b\b\b\b\b\b\b\b\b\b\b\b\b\b\b\b\b\b\b\b\b\b\b\b\b\b\b\b\b\b\b\b\b\b\b\b\b\b\b\b\b\b\b\b\b\b\b\b\b\b\b\b\b\b\b\b\b\b\b\b\b\b\b\b\b\b\b\b\b\b\b\b\b\b\b\b\b\b\b\b\b\b\b\b\b\b\b\b\b\b\b\b\b\b\b\b\b\b\b\b\b\b\b\b\b\b\b\b\b\b\b\b\b\b\b\b\b\b\b\b\b\b\b\b\b\b\b\b\b\b\b\b\b\b\b\b\b\b\b\b\b\b\b\b\b\b\b\b\b\b\b\b\b\b\b\b\b\b\b\b\b\b\b\b\b\b\b\b\b\b\b\b\b\b\b\b\b\b\b\b\b\b\b\b\b\b\b\b\b\b\b\b\b\b\b\b\b\b\b\b\b\b\b\b\b\b\b\b\b\b\b\b\b\b\b\b\b\b\b\b\b\b\b\b\b\b\b\b\b\b\b\b\b\b\b\b\b\b\b\b\b\b\b\b\b\b\b\b\b\b\b\b\b\b\b\b\b\b\b\b\b\b\b\b\b\b\b\b\b\b\b\b\b\b\b\b\b\b\b\b\b\b\b\b\b\b\b\b\b\b\b\b\b\b\b\b\b\b\b\b\b\b\b\b\b\b\b\b\b\b\b\b\b\b\b\b\b\b\b\b\b\b\b\b\b\b\b\b\b\b\b\b\b\b\b\b\b\b\b\b\b\b\b\b\b\b\b\b\b\b\b\b\b\b\b\b\b\b\b\b\b\b\b\b\b\b\b\b\b\b\b\b\b\b\b\b\b\b\b\b\b\b\b\b\b\b\b\b\b\b\b\b\b\b\b\b\b\b\b\b\b\b\b\b\b\b\b\b\b\b\b\b\b\b\b\b\b\b\b\b\b\b\b\b\b\b\b\b\b\b\b\b\b\b\b\b\b\b\b\b\b\b\b\b\b\b\b\b\b\b\b\b\b\b\b\b\b\b\b\b\b\b\b\b\b\b\b\b\b\b\b\b\b\b\b\b\b\b\b\b\b\b\b\b\b\b\b\b\b\b\b\b\b\b\b\b\b\b\b\b\b\b\b\b\b\b\b\b\b\b\b\b\b\b\b\b\b\b\b\b\b\b\b\b\b\b\b\b\b\b\b\b\b\b\b\b\b\b\b\b\b\b\b\b\b\b\b\b\b\b\b\b\b\b\b\b\b\b\b\b\b\n",
      "113/113 [==============================] - 3s 23ms/step - loss: 1.0259 - accuracy: 0.6149\b\b\b\b\b\b\b\b\b\b\b\b\b\b\b\b\b\b\b\b\b\b\b\b\b\b\b\b\b\b\b\b\b\b\b\b\b\b\b\b\b\b\b\b\b\b\b\b\b\b\b\b\b\b\b\b\b\b\b\b\b\b\b\b\b\b\b\b\b\b\b\b\b\b\b\b\b\b\b\b\b\b\b\b\b\b\b\b\b\b\b\b\b\b\b\b\b\b\b\b\b\b\b\b\b\b\b\b\b\b\b\b\b\b\b\b\b\b\b\b\b\b\b\b\b\b\b\b\b\b\b\b\b\b\b\b\b\b\b\b\b\b\b\b\b\b\b\b\b\b\b\b\b\b\b\b\b\b\b\b\b\b\b\b\b\b\b\b\b\b\b\b\b\b\b\b\b\b\b\b\b\b\b\b\b\b\b\b\b\b\b\b\b\b\b\b\b\b\b\b\b\b\b\b\b\b\b\b\b\b\b\b\b\b\b\b\b\b\b\b\b\b\b\b\b\b\b\b\b\b\b\b\b\b\b\b\b\b\b\b\b\b\b\b\b\b\b\b\b\b\b\b\b\b\b\b\b\b\b\b\b\b\b\b\b\b\b\b\b\b\b\b\b\b\b\b\b\b\b\b\b\b\b\b\b\b\b\b\b\b\b\b\b\b\b\b\b\b\b\b\b\b\b\b\b\b\b\b\b\b\b\b\b\b\b\b\b\b\b\b\b\b\b\b\b\b\b\b\b\b\b\b\b\b\b\b\b\b\b\b\b\b\b\b\b\b\b\b\b\b\b\b\b\b\b\b\b\b\b\b\b\b\b\b\b\b\b\b\b\b\b\b\b\b\b\b\b\b\b\b\b\b\b\b\b\b\b\b\b\b\b\b\b\b\b\b\b\b\b\b\b\b\b\b\b\b\b\b\b\b\b\b\b\b\b\b\b\b\b\b\b\b\b\b\b\b\b\b\b\b\b\b\b\b\b\b\b\b\b\b\b\b\b\b\b\b\b\b\b\b\b\b\b\b\b\b\b\b\b\b\b\b\b\b\b\b\b\b\b\b\b\b\b\b\b\b\b\b\b\b\b\b\b\b\b\b\b\b\b\b\b\b\b\b\b\b\b\b\b\b\b\b\b\b\b\b\b\b\b\b\b\b\b\b\b\b\b\b\b\b\b\b\b\b\b\b\b\b\b\b\b\b\b\b\b\b\b\b\b\b\b\b\b\b\b\b\b\b\b\b\b\b\b\b\b\b\b\b\b\b\b\b\b\b\b\b\b\b\b\b\b\b\b\b\b\b\b\b\b\b\b\b\b\b\b\b\b\b\b\b\b\b\b\b\b\b\b\b\b\b\b\b\b\b\b\b\b\b\b\b\b\b\b\b\b\b\b\b\b\b\b\b\b\b\b\b\b\b\b\b\b\b\b\b\b\b\b\b\b\b\b\b\b\b\b\b\b\b\b\b\b\b\b\b\b\b\b\b\b\b\b\b\b\b\b\b\b\b\b\b\b\b\b\b\b\b\b\b\b\b\b\b\b\b\b\b\b\b\b\b\b\b\b\b\b\b\b\b\b\b\b\b\b\b\b\b\b\b\b\b\b\b\b\b\b\b\b\b\b\b\b\b\b\b\b\b\b\b\b\b\b\b\b\b\b\b\b\b\b\b\b\b\b\b\b\b\b\b\b\b\b\b\b\b\b\b\b\b\b\b\b\b\b\b\b\b\b\b\b\b\b\b\b\b\b\b\b\b\b\b\b\b\b\b\b\b\b\b\b\b\b\b\b\b\b\b\b\b\b\b\b\b\b\b\b\b\b\b\b\b\b\b\b\b\b\b\b\b\b\b\b\b\b\b\b\b\b\b\b\b\b\b\b\b\b\b\b\b\b\b\b\b\b\b\b\b\b\b\b\b\b\b\b\b\b\b\b\b\b\b\b\b\b\b\b\b\b\b\b\b\b\b\b\b\b\b\b\b\b\b\b\b\b\b\b\b\b\b\b\b\b\b\b\b\b\b\b\b\b\b\b\b\b\b\b\b\b\b\b\b\b\b\b\b\b\b\b\b\b\b\b\b\b\b\b\b\b\b\b\b\b\b\b\b\b\b\b\b\b\b\b\b\b\b\b\b\b\b\b\b\b\b\b\b\b\b\b\b\b\b\b\b\b\b\b\b\b\b\b\b\b\b\b\b\b\b\b\b\b\b\b\b\b\b\b\b\b\b\b\b\b\b\b\b\b\b\b\b\b\b\b\b\b\b\b\b\b\b\b\b\b\b\b\b\b\b\b\b\b\b\b\b\b\b\b\b\b\b\b\b\b\b\b\b\b\b\b\b\b\b\b\b\b\b\b\b\b\b\b\b\b\b\b\b\b\b\b\b\b\b\b\b\b\b\b\b\b\b\b\b\b\b\b\b\b\b\b\b\b\b\b\b\b\b\b\b\b\b\b\b\b\b\b\b\b\b\b\b\b\b\b\b\b\b\b\b\b\b\b\b\b\b\b\b\b\b\b\b\b\b\b\b\b\b\b\b\b\b\b\b\b\b\b\b\b\b\b\b\b\b\b\b\b\b\b\b\b\b\b\b\b\b\b\b\b\b\b\b\b\b\b\b\b\b\b\b\b\b\b\b\b\b\b\b\b\b\b\b\b\b\b\b\b\b\b\b\b\b\b\b\b\b\b\b\b\b\b\b\b\b\b\b\b\b\b\b\b\b\b\b\b\b\b\b\b\b\b\b\b\b\b\b\b\b\b\b\b\b\b\b\b\b\b\b\b\b\b\b\b\b\b\b\b\b\b\b\b\b\b\b\b\b\b\b\b\b\b\b\b\b\b\b\b\b\b\b\b\b\b\b\b\b\b\b\b\b\b\b\b\b\b\b\b\b\b\b\b\b\b\b\b\b\b\b\b\b\b\b\b\b\b\b\b\b\b\b\b\b\b\b\b\b\b\b\b\b\b\b\b\b\b\b\b\b\b\b\b\b\b\b\b\b\b\b\b\b\b\b\b\b\b\b\b\b\b\b\b\b\b\b\b\b\b\b\b\b\b\b\b\b\b\b\b\b\b\b\b\b\b\b\b\b\b\b\b\b\b\b\b\b\b\b\b\b\b\b\b\b\b\b\b\b\b\b\b\b\b\b\b\b\b\b\b\b\b\b\b\b\b\b\b\b\b\b\b\b\b\b\b\b\b\b\b\b\b\b\b\b\b\b\b\b\b\b\b\b\b\b\b\b\b\b\b\b\b\b\b\b\b\b\b\b\b\b\b\b\b\b\b\b\b\b\b\b\b\b\b\b\b\b\b\b\b\b\b\b\b\b\b\b\b\b\b\b\b\b\b\b\b\b\b\b\b\b\b\b\b\b\b\b\b\b\b\b\b\b\b\b\b\b\b\b\b\b\b\b\b\b\b\b\b\b\b\b\b\b\b\b\b\b\b\b\b\b\b\b\b\b\b\b\b\b\b\b\b\b\b\b\b\b\b\b\b\b\b\b\b\b\b\b\b\b\b\b\b\b\b\b\b\b\b\b\b\b\b\b\b\b\b\b\b\b\b\b\b\b\b\b\b\b\b\b\b\b\b\b\b\b\b\b\b\b\b\b\b\b\b\b\b\b\b\b\b\b\b\b\b\b\b\b\b\b\b\b\b\b\b\b\b\b\b\b\b\b\b\b\b\b\b\b\b\b\b\b\b\b\b\b\b\b\b\b\b\b\b\b\b\b\b\b\b\b\b\b\b\b\b\b\b\b\b\b\b\b\b\b\b\b\b\b\b\b\b\b\b\b\b\b\b\b\b\b\b\b\b\b\b\b\b\b\b\b\b\b\b\b\b\b\b\b\b\b\b\b\b\b\b\b\b\b\b\b\b\b\b\b\b\b\b\b\b\b\b\b\b\b\b\b\b\b\b\b\b\b\b\b\b\b\b\b\b\b\b\b\b\b\b\b\b\b\b\b\b\b\b\b\b\b\b\b\b\b\b\b\b\b\b\b\b\b\b\b\b\b\b\b\b\b\b\b\b\b\b\b\b\b\b\b\b\b\b\b\b\b\b\b\b\b\b\b\b\b\b\b\b\b\b\b\b\b\b\b\b\b\b\b\b\b\b\b\b\b\b\b\b\b\b\b\b\b\b\b\b\b\b\b\b\b\b\b\b\b\b\b\b\b\b\b\b\b\b\b\b\b\b\b\b\b\b\b\b\b\b\b\b\b\b\b\b\b\b\b\b\b\b\b\b\b\b\b\b\b\b\b\b\b\b\b\b\b\b\b\b\b\b\b\b\b\b\b\b\b\b\b\b\b\b\b\b\b\b\b\b\b\b\b\b\b\b\b\b\b\b\b\b\b\b\b\b\b\b\b\b\b\b\b\b\b\b\b\b\b\b\b\b\b\b\b\b\b\b\b\b\b\b\b\b\b\b\b\b\b\b\b\b\b\b\b\b\b\b\b\b\b\b\b\b\b\b\b\b\b\b\b\b\b\b\b\b\b\b\b\b\b\b\b\b\b\b\b\b\b\b\b\b\b\b\b\b\b\b\b\b\b\b\b\b\b\b\b\b\b\b\b\b\b\b\b\b\b\b\b\b\b\b\b\b\b\b\b\b\b\b\b\b\b\b\b\b\b\b\b\b\b\b\b\b\b\b\b\b\b\b\b\b\b\b\b\b\b\b\b\b\b\b\b\b\b\b\b\b\b\b\b\b\b\b\b\b\b\b\b\b\b\b\b\b\b\b\b\b\b\b\b\b\b\b\b\b\b\b\b\b\b\b\b\b\b\b\b\b\b\b\b\b\b\b\b\b\b\b\b\b\b\b\b\b\b\b\b\b\b\b\b\b\b\b\b\b\b\b\b\b\b\b\b\b\b\b\b\b\b\b\b\b\b\b\b\b\b\b\b\b\b\b\b\b\b\b\b\b\b\b\b\b\b\b\b\b\b\b\b\b\b\b\b\b\b\b\b\b\b\b\b\b\b\b\b\b\b\b\b\b\b\b\b\b\b\b\b\b\b\b\b\b\b\b\b\b\b\b\b\b\b\b\b\b\b\b\b\b\b\b\b\b\b\b\b\b\b\b\b\b\b\b\b\b\b\b\b\b\b\b\b\b\b\b\b\b\b\b\b\b\b\b\b\b\b\b\b\b\b\b\b\b\b\b\b\b\b\b\b\b\b\b\b\b\b\b\b\b\b\b\b\b\b\b\b\b\b\b\b\b\b\b\b\b\b\b\b\b\b\b\b\b\b\b\b\b\b\b\b\b\b\b\b\b\b\b\b\b\b\b\b\b\b\b\b\b\b\b\b\b\b\b\b\b\b\b\b\b\b\b\b\b\b\b\b\b\b\b\b\b\b\b\b\b\b\b\b\b\b\b\b\b\b\b\b\b\b\b\b\b\b\b\b\b\b\b\b\b\b\b\b\b\b\b\b\b\b\b\b\b\b\b\b\b\b\b\b\b\b\b\b\b\b\b\b\b\b\b\b\b\b\b\b\b\b\b\b\b\b\b\b\b\b\b\b\b\b\b\b\b\b\b\b\b\b\b\b\b\b\b\b\b\b\b\b\b\b\b\b\b\b\b\b\b\b\b\b\b\b\b\b\b\b\b\b\b\b\b\b\b\b\b\b\b\b\b\b\b\b\b\b\b\b\b\b\b\b\b\b\b\b\b\b\b\b\b\b\b\b\b\b\b\b\b\b\b\b\b\b\b\b\b\b\b\b\b\b\b\b\b\b\b\b\b\b\b\b\b\b\b\b\b\b\b\b\b\b\b\b\b\b\b\b\b\b\b\b\b\b\b\b\b\b\b\b\b\b\b\b\b\b\b\b\b\b\b\b\b\b\b\b\b\b\b\b\b\b\b\b\b\b\b\b\b\b\b\b\b\b\b\b\b\b\b\b\b\b\b\b\b\b\b\b\b\b\b\b\b\b\b\b\b\b\b\b\b\b\b\b\b\b\b\b\b\b\b\b\b\b\b\b\b\b\b\b\b\b\b\b\b\b\b\b\b\b\b\b\b\b\b\b\b\b\b\b\b\b\b\b\b\b\b\b\b\b\b\b\b\b\b\b\b\b\b\b\b\b\b\b\b\b\b\b\b\b\b\b\b\b\b\b\b\b\b\b\b\b\b\b\b\b\b\b\b\b\b\b\b\b\b\b\b\b\b\b\b\b\b\b\b\b\b\b\b\b\b\b\b\b\b\b\b\b\b\b\b\b\b\b\b\b\b\b\b\b\b\b\b\b\b\b\b\b\b\b\b\b\b\b\b\b\b\b\b\b\b\b\b\b\b\b\b\b\b\b\b\b\b\b\b\b\b\b\b\b\b\b\b\b\b\b\b\b\b\b\b\b\b\b\b\b\b\b\b\b\b\b\b\b\b\b\b\b\b\b\b\b\b\b\b\b\b\b\b\b\b\b\b\b\b\b\b\b\b\b\b\b\b\b\b\b\b\b\b\b\b\b\b\b\b\b\b\b\b\b\b\b\b\b\b\b\b\b\b\b\b\b\b\b\b\b\b\b\b\b\b\b\b\b\b\b\b\b\b\b\b\b\b\b\b\b\b\b\b\b\b\b\b\b\b\b\b\b\b\b\b\b\b\b\b\b\b\b\b\b\b\b\b\b\b\b\b\b\b\b\b\b\b\b\b\b\b\b\b\b\b\b\b\b\b\b\b\b\b\b\b\b\b\b\b\b\b\b\b\b\b\b\b\b\b\b\b\b\b\b\b\b\b\b\b\b\b\b\b\b\b\b\b\b\b\b\b\b\b\b\b\b\b\b\b\b\b\b\b\b\b\b\b\b\b\b\b\b\b\b\b\b\b\b\b\b\b\b\b\b\b\b\b\b\b\b\b\b\b\b\b\b\b\b\b\b\b\b\b\b\b\b\b\b\b\b\b\b\b\b\b\b\b\b\b\b\b\b\b\b\b\b\b\b\b\b\b\b\b\b\b\b\b\b\b\b\b\b\b\b\b\b\b\b\b\b\b\b\b\b\b\b\b\b\b\b\b\b\b\b\b\b\b\b\b\b\b\b\b\b\b\b\b\b\b\b\b\b\b\b\b\b\b\b\b\b\b\b\b\b\b\b\b\b\b\b\b\b\b\b\b\b\b\b\b\b\b\b\b\b\b\b\b\b\b\b\b\b\b\b\b\b\b\b\b\b\b\b\b\b\b\b\b\b\b\b\b\b\b\b\b\b\b\b\b\b\b\b\b\b\b\b\b\b\b\b\b\b\b\b\b\b\b\b\b\b\b\b\b\b\b\b\b\b\b\b\b\b\b\b\b\b\b\b\b\b\b\b\b\b\b\b\b\b\b\b\b\b\b\b\b\b\b\n",
      "final train accuracy = 66.80 , validation accuracy = 61.49\n",
      "final train loss = 88.79 , validation loss = 102.59\n"
     ]
    }
   ],
   "source": [
    "cnn_model.evaluate_model(training_set=training_set, test_set=test_set)"
   ],
   "metadata": {
    "collapsed": false,
    "pycharm": {
     "name": "#%%\n"
    }
   }
  },
  {
   "cell_type": "markdown",
   "source": [
    "## Making a single Prediction"
   ],
   "metadata": {
    "collapsed": false
   }
  },
  {
   "cell_type": "code",
   "execution_count": 65,
   "outputs": [
    {
     "ename": "ValueError",
     "evalue": "in user code:\n\n    c:\\github\\ecam\\machine_learning\\ai-project-smile\\venv\\lib\\site-packages\\tensorflow\\python\\keras\\engine\\training.py:1478 predict_function  *\n        return step_function(self, iterator)\n    c:\\github\\ecam\\machine_learning\\ai-project-smile\\venv\\lib\\site-packages\\tensorflow\\python\\keras\\engine\\training.py:1468 step_function  **\n        outputs = model.distribute_strategy.run(run_step, args=(data,))\n    c:\\github\\ecam\\machine_learning\\ai-project-smile\\venv\\lib\\site-packages\\tensorflow\\python\\distribute\\distribute_lib.py:1259 run\n        return self._extended.call_for_each_replica(fn, args=args, kwargs=kwargs)\n    c:\\github\\ecam\\machine_learning\\ai-project-smile\\venv\\lib\\site-packages\\tensorflow\\python\\distribute\\distribute_lib.py:2730 call_for_each_replica\n        return self._call_for_each_replica(fn, args, kwargs)\n    c:\\github\\ecam\\machine_learning\\ai-project-smile\\venv\\lib\\site-packages\\tensorflow\\python\\distribute\\distribute_lib.py:3417 _call_for_each_replica\n        return fn(*args, **kwargs)\n    c:\\github\\ecam\\machine_learning\\ai-project-smile\\venv\\lib\\site-packages\\tensorflow\\python\\keras\\engine\\training.py:1461 run_step  **\n        outputs = model.predict_step(data)\n    c:\\github\\ecam\\machine_learning\\ai-project-smile\\venv\\lib\\site-packages\\tensorflow\\python\\keras\\engine\\training.py:1434 predict_step\n        return self(x, training=False)\n    c:\\github\\ecam\\machine_learning\\ai-project-smile\\venv\\lib\\site-packages\\tensorflow\\python\\keras\\engine\\base_layer.py:998 __call__\n        input_spec.assert_input_compatibility(self.input_spec, inputs, self.name)\n    c:\\github\\ecam\\machine_learning\\ai-project-smile\\venv\\lib\\site-packages\\tensorflow\\python\\keras\\engine\\input_spec.py:255 assert_input_compatibility\n        raise ValueError(\n\n    ValueError: Input 0 of layer sequential_3 is incompatible with the layer: expected axis -1 of input shape to have value 1 but received input with shape (None, 48, 48, 3)\n",
     "output_type": "error",
     "traceback": [
      "\u001b[1;31m---------------------------------------------------------------------------\u001b[0m",
      "\u001b[1;31mValueError\u001b[0m                                Traceback (most recent call last)",
      "\u001b[1;32m<ipython-input-65-0241533af85f>\u001b[0m in \u001b[0;36m<module>\u001b[1;34m\u001b[0m\n\u001b[1;32m----> 1\u001b[1;33m cnn_model.predict('../dataset/fer2013/test/angry/PrivateTest_88305.jpg',\n\u001b[0m\u001b[0;32m      2\u001b[0m                         \u001b[0mdata_processor\u001b[0m\u001b[1;33m.\u001b[0m\u001b[0mget_emotions_dataset\u001b[0m\u001b[1;33m,\u001b[0m\u001b[1;33m\u001b[0m\u001b[1;33m\u001b[0m\u001b[0m\n\u001b[0;32m      3\u001b[0m                         data_processor.get_emotions_indices)\n",
      "\u001b[1;32mC:\\Github\\ECAM\\machine_learning\\AI-Project-Smile\\neural_network\\src\\cnn_model.py\u001b[0m in \u001b[0;36mpredict\u001b[1;34m(self, image, emotions, emotion_indices)\u001b[0m\n\u001b[0;32m     90\u001b[0m                                           axis=0)  # axis=0 such that the dimension of the batch is first dimension\n\u001b[0;32m     91\u001b[0m \u001b[1;33m\u001b[0m\u001b[0m\n\u001b[1;32m---> 92\u001b[1;33m         \u001b[0mresult\u001b[0m \u001b[1;33m=\u001b[0m \u001b[0mself\u001b[0m\u001b[1;33m.\u001b[0m\u001b[0m_model\u001b[0m\u001b[1;33m.\u001b[0m\u001b[0mpredict\u001b[0m\u001b[1;33m(\u001b[0m\u001b[0mtest_image_angry\u001b[0m\u001b[1;33m)\u001b[0m\u001b[1;33m\u001b[0m\u001b[1;33m\u001b[0m\u001b[0m\n\u001b[0m\u001b[0;32m     93\u001b[0m \u001b[1;33m\u001b[0m\u001b[0m\n\u001b[0;32m     94\u001b[0m         \u001b[1;31m# this can be fault as the prediction will most likely not be round\u001b[0m\u001b[1;33m\u001b[0m\u001b[1;33m\u001b[0m\u001b[1;33m\u001b[0m\u001b[0m\n",
      "\u001b[1;32mc:\\github\\ecam\\machine_learning\\ai-project-smile\\venv\\lib\\site-packages\\tensorflow\\python\\keras\\engine\\training.py\u001b[0m in \u001b[0;36mpredict\u001b[1;34m(self, x, batch_size, verbose, steps, callbacks, max_queue_size, workers, use_multiprocessing)\u001b[0m\n\u001b[0;32m   1627\u001b[0m           \u001b[1;32mfor\u001b[0m \u001b[0mstep\u001b[0m \u001b[1;32min\u001b[0m \u001b[0mdata_handler\u001b[0m\u001b[1;33m.\u001b[0m\u001b[0msteps\u001b[0m\u001b[1;33m(\u001b[0m\u001b[1;33m)\u001b[0m\u001b[1;33m:\u001b[0m\u001b[1;33m\u001b[0m\u001b[1;33m\u001b[0m\u001b[0m\n\u001b[0;32m   1628\u001b[0m             \u001b[0mcallbacks\u001b[0m\u001b[1;33m.\u001b[0m\u001b[0mon_predict_batch_begin\u001b[0m\u001b[1;33m(\u001b[0m\u001b[0mstep\u001b[0m\u001b[1;33m)\u001b[0m\u001b[1;33m\u001b[0m\u001b[1;33m\u001b[0m\u001b[0m\n\u001b[1;32m-> 1629\u001b[1;33m             \u001b[0mtmp_batch_outputs\u001b[0m \u001b[1;33m=\u001b[0m \u001b[0mself\u001b[0m\u001b[1;33m.\u001b[0m\u001b[0mpredict_function\u001b[0m\u001b[1;33m(\u001b[0m\u001b[0miterator\u001b[0m\u001b[1;33m)\u001b[0m\u001b[1;33m\u001b[0m\u001b[1;33m\u001b[0m\u001b[0m\n\u001b[0m\u001b[0;32m   1630\u001b[0m             \u001b[1;32mif\u001b[0m \u001b[0mdata_handler\u001b[0m\u001b[1;33m.\u001b[0m\u001b[0mshould_sync\u001b[0m\u001b[1;33m:\u001b[0m\u001b[1;33m\u001b[0m\u001b[1;33m\u001b[0m\u001b[0m\n\u001b[0;32m   1631\u001b[0m               \u001b[0mcontext\u001b[0m\u001b[1;33m.\u001b[0m\u001b[0masync_wait\u001b[0m\u001b[1;33m(\u001b[0m\u001b[1;33m)\u001b[0m\u001b[1;33m\u001b[0m\u001b[1;33m\u001b[0m\u001b[0m\n",
      "\u001b[1;32mc:\\github\\ecam\\machine_learning\\ai-project-smile\\venv\\lib\\site-packages\\tensorflow\\python\\eager\\def_function.py\u001b[0m in \u001b[0;36m__call__\u001b[1;34m(self, *args, **kwds)\u001b[0m\n\u001b[0;32m    826\u001b[0m     \u001b[0mtracing_count\u001b[0m \u001b[1;33m=\u001b[0m \u001b[0mself\u001b[0m\u001b[1;33m.\u001b[0m\u001b[0mexperimental_get_tracing_count\u001b[0m\u001b[1;33m(\u001b[0m\u001b[1;33m)\u001b[0m\u001b[1;33m\u001b[0m\u001b[1;33m\u001b[0m\u001b[0m\n\u001b[0;32m    827\u001b[0m     \u001b[1;32mwith\u001b[0m \u001b[0mtrace\u001b[0m\u001b[1;33m.\u001b[0m\u001b[0mTrace\u001b[0m\u001b[1;33m(\u001b[0m\u001b[0mself\u001b[0m\u001b[1;33m.\u001b[0m\u001b[0m_name\u001b[0m\u001b[1;33m)\u001b[0m \u001b[1;32mas\u001b[0m \u001b[0mtm\u001b[0m\u001b[1;33m:\u001b[0m\u001b[1;33m\u001b[0m\u001b[1;33m\u001b[0m\u001b[0m\n\u001b[1;32m--> 828\u001b[1;33m       \u001b[0mresult\u001b[0m \u001b[1;33m=\u001b[0m \u001b[0mself\u001b[0m\u001b[1;33m.\u001b[0m\u001b[0m_call\u001b[0m\u001b[1;33m(\u001b[0m\u001b[1;33m*\u001b[0m\u001b[0margs\u001b[0m\u001b[1;33m,\u001b[0m \u001b[1;33m**\u001b[0m\u001b[0mkwds\u001b[0m\u001b[1;33m)\u001b[0m\u001b[1;33m\u001b[0m\u001b[1;33m\u001b[0m\u001b[0m\n\u001b[0m\u001b[0;32m    829\u001b[0m       \u001b[0mcompiler\u001b[0m \u001b[1;33m=\u001b[0m \u001b[1;34m\"xla\"\u001b[0m \u001b[1;32mif\u001b[0m \u001b[0mself\u001b[0m\u001b[1;33m.\u001b[0m\u001b[0m_experimental_compile\u001b[0m \u001b[1;32melse\u001b[0m \u001b[1;34m\"nonXla\"\u001b[0m\u001b[1;33m\u001b[0m\u001b[1;33m\u001b[0m\u001b[0m\n\u001b[0;32m    830\u001b[0m       \u001b[0mnew_tracing_count\u001b[0m \u001b[1;33m=\u001b[0m \u001b[0mself\u001b[0m\u001b[1;33m.\u001b[0m\u001b[0mexperimental_get_tracing_count\u001b[0m\u001b[1;33m(\u001b[0m\u001b[1;33m)\u001b[0m\u001b[1;33m\u001b[0m\u001b[1;33m\u001b[0m\u001b[0m\n",
      "\u001b[1;32mc:\\github\\ecam\\machine_learning\\ai-project-smile\\venv\\lib\\site-packages\\tensorflow\\python\\eager\\def_function.py\u001b[0m in \u001b[0;36m_call\u001b[1;34m(self, *args, **kwds)\u001b[0m\n\u001b[0;32m    869\u001b[0m       \u001b[1;31m# This is the first call of __call__, so we have to initialize.\u001b[0m\u001b[1;33m\u001b[0m\u001b[1;33m\u001b[0m\u001b[1;33m\u001b[0m\u001b[0m\n\u001b[0;32m    870\u001b[0m       \u001b[0minitializers\u001b[0m \u001b[1;33m=\u001b[0m \u001b[1;33m[\u001b[0m\u001b[1;33m]\u001b[0m\u001b[1;33m\u001b[0m\u001b[1;33m\u001b[0m\u001b[0m\n\u001b[1;32m--> 871\u001b[1;33m       \u001b[0mself\u001b[0m\u001b[1;33m.\u001b[0m\u001b[0m_initialize\u001b[0m\u001b[1;33m(\u001b[0m\u001b[0margs\u001b[0m\u001b[1;33m,\u001b[0m \u001b[0mkwds\u001b[0m\u001b[1;33m,\u001b[0m \u001b[0madd_initializers_to\u001b[0m\u001b[1;33m=\u001b[0m\u001b[0minitializers\u001b[0m\u001b[1;33m)\u001b[0m\u001b[1;33m\u001b[0m\u001b[1;33m\u001b[0m\u001b[0m\n\u001b[0m\u001b[0;32m    872\u001b[0m     \u001b[1;32mfinally\u001b[0m\u001b[1;33m:\u001b[0m\u001b[1;33m\u001b[0m\u001b[1;33m\u001b[0m\u001b[0m\n\u001b[0;32m    873\u001b[0m       \u001b[1;31m# At this point we know that the initialization is complete (or less\u001b[0m\u001b[1;33m\u001b[0m\u001b[1;33m\u001b[0m\u001b[1;33m\u001b[0m\u001b[0m\n",
      "\u001b[1;32mc:\\github\\ecam\\machine_learning\\ai-project-smile\\venv\\lib\\site-packages\\tensorflow\\python\\eager\\def_function.py\u001b[0m in \u001b[0;36m_initialize\u001b[1;34m(self, args, kwds, add_initializers_to)\u001b[0m\n\u001b[0;32m    723\u001b[0m     \u001b[0mself\u001b[0m\u001b[1;33m.\u001b[0m\u001b[0m_graph_deleter\u001b[0m \u001b[1;33m=\u001b[0m \u001b[0mFunctionDeleter\u001b[0m\u001b[1;33m(\u001b[0m\u001b[0mself\u001b[0m\u001b[1;33m.\u001b[0m\u001b[0m_lifted_initializer_graph\u001b[0m\u001b[1;33m)\u001b[0m\u001b[1;33m\u001b[0m\u001b[1;33m\u001b[0m\u001b[0m\n\u001b[0;32m    724\u001b[0m     self._concrete_stateful_fn = (\n\u001b[1;32m--> 725\u001b[1;33m         self._stateful_fn._get_concrete_function_internal_garbage_collected(  # pylint: disable=protected-access\n\u001b[0m\u001b[0;32m    726\u001b[0m             *args, **kwds))\n\u001b[0;32m    727\u001b[0m \u001b[1;33m\u001b[0m\u001b[0m\n",
      "\u001b[1;32mc:\\github\\ecam\\machine_learning\\ai-project-smile\\venv\\lib\\site-packages\\tensorflow\\python\\eager\\function.py\u001b[0m in \u001b[0;36m_get_concrete_function_internal_garbage_collected\u001b[1;34m(self, *args, **kwargs)\u001b[0m\n\u001b[0;32m   2967\u001b[0m       \u001b[0margs\u001b[0m\u001b[1;33m,\u001b[0m \u001b[0mkwargs\u001b[0m \u001b[1;33m=\u001b[0m \u001b[1;32mNone\u001b[0m\u001b[1;33m,\u001b[0m \u001b[1;32mNone\u001b[0m\u001b[1;33m\u001b[0m\u001b[1;33m\u001b[0m\u001b[0m\n\u001b[0;32m   2968\u001b[0m     \u001b[1;32mwith\u001b[0m \u001b[0mself\u001b[0m\u001b[1;33m.\u001b[0m\u001b[0m_lock\u001b[0m\u001b[1;33m:\u001b[0m\u001b[1;33m\u001b[0m\u001b[1;33m\u001b[0m\u001b[0m\n\u001b[1;32m-> 2969\u001b[1;33m       \u001b[0mgraph_function\u001b[0m\u001b[1;33m,\u001b[0m \u001b[0m_\u001b[0m \u001b[1;33m=\u001b[0m \u001b[0mself\u001b[0m\u001b[1;33m.\u001b[0m\u001b[0m_maybe_define_function\u001b[0m\u001b[1;33m(\u001b[0m\u001b[0margs\u001b[0m\u001b[1;33m,\u001b[0m \u001b[0mkwargs\u001b[0m\u001b[1;33m)\u001b[0m\u001b[1;33m\u001b[0m\u001b[1;33m\u001b[0m\u001b[0m\n\u001b[0m\u001b[0;32m   2970\u001b[0m     \u001b[1;32mreturn\u001b[0m \u001b[0mgraph_function\u001b[0m\u001b[1;33m\u001b[0m\u001b[1;33m\u001b[0m\u001b[0m\n\u001b[0;32m   2971\u001b[0m \u001b[1;33m\u001b[0m\u001b[0m\n",
      "\u001b[1;32mc:\\github\\ecam\\machine_learning\\ai-project-smile\\venv\\lib\\site-packages\\tensorflow\\python\\eager\\function.py\u001b[0m in \u001b[0;36m_maybe_define_function\u001b[1;34m(self, args, kwargs)\u001b[0m\n\u001b[0;32m   3359\u001b[0m \u001b[1;33m\u001b[0m\u001b[0m\n\u001b[0;32m   3360\u001b[0m           \u001b[0mself\u001b[0m\u001b[1;33m.\u001b[0m\u001b[0m_function_cache\u001b[0m\u001b[1;33m.\u001b[0m\u001b[0mmissed\u001b[0m\u001b[1;33m.\u001b[0m\u001b[0madd\u001b[0m\u001b[1;33m(\u001b[0m\u001b[0mcall_context_key\u001b[0m\u001b[1;33m)\u001b[0m\u001b[1;33m\u001b[0m\u001b[1;33m\u001b[0m\u001b[0m\n\u001b[1;32m-> 3361\u001b[1;33m           \u001b[0mgraph_function\u001b[0m \u001b[1;33m=\u001b[0m \u001b[0mself\u001b[0m\u001b[1;33m.\u001b[0m\u001b[0m_create_graph_function\u001b[0m\u001b[1;33m(\u001b[0m\u001b[0margs\u001b[0m\u001b[1;33m,\u001b[0m \u001b[0mkwargs\u001b[0m\u001b[1;33m)\u001b[0m\u001b[1;33m\u001b[0m\u001b[1;33m\u001b[0m\u001b[0m\n\u001b[0m\u001b[0;32m   3362\u001b[0m           \u001b[0mself\u001b[0m\u001b[1;33m.\u001b[0m\u001b[0m_function_cache\u001b[0m\u001b[1;33m.\u001b[0m\u001b[0mprimary\u001b[0m\u001b[1;33m[\u001b[0m\u001b[0mcache_key\u001b[0m\u001b[1;33m]\u001b[0m \u001b[1;33m=\u001b[0m \u001b[0mgraph_function\u001b[0m\u001b[1;33m\u001b[0m\u001b[1;33m\u001b[0m\u001b[0m\n\u001b[0;32m   3363\u001b[0m \u001b[1;33m\u001b[0m\u001b[0m\n",
      "\u001b[1;32mc:\\github\\ecam\\machine_learning\\ai-project-smile\\venv\\lib\\site-packages\\tensorflow\\python\\eager\\function.py\u001b[0m in \u001b[0;36m_create_graph_function\u001b[1;34m(self, args, kwargs, override_flat_arg_shapes)\u001b[0m\n\u001b[0;32m   3194\u001b[0m     \u001b[0marg_names\u001b[0m \u001b[1;33m=\u001b[0m \u001b[0mbase_arg_names\u001b[0m \u001b[1;33m+\u001b[0m \u001b[0mmissing_arg_names\u001b[0m\u001b[1;33m\u001b[0m\u001b[1;33m\u001b[0m\u001b[0m\n\u001b[0;32m   3195\u001b[0m     graph_function = ConcreteFunction(\n\u001b[1;32m-> 3196\u001b[1;33m         func_graph_module.func_graph_from_py_func(\n\u001b[0m\u001b[0;32m   3197\u001b[0m             \u001b[0mself\u001b[0m\u001b[1;33m.\u001b[0m\u001b[0m_name\u001b[0m\u001b[1;33m,\u001b[0m\u001b[1;33m\u001b[0m\u001b[1;33m\u001b[0m\u001b[0m\n\u001b[0;32m   3198\u001b[0m             \u001b[0mself\u001b[0m\u001b[1;33m.\u001b[0m\u001b[0m_python_function\u001b[0m\u001b[1;33m,\u001b[0m\u001b[1;33m\u001b[0m\u001b[1;33m\u001b[0m\u001b[0m\n",
      "\u001b[1;32mc:\\github\\ecam\\machine_learning\\ai-project-smile\\venv\\lib\\site-packages\\tensorflow\\python\\framework\\func_graph.py\u001b[0m in \u001b[0;36mfunc_graph_from_py_func\u001b[1;34m(name, python_func, args, kwargs, signature, func_graph, autograph, autograph_options, add_control_dependencies, arg_names, op_return_value, collections, capture_by_value, override_flat_arg_shapes)\u001b[0m\n\u001b[0;32m    988\u001b[0m         \u001b[0m_\u001b[0m\u001b[1;33m,\u001b[0m \u001b[0moriginal_func\u001b[0m \u001b[1;33m=\u001b[0m \u001b[0mtf_decorator\u001b[0m\u001b[1;33m.\u001b[0m\u001b[0munwrap\u001b[0m\u001b[1;33m(\u001b[0m\u001b[0mpython_func\u001b[0m\u001b[1;33m)\u001b[0m\u001b[1;33m\u001b[0m\u001b[1;33m\u001b[0m\u001b[0m\n\u001b[0;32m    989\u001b[0m \u001b[1;33m\u001b[0m\u001b[0m\n\u001b[1;32m--> 990\u001b[1;33m       \u001b[0mfunc_outputs\u001b[0m \u001b[1;33m=\u001b[0m \u001b[0mpython_func\u001b[0m\u001b[1;33m(\u001b[0m\u001b[1;33m*\u001b[0m\u001b[0mfunc_args\u001b[0m\u001b[1;33m,\u001b[0m \u001b[1;33m**\u001b[0m\u001b[0mfunc_kwargs\u001b[0m\u001b[1;33m)\u001b[0m\u001b[1;33m\u001b[0m\u001b[1;33m\u001b[0m\u001b[0m\n\u001b[0m\u001b[0;32m    991\u001b[0m \u001b[1;33m\u001b[0m\u001b[0m\n\u001b[0;32m    992\u001b[0m       \u001b[1;31m# invariant: `func_outputs` contains only Tensors, CompositeTensors,\u001b[0m\u001b[1;33m\u001b[0m\u001b[1;33m\u001b[0m\u001b[1;33m\u001b[0m\u001b[0m\n",
      "\u001b[1;32mc:\\github\\ecam\\machine_learning\\ai-project-smile\\venv\\lib\\site-packages\\tensorflow\\python\\eager\\def_function.py\u001b[0m in \u001b[0;36mwrapped_fn\u001b[1;34m(*args, **kwds)\u001b[0m\n\u001b[0;32m    632\u001b[0m             \u001b[0mxla_context\u001b[0m\u001b[1;33m.\u001b[0m\u001b[0mExit\u001b[0m\u001b[1;33m(\u001b[0m\u001b[1;33m)\u001b[0m\u001b[1;33m\u001b[0m\u001b[1;33m\u001b[0m\u001b[0m\n\u001b[0;32m    633\u001b[0m         \u001b[1;32melse\u001b[0m\u001b[1;33m:\u001b[0m\u001b[1;33m\u001b[0m\u001b[1;33m\u001b[0m\u001b[0m\n\u001b[1;32m--> 634\u001b[1;33m           \u001b[0mout\u001b[0m \u001b[1;33m=\u001b[0m \u001b[0mweak_wrapped_fn\u001b[0m\u001b[1;33m(\u001b[0m\u001b[1;33m)\u001b[0m\u001b[1;33m.\u001b[0m\u001b[0m__wrapped__\u001b[0m\u001b[1;33m(\u001b[0m\u001b[1;33m*\u001b[0m\u001b[0margs\u001b[0m\u001b[1;33m,\u001b[0m \u001b[1;33m**\u001b[0m\u001b[0mkwds\u001b[0m\u001b[1;33m)\u001b[0m\u001b[1;33m\u001b[0m\u001b[1;33m\u001b[0m\u001b[0m\n\u001b[0m\u001b[0;32m    635\u001b[0m         \u001b[1;32mreturn\u001b[0m \u001b[0mout\u001b[0m\u001b[1;33m\u001b[0m\u001b[1;33m\u001b[0m\u001b[0m\n\u001b[0;32m    636\u001b[0m \u001b[1;33m\u001b[0m\u001b[0m\n",
      "\u001b[1;32mc:\\github\\ecam\\machine_learning\\ai-project-smile\\venv\\lib\\site-packages\\tensorflow\\python\\framework\\func_graph.py\u001b[0m in \u001b[0;36mwrapper\u001b[1;34m(*args, **kwargs)\u001b[0m\n\u001b[0;32m    975\u001b[0m           \u001b[1;32mexcept\u001b[0m \u001b[0mException\u001b[0m \u001b[1;32mas\u001b[0m \u001b[0me\u001b[0m\u001b[1;33m:\u001b[0m  \u001b[1;31m# pylint:disable=broad-except\u001b[0m\u001b[1;33m\u001b[0m\u001b[1;33m\u001b[0m\u001b[0m\n\u001b[0;32m    976\u001b[0m             \u001b[1;32mif\u001b[0m \u001b[0mhasattr\u001b[0m\u001b[1;33m(\u001b[0m\u001b[0me\u001b[0m\u001b[1;33m,\u001b[0m \u001b[1;34m\"ag_error_metadata\"\u001b[0m\u001b[1;33m)\u001b[0m\u001b[1;33m:\u001b[0m\u001b[1;33m\u001b[0m\u001b[1;33m\u001b[0m\u001b[0m\n\u001b[1;32m--> 977\u001b[1;33m               \u001b[1;32mraise\u001b[0m \u001b[0me\u001b[0m\u001b[1;33m.\u001b[0m\u001b[0mag_error_metadata\u001b[0m\u001b[1;33m.\u001b[0m\u001b[0mto_exception\u001b[0m\u001b[1;33m(\u001b[0m\u001b[0me\u001b[0m\u001b[1;33m)\u001b[0m\u001b[1;33m\u001b[0m\u001b[1;33m\u001b[0m\u001b[0m\n\u001b[0m\u001b[0;32m    978\u001b[0m             \u001b[1;32melse\u001b[0m\u001b[1;33m:\u001b[0m\u001b[1;33m\u001b[0m\u001b[1;33m\u001b[0m\u001b[0m\n\u001b[0;32m    979\u001b[0m               \u001b[1;32mraise\u001b[0m\u001b[1;33m\u001b[0m\u001b[1;33m\u001b[0m\u001b[0m\n",
      "\u001b[1;31mValueError\u001b[0m: in user code:\n\n    c:\\github\\ecam\\machine_learning\\ai-project-smile\\venv\\lib\\site-packages\\tensorflow\\python\\keras\\engine\\training.py:1478 predict_function  *\n        return step_function(self, iterator)\n    c:\\github\\ecam\\machine_learning\\ai-project-smile\\venv\\lib\\site-packages\\tensorflow\\python\\keras\\engine\\training.py:1468 step_function  **\n        outputs = model.distribute_strategy.run(run_step, args=(data,))\n    c:\\github\\ecam\\machine_learning\\ai-project-smile\\venv\\lib\\site-packages\\tensorflow\\python\\distribute\\distribute_lib.py:1259 run\n        return self._extended.call_for_each_replica(fn, args=args, kwargs=kwargs)\n    c:\\github\\ecam\\machine_learning\\ai-project-smile\\venv\\lib\\site-packages\\tensorflow\\python\\distribute\\distribute_lib.py:2730 call_for_each_replica\n        return self._call_for_each_replica(fn, args, kwargs)\n    c:\\github\\ecam\\machine_learning\\ai-project-smile\\venv\\lib\\site-packages\\tensorflow\\python\\distribute\\distribute_lib.py:3417 _call_for_each_replica\n        return fn(*args, **kwargs)\n    c:\\github\\ecam\\machine_learning\\ai-project-smile\\venv\\lib\\site-packages\\tensorflow\\python\\keras\\engine\\training.py:1461 run_step  **\n        outputs = model.predict_step(data)\n    c:\\github\\ecam\\machine_learning\\ai-project-smile\\venv\\lib\\site-packages\\tensorflow\\python\\keras\\engine\\training.py:1434 predict_step\n        return self(x, training=False)\n    c:\\github\\ecam\\machine_learning\\ai-project-smile\\venv\\lib\\site-packages\\tensorflow\\python\\keras\\engine\\base_layer.py:998 __call__\n        input_spec.assert_input_compatibility(self.input_spec, inputs, self.name)\n    c:\\github\\ecam\\machine_learning\\ai-project-smile\\venv\\lib\\site-packages\\tensorflow\\python\\keras\\engine\\input_spec.py:255 assert_input_compatibility\n        raise ValueError(\n\n    ValueError: Input 0 of layer sequential_3 is incompatible with the layer: expected axis -1 of input shape to have value 1 but received input with shape (None, 48, 48, 3)\n"
     ]
    }
   ],
   "source": [
    "cnn_model.predict('../dataset/fer2013/test/angry/PrivateTest_88305.jpg',\n",
    "                        data_processor.get_emotions_dataset,\n",
    "                        data_processor.get_emotions_indices)"
   ],
   "metadata": {
    "collapsed": false,
    "pycharm": {
     "name": "#%%\n"
    }
   }
  }
 ],
 "metadata": {
  "kernelspec": {
   "display_name": "Python 3",
   "language": "python",
   "name": "python3"
  },
  "language_info": {
   "codemirror_mode": {
    "name": "ipython",
    "version": 2
   },
   "file_extension": ".py",
   "mimetype": "text/x-python",
   "name": "python",
   "nbconvert_exporter": "python",
   "pygments_lexer": "ipython2",
   "version": "3.8.8-final"
  }
 },
 "nbformat": 4,
 "nbformat_minor": 0
}