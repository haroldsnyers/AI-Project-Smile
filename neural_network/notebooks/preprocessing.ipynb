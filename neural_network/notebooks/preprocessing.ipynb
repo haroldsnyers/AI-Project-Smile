{
 "cells": [
  {
   "cell_type": "code",
   "execution_count": 30,
   "metadata": {
    "collapsed": true
   },
   "outputs": [],
   "source": [
    "import numpy as np\n",
    "from os import listdir\n",
    "import shutil\n",
    "\n",
    "path_train = '../dataset/affectnet8/train_set/'\n",
    "path_val = '../dataset/affectnet8/val_set/'\n",
    "\n",
    "def find_labels_filenames(path_to_dir, suffix=\"_exp.npy\" ):\n",
    "    filenames = listdir(os.path.join(path_to_dir, 'annotations/'))\n",
    "    return [ filename for filename in filenames if filename.endswith( suffix ) ]\n",
    "\n",
    "files_train = find_labels_filenames(path_train)\n",
    "files_val = find_labels_filenames(path_val)\n"
   ]
  },
  {
   "cell_type": "code",
   "execution_count": 31,
   "metadata": {},
   "outputs": [
    {
     "output_type": "execute_result",
     "data": {
      "text/plain": [
       "'1'"
      ]
     },
     "metadata": {},
     "execution_count": 31
    }
   ],
   "source": [
    "data = np.load('../dataset/affectnet8/train_set/annotations/0_exp.npy')\n",
    "data.item()"
   ]
  },
  {
   "cell_type": "code",
   "execution_count": 32,
   "metadata": {},
   "outputs": [],
   "source": [
    "expression_cat = {0: 'Neutral', 1: 'Happiness', 2: 'Sadness', 3: 'Surprise', 4: 'Fear', 5: 'Disgust', 6: 'Anger', 7: 'Contempt', 8: 'None', 9: 'Uncertain', 10: 'No-Face'}"
   ]
  },
  {
   "cell_type": "code",
   "execution_count": 33,
   "metadata": {},
   "outputs": [],
   "source": [
    "if not os.path.exists('../dataset/tmp/newdir'):\n",
    "    os.makedirs('../dataset/tmp/newdir')"
   ]
  },
  {
   "cell_type": "code",
   "execution_count": 36,
   "metadata": {
    "tags": []
   },
   "outputs": [],
   "source": [
    "for file in files_val:\n",
    "    data = np.load(os.path.join(path_val, 'annotations/' + file))\n",
    "    id_image = file.split('_')[0]\n",
    "    direc = expression_cat[int(data.item())]\n",
    "    src_image = os.path.join(path_val, 'images/', id_image + '.jpg')\n",
    "    dir_expr = '../dataset/affectnet8/val/' + direc\n",
    "    new_dir_image = os.path.join(dir_expr + '/', id_image + '.jpg')\n",
    "    if not os.path.exists(dir_expr):\n",
    "        os.makedirs(dir_expr)\n",
    "    if os.path.exists(src_image):\n",
    "        shutil.copyfile(src_image, new_dir_image)"
   ]
  },
  {
   "cell_type": "code",
   "execution_count": null,
   "metadata": {},
   "outputs": [],
   "source": []
  }
 ],
 "metadata": {
  "kernelspec": {
   "display_name": "Python 3",
   "language": "python",
   "name": "python3"
  },
  "language_info": {
   "codemirror_mode": {
    "name": "ipython",
    "version": 2
   },
   "file_extension": ".py",
   "mimetype": "text/x-python",
   "name": "python",
   "nbconvert_exporter": "python",
   "pygments_lexer": "ipython2",
   "version": "3.8.8-final"
  }
 },
 "nbformat": 4,
 "nbformat_minor": 0
}